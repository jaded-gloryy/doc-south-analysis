{
 "cells": [
  {
   "attachments": {},
   "cell_type": "markdown",
   "metadata": {},
   "source": [
    "# An analysis of the influence of Black Southern Churches on the Southern Black Community\n",
    "\n",
    "## Background:\n",
    "\n",
    "Documenting the American South is one of the longest running digital publishing initiatives at the University of North Carolina. It was designed to give researchers digital access to some of the library’s unique collections in the form of high quality page scans as well as structured, corrected and machine readable text. (https://docsouth.unc.edu/docsouthdata/)\n",
    "\n",
    "## Goal: \n",
    "\n",
    "Analyze rhetoric of the Black Southern Church in the American South and it's effects on documents written by self emancipated and previously enslaved Black people.\n",
    "\n",
    "## Research question:\n",
    "\n",
    "Are there any measurable similaries between the themes of documents from Southern Black churches and the documents from self-emancipated and freed Black people? \n",
    "\n",
    "## Approach:\n",
    "\n",
    "[Documenting The American South](https://docsouth.unc.edu/) is one of the longest running efforts by the University of North Carolina to collect, digitize, and publish documents from self-emancipated and freed Black people. Using [DocSouth Data](https://docsouth.unc.edu/docsouthdata/) and data from the [Religious Text Content Guide](https://docsouth.unc.edu/neh/religiouscontent.html), analyze the correlation between autobiographies, biographies, church documents, sermons, histories, encyclopedias, and other published materials from Southern Black churches and the narratives of slaves in regards to religion.\n",
    "\n",
    "Proposed analysis:\n",
    "\n",
    "- Evaluate language of both data sets\n",
    "- Evaluate themes of both data sets\n",
    "- Using data from the [Religious Text Content Guide](https://docsouth.unc.edu/neh/religiouscontent.html), develop a theme predictor for texts\n",
    "- Evaluate how much (if any) thematic overlap there is between religious texts and slave narratives\n",
    "\n",
    "## Repo contents:\n",
    "- [SouthernBlackChurchRhetoric](https://github.com/jaded-gloryy/doc-south-analysis/blob/main/SouthernBlackChurchRhetoric.ipynb) contains all analysis.\n",
    "- [Scrape_website](https://github.com/jaded-gloryy/doc-south-analysis/blob/main/scrape_website.py) contains the functions used to obtain [Religious Text Content Guide](https://docsouth.unc.edu/neh/religiouscontent.html) data.\n",
    "- [Utils](https://github.com/jaded-gloryy/doc-south-analysis/blob/main/utils.py) contains generic functions for parsing an html document.\n"
   ]
  },
  {
   "attachments": {},
   "cell_type": "markdown",
   "metadata": {},
   "source": [
    "data: \n",
    "https://www.kaggle.com/datasets/docsouth-data/the-church-in-the-southern-black-community\n",
    "https://docsouth.unc.edu/neh/religiouscontent.html\n",
    "\n",
    "note from kaggle compiler:\n",
    "If you make use of this data, considering letting the holder of the original collection know how you are using the data and if you have any suggestions for making it even more useful. Send any feedback to wilsonlibrary@unc.edu."
   ]
  },
  {
   "attachments": {},
   "cell_type": "markdown",
   "metadata": {},
   "source": [
    "### Data preprocessing"
   ]
  },
  {
   "attachments": {},
   "cell_type": "markdown",
   "metadata": {},
   "source": [
    "##### Get content guide data"
   ]
  },
  {
   "attachments": {},
   "cell_type": "markdown",
   "metadata": {},
   "source": [
    "Data was scraped from [religious text content guide data](https://docsouth.unc.edu/neh/religiouscontent.html)."
   ]
  },
  {
   "cell_type": "code",
   "execution_count": 10,
   "metadata": {},
   "outputs": [],
   "source": [
    "# reading in data from txt\n",
    "ctt = open(\"cleaned_thematic_text.txt\", \"r\")\n",
    "data = ctt.read()\n",
    "  \n",
    "# replacing end splitting the text \n",
    "# when newline ('\\n') is seen.\n",
    "data_into_list = data.split(\"\\n\")\n",
    "len(data_into_list)\n",
    "#removing the last empty line\n",
    "thematic_texts = data_into_list[:388]\n",
    "ctt.close()\n"
   ]
  },
  {
   "attachments": {},
   "cell_type": "markdown",
   "metadata": {},
   "source": [
    "#### Read in table of contents data\n",
    "\n",
    "The following code prepares DocSouth general data for analysis."
   ]
  },
  {
   "cell_type": "code",
   "execution_count": 37,
   "metadata": {},
   "outputs": [
    {
     "name": "stderr",
     "output_type": "stream",
     "text": [
      "/var/folders/18/918s5vr16kl9091zgnswr5gm0000gn/T/ipykernel_31011/1312451733.py:11: FutureWarning: The default value of regex will change from True to False in a future version.\n",
      "  txt_filename = contents_table.Filename.str.replace(\".xml\", \".txt\")\n"
     ]
    }
   ],
   "source": [
    "import pandas as pd\n",
    "import numpy as np\n",
    "# from pandas import DataFrame as df\n",
    "from  config import CONFIG\n",
    "\n",
    "#read in toc table\n",
    "#replace .xml with .txt for filenames\n",
    "# remove anything in [] from txt files\n",
    "toc_data = CONFIG[\"TOC_FILEPATH\"]\n",
    "contents_table = pd.read_csv(toc_data)\n",
    "txt_filename = contents_table.Filename.str.replace(\".xml\", \".txt\")\n",
    "\n",
    "# get every entry, drop .xml and replace it with .txt\n",
    "contents_table[\"txt_filename\"] = txt_filename\n",
    "\n",
    "# make new table\n",
    "specified_content_cols = [\"txt_filename\", \"Date\", \"Author\", \"Title\"]\n",
    "content_ref_table = contents_table[specified_content_cols]\n",
    "\n",
    "# also read in content guide data and classifier data\n",
    "content_guide_data = pd.read_csv(CONFIG[\"CGD_FILEPATH\"])\n",
    "classifier_df = pd.read_csv(CONFIG[\"DATA_FOR_CLASSIFIER\"])"
   ]
  },
  {
   "cell_type": "code",
   "execution_count": 38,
   "metadata": {},
   "outputs": [
    {
     "data": {
      "text/html": [
       "<div>\n",
       "<style scoped>\n",
       "    .dataframe tbody tr th:only-of-type {\n",
       "        vertical-align: middle;\n",
       "    }\n",
       "\n",
       "    .dataframe tbody tr th {\n",
       "        vertical-align: top;\n",
       "    }\n",
       "\n",
       "    .dataframe thead th {\n",
       "        text-align: right;\n",
       "    }\n",
       "</style>\n",
       "<table border=\"1\" class=\"dataframe\">\n",
       "  <thead>\n",
       "    <tr style=\"text-align: right;\">\n",
       "      <th></th>\n",
       "      <th>txt_filename</th>\n",
       "      <th>year</th>\n",
       "      <th>author</th>\n",
       "      <th>title</th>\n",
       "    </tr>\n",
       "  </thead>\n",
       "  <tbody>\n",
       "    <tr>\n",
       "      <th>0</th>\n",
       "      <td>church-ridgel-ridgel.txt</td>\n",
       "      <td>1896</td>\n",
       "      <td>Alfred Lee Ridgel</td>\n",
       "      <td>Africa and African Methodism</td>\n",
       "    </tr>\n",
       "    <tr>\n",
       "      <th>1</th>\n",
       "      <td>church-bowen-bowen.txt</td>\n",
       "      <td>1896</td>\n",
       "      <td>J. W. E. Bowen</td>\n",
       "      <td>Africa and the American Negro: Addresses and P...</td>\n",
       "    </tr>\n",
       "    <tr>\n",
       "      <th>2</th>\n",
       "      <td>neh-johnsontl-johnsontl.txt</td>\n",
       "      <td>1892</td>\n",
       "      <td>Thomas L. Johnson</td>\n",
       "      <td>Africa for Christ. Twenty-Eight Years a Slave</td>\n",
       "    </tr>\n",
       "    <tr>\n",
       "      <th>3</th>\n",
       "      <td>church-turneral-turner.txt</td>\n",
       "      <td>1893</td>\n",
       "      <td>Henry McNeal Turner</td>\n",
       "      <td>African Letters</td>\n",
       "    </tr>\n",
       "    <tr>\n",
       "      <th>4</th>\n",
       "      <td>church-gaineswj-gaines.txt</td>\n",
       "      <td>1890</td>\n",
       "      <td>W. J. Gaines</td>\n",
       "      <td>African Methodism in the South; or, Twenty-Fiv...</td>\n",
       "    </tr>\n",
       "    <tr>\n",
       "      <th>...</th>\n",
       "      <td>...</td>\n",
       "      <td>...</td>\n",
       "      <td>...</td>\n",
       "      <td>...</td>\n",
       "    </tr>\n",
       "    <tr>\n",
       "      <th>139</th>\n",
       "      <td>church-wheeler-wheeler.txt</td>\n",
       "      <td>1906</td>\n",
       "      <td>B. F. Wheeler</td>\n",
       "      <td>The Varick Family</td>\n",
       "    </tr>\n",
       "    <tr>\n",
       "      <th>140</th>\n",
       "      <td>church-cooper-cooper.txt</td>\n",
       "      <td>1892</td>\n",
       "      <td>Anna J. Cooper</td>\n",
       "      <td>A Voice from the South</td>\n",
       "    </tr>\n",
       "    <tr>\n",
       "      <th>141</th>\n",
       "      <td>neh-wilkerson-wilkerson.txt</td>\n",
       "      <td>1861</td>\n",
       "      <td>Major James Wilkerson</td>\n",
       "      <td>Wilkerson's History of His Travels &amp;amp; Labor...</td>\n",
       "    </tr>\n",
       "    <tr>\n",
       "      <th>142</th>\n",
       "      <td>church-brawley-brawley.txt</td>\n",
       "      <td>c1919</td>\n",
       "      <td>Benjamin Griffith Brawley</td>\n",
       "      <td>Women of Achievement: Written for the Fireside...</td>\n",
       "    </tr>\n",
       "    <tr>\n",
       "      <th>143</th>\n",
       "      <td>church-pierre-pierre.txt</td>\n",
       "      <td>1916</td>\n",
       "      <td>C. E. Pierre</td>\n",
       "      <td>The Work of the Society for the Propagation of...</td>\n",
       "    </tr>\n",
       "  </tbody>\n",
       "</table>\n",
       "<p>144 rows × 4 columns</p>\n",
       "</div>"
      ],
      "text/plain": [
       "                    txt_filename   year                     author  \\\n",
       "0       church-ridgel-ridgel.txt   1896          Alfred Lee Ridgel   \n",
       "1         church-bowen-bowen.txt   1896             J. W. E. Bowen   \n",
       "2    neh-johnsontl-johnsontl.txt   1892          Thomas L. Johnson   \n",
       "3     church-turneral-turner.txt   1893        Henry McNeal Turner   \n",
       "4     church-gaineswj-gaines.txt   1890               W. J. Gaines   \n",
       "..                           ...    ...                        ...   \n",
       "139   church-wheeler-wheeler.txt   1906              B. F. Wheeler   \n",
       "140     church-cooper-cooper.txt   1892             Anna J. Cooper   \n",
       "141  neh-wilkerson-wilkerson.txt   1861      Major James Wilkerson   \n",
       "142   church-brawley-brawley.txt  c1919  Benjamin Griffith Brawley   \n",
       "143     church-pierre-pierre.txt   1916               C. E. Pierre   \n",
       "\n",
       "                                                 title  \n",
       "0                         Africa and African Methodism  \n",
       "1    Africa and the American Negro: Addresses and P...  \n",
       "2        Africa for Christ. Twenty-Eight Years a Slave  \n",
       "3                                      African Letters  \n",
       "4    African Methodism in the South; or, Twenty-Fiv...  \n",
       "..                                                 ...  \n",
       "139                                  The Varick Family  \n",
       "140                             A Voice from the South  \n",
       "141  Wilkerson's History of His Travels &amp; Labor...  \n",
       "142  Women of Achievement: Written for the Fireside...  \n",
       "143  The Work of the Society for the Propagation of...  \n",
       "\n",
       "[144 rows x 4 columns]"
      ]
     },
     "execution_count": 38,
     "metadata": {},
     "output_type": "execute_result"
    }
   ],
   "source": [
    "# rename date column and lower other col names\n",
    "content_ref_table = content_ref_table.rename(columns={\"Date\":\"year\"})\n",
    "content_ref_table.columns = content_ref_table.columns.str.lower()\n",
    "content_ref_table"
   ]
  },
  {
   "attachments": {},
   "cell_type": "markdown",
   "metadata": {},
   "source": [
    "### Thematic text analysis"
   ]
  },
  {
   "cell_type": "code",
   "execution_count": 13,
   "metadata": {},
   "outputs": [
    {
     "data": {
      "text/html": [
       "<div>\n",
       "<style scoped>\n",
       "    .dataframe tbody tr th:only-of-type {\n",
       "        vertical-align: middle;\n",
       "    }\n",
       "\n",
       "    .dataframe tbody tr th {\n",
       "        vertical-align: top;\n",
       "    }\n",
       "\n",
       "    .dataframe thead th {\n",
       "        text-align: right;\n",
       "    }\n",
       "</style>\n",
       "<table border=\"1\" class=\"dataframe\">\n",
       "  <thead>\n",
       "    <tr style=\"text-align: right;\">\n",
       "      <th></th>\n",
       "      <th>theme</th>\n",
       "      <th>title</th>\n",
       "      <th>year</th>\n",
       "      <th>text</th>\n",
       "    </tr>\n",
       "  </thead>\n",
       "  <tbody>\n",
       "    <tr>\n",
       "      <th>0</th>\n",
       "      <td>Baptism</td>\n",
       "      <td>Narrative of Henry Box Brown</td>\n",
       "      <td>1849</td>\n",
       "      <td>slavery is dissolved. The slave's wife is ...</td>\n",
       "    </tr>\n",
       "    <tr>\n",
       "      <th>1</th>\n",
       "      <td>Baptism</td>\n",
       "      <td>Biography of an American Bondman</td>\n",
       "      <td>1856, c1855</td>\n",
       "      <td>Haskell, the overseer, experien...</td>\n",
       "    </tr>\n",
       "    <tr>\n",
       "      <th>2</th>\n",
       "      <td>Baptism</td>\n",
       "      <td>Memoir of Mrs. Chloe Spear</td>\n",
       "      <td>1832</td>\n",
       "      <td>herself entirely alone, she fell on her ...</td>\n",
       "    </tr>\n",
       "    <tr>\n",
       "      <th>3</th>\n",
       "      <td>Baptism</td>\n",
       "      <td>Life of George Henry</td>\n",
       "      <td>1894</td>\n",
       "      <td>to bind all that called upon the name of...</td>\n",
       "    </tr>\n",
       "    <tr>\n",
       "      <th>4</th>\n",
       "      <td>Baptism</td>\n",
       "      <td>Twenty-Eight Years a Slave</td>\n",
       "      <td>1909</td>\n",
       "      <td>But now I thought that if my master would...</td>\n",
       "    </tr>\n",
       "    <tr>\n",
       "      <th>...</th>\n",
       "      <td>...</td>\n",
       "      <td>...</td>\n",
       "      <td>...</td>\n",
       "      <td>...</td>\n",
       "    </tr>\n",
       "    <tr>\n",
       "      <th>383</th>\n",
       "      <td>Spirituals</td>\n",
       "      <td>Reminiscences of Isaac and Sukey</td>\n",
       "      <td>1907</td>\n",
       "      <td>Sukey Bat Moore on the Art of Flying.  ...</td>\n",
       "    </tr>\n",
       "    <tr>\n",
       "      <th>384</th>\n",
       "      <td>Spirituals</td>\n",
       "      <td>Uncle Johnson</td>\n",
       "      <td>1860</td>\n",
       "      <td>charm. They would come forth as spontane...</td>\n",
       "    </tr>\n",
       "    <tr>\n",
       "      <th>385</th>\n",
       "      <td>Spirituals</td>\n",
       "      <td>Days of Bondage</td>\n",
       "      <td>1883</td>\n",
       "      <td>on Tuesday morning--this was Sunday nigh...</td>\n",
       "    </tr>\n",
       "    <tr>\n",
       "      <th>386</th>\n",
       "      <td>Spirituals</td>\n",
       "      <td>The Kidnapped and the Ransomed</td>\n",
       "      <td>1856</td>\n",
       "      <td>you to go to the gin-house, and get Ann ...</td>\n",
       "    </tr>\n",
       "    <tr>\n",
       "      <th>387</th>\n",
       "      <td>Spirituals</td>\n",
       "      <td>Autobiography of James L. Smith</td>\n",
       "      <td>1881</td>\n",
       "      <td>a greater part of the distance fast aslee...</td>\n",
       "    </tr>\n",
       "  </tbody>\n",
       "</table>\n",
       "<p>388 rows × 4 columns</p>\n",
       "</div>"
      ],
      "text/plain": [
       "          theme                             title         year  \\\n",
       "0       Baptism      Narrative of Henry Box Brown         1849   \n",
       "1       Baptism  Biography of an American Bondman  1856, c1855   \n",
       "2       Baptism        Memoir of Mrs. Chloe Spear         1832   \n",
       "3       Baptism              Life of George Henry         1894   \n",
       "4       Baptism        Twenty-Eight Years a Slave         1909   \n",
       "..          ...                               ...          ...   \n",
       "383  Spirituals  Reminiscences of Isaac and Sukey         1907   \n",
       "384  Spirituals                     Uncle Johnson         1860   \n",
       "385  Spirituals                   Days of Bondage         1883   \n",
       "386  Spirituals    The Kidnapped and the Ransomed         1856   \n",
       "387  Spirituals   Autobiography of James L. Smith         1881   \n",
       "\n",
       "                                                  text  \n",
       "0        slavery is dissolved. The slave's wife is ...  \n",
       "1                   Haskell, the overseer, experien...  \n",
       "2          herself entirely alone, she fell on her ...  \n",
       "3          to bind all that called upon the name of...  \n",
       "4         But now I thought that if my master would...  \n",
       "..                                                 ...  \n",
       "383         Sukey Bat Moore on the Art of Flying.  ...  \n",
       "384        charm. They would come forth as spontane...  \n",
       "385        on Tuesday morning--this was Sunday nigh...  \n",
       "386        you to go to the gin-house, and get Ann ...  \n",
       "387       a greater part of the distance fast aslee...  \n",
       "\n",
       "[388 rows x 4 columns]"
      ]
     },
     "execution_count": 13,
     "metadata": {},
     "output_type": "execute_result"
    }
   ],
   "source": [
    "# tokenize texts\n",
    "# combine relevant content data with texts\n",
    "from pandas import DataFrame as df\n",
    "# thematic_data_df = content_guide_data[[\"theme\",\"title\",\"year\"]].reset_index(drop=True)\n",
    "# them_df= df(thematic_texts, columns=[\"text\"])\n",
    "# new_df = pd.concat([thematic_data_df,them_df],axis=1)\n",
    "# new_df"
   ]
  },
  {
   "cell_type": "code",
   "execution_count": 14,
   "metadata": {},
   "outputs": [
    {
     "data": {
      "text/plain": [
       "Religious practice                                                                                          48\n",
       "Religious experience, positive                                                                              32\n",
       "Literacy:  includes learning to read and write, further education, and experiences related to literacy      31\n",
       "Conversion experience                                                                                       28\n",
       "Spirituals                                                                                                  24\n",
       "Sabbath, slaves' observance                                                                                 23\n",
       "Bible                                                                                                       21\n",
       "Condemnation of masters                                                                                     19\n",
       "Marriage                                                                                                    19\n",
       "Morality:  includes conventional Christian morality, slave interpretations, and slaves' moral conflicts.    17\n",
       "Prayer meetings of slaves, secret (\"Invisible Institution\")                                                 17\n",
       "Preachers, black                                                                                            17\n",
       "Heaven, slaves' notion of                                                                                   14\n",
       "Jesus                                                                                                       14\n",
       "Revivals                                                                                                    13\n",
       "Biblical Israel, identification with                                                                        12\n",
       "Baptism                                                                                                     10\n",
       "Conjure                                                                                                      9\n",
       "Resistance (religious motivation)                                                                            9\n",
       "Christmas, slaves' celebration                                                                               6\n",
       "Funerals                                                                                                     5\n",
       "Name: theme, dtype: int64"
      ]
     },
     "execution_count": 14,
     "metadata": {},
     "output_type": "execute_result"
    }
   ],
   "source": [
    "## themes pre-analysis\n",
    "# themes = new_df[\"theme\"]\n",
    "# themes.value_counts()"
   ]
  },
  {
   "cell_type": "code",
   "execution_count": 15,
   "metadata": {},
   "outputs": [
    {
     "data": {
      "text/plain": [
       "<AxesSubplot:title={'center':'Number of samples for each Theme'}, ylabel='Samples'>"
      ]
     },
     "execution_count": 15,
     "metadata": {},
     "output_type": "execute_result"
    },
    {
     "data": {
      "image/png": "[encoded data removed]",
      "text/plain": [
       "<Figure size 432x288 with 1 Axes>"
      ]
     },
     "metadata": {
      "needs_background": "light"
     },
     "output_type": "display_data"
    }
   ],
   "source": [
    "#get hist of themes\n",
    "# themes.value_counts().plot.barh(ylabel='Theme', xlabel='Samples', title=\"Number of samples for each Theme\")"
   ]
  },
  {
   "cell_type": "code",
   "execution_count": 16,
   "metadata": {},
   "outputs": [
    {
     "data": {
      "text/plain": [
       "(21,)"
      ]
     },
     "execution_count": 16,
     "metadata": {},
     "output_type": "execute_result"
    }
   ],
   "source": [
    "# themes.value_counts().shape"
   ]
  },
  {
   "cell_type": "code",
   "execution_count": 17,
   "metadata": {},
   "outputs": [
    {
     "data": {
      "text/html": [
       "<div>\n",
       "<style scoped>\n",
       "    .dataframe tbody tr th:only-of-type {\n",
       "        vertical-align: middle;\n",
       "    }\n",
       "\n",
       "    .dataframe tbody tr th {\n",
       "        vertical-align: top;\n",
       "    }\n",
       "\n",
       "    .dataframe thead th {\n",
       "        text-align: right;\n",
       "    }\n",
       "</style>\n",
       "<table border=\"1\" class=\"dataframe\">\n",
       "  <thead>\n",
       "    <tr style=\"text-align: right;\">\n",
       "      <th></th>\n",
       "      <th>theme</th>\n",
       "      <th>count</th>\n",
       "    </tr>\n",
       "  </thead>\n",
       "  <tbody>\n",
       "    <tr>\n",
       "      <th>0</th>\n",
       "      <td>Religious practice</td>\n",
       "      <td>48</td>\n",
       "    </tr>\n",
       "    <tr>\n",
       "      <th>1</th>\n",
       "      <td>Religious experience, positive</td>\n",
       "      <td>32</td>\n",
       "    </tr>\n",
       "    <tr>\n",
       "      <th>2</th>\n",
       "      <td>Literacy:  includes learning to read and write...</td>\n",
       "      <td>31</td>\n",
       "    </tr>\n",
       "    <tr>\n",
       "      <th>3</th>\n",
       "      <td>Conversion experience</td>\n",
       "      <td>28</td>\n",
       "    </tr>\n",
       "    <tr>\n",
       "      <th>4</th>\n",
       "      <td>Spirituals</td>\n",
       "      <td>24</td>\n",
       "    </tr>\n",
       "    <tr>\n",
       "      <th>5</th>\n",
       "      <td>Sabbath, slaves' observance</td>\n",
       "      <td>23</td>\n",
       "    </tr>\n",
       "    <tr>\n",
       "      <th>6</th>\n",
       "      <td>Bible</td>\n",
       "      <td>21</td>\n",
       "    </tr>\n",
       "    <tr>\n",
       "      <th>7</th>\n",
       "      <td>Condemnation of masters</td>\n",
       "      <td>19</td>\n",
       "    </tr>\n",
       "    <tr>\n",
       "      <th>8</th>\n",
       "      <td>Marriage</td>\n",
       "      <td>19</td>\n",
       "    </tr>\n",
       "    <tr>\n",
       "      <th>9</th>\n",
       "      <td>Morality:  includes conventional Christian mor...</td>\n",
       "      <td>17</td>\n",
       "    </tr>\n",
       "    <tr>\n",
       "      <th>10</th>\n",
       "      <td>Prayer meetings of slaves, secret (\"Invisible ...</td>\n",
       "      <td>17</td>\n",
       "    </tr>\n",
       "    <tr>\n",
       "      <th>11</th>\n",
       "      <td>Preachers, black</td>\n",
       "      <td>17</td>\n",
       "    </tr>\n",
       "    <tr>\n",
       "      <th>12</th>\n",
       "      <td>Heaven, slaves' notion of</td>\n",
       "      <td>14</td>\n",
       "    </tr>\n",
       "    <tr>\n",
       "      <th>13</th>\n",
       "      <td>Jesus</td>\n",
       "      <td>14</td>\n",
       "    </tr>\n",
       "    <tr>\n",
       "      <th>14</th>\n",
       "      <td>Revivals</td>\n",
       "      <td>13</td>\n",
       "    </tr>\n",
       "    <tr>\n",
       "      <th>15</th>\n",
       "      <td>Biblical Israel, identification with</td>\n",
       "      <td>12</td>\n",
       "    </tr>\n",
       "    <tr>\n",
       "      <th>16</th>\n",
       "      <td>Baptism</td>\n",
       "      <td>10</td>\n",
       "    </tr>\n",
       "    <tr>\n",
       "      <th>17</th>\n",
       "      <td>Conjure</td>\n",
       "      <td>9</td>\n",
       "    </tr>\n",
       "    <tr>\n",
       "      <th>18</th>\n",
       "      <td>Resistance (religious motivation)</td>\n",
       "      <td>9</td>\n",
       "    </tr>\n",
       "    <tr>\n",
       "      <th>19</th>\n",
       "      <td>Christmas, slaves' celebration</td>\n",
       "      <td>6</td>\n",
       "    </tr>\n",
       "    <tr>\n",
       "      <th>20</th>\n",
       "      <td>Funerals</td>\n",
       "      <td>5</td>\n",
       "    </tr>\n",
       "  </tbody>\n",
       "</table>\n",
       "</div>"
      ],
      "text/plain": [
       "                                                theme  count\n",
       "0                                 Religious practice      48\n",
       "1                      Religious experience, positive     32\n",
       "2   Literacy:  includes learning to read and write...     31\n",
       "3                               Conversion experience     28\n",
       "4                                          Spirituals     24\n",
       "5                         Sabbath, slaves' observance     23\n",
       "6                                              Bible      21\n",
       "7                             Condemnation of masters     19\n",
       "8                                            Marriage     19\n",
       "9   Morality:  includes conventional Christian mor...     17\n",
       "10  Prayer meetings of slaves, secret (\"Invisible ...     17\n",
       "11                                   Preachers, black     17\n",
       "12                          Heaven, slaves' notion of     14\n",
       "13                                              Jesus     14\n",
       "14                                           Revivals     13\n",
       "15               Biblical Israel, identification with     12\n",
       "16                                            Baptism     10\n",
       "17                                           Conjure       9\n",
       "18                  Resistance (religious motivation)      9\n",
       "19                     Christmas, slaves' celebration      6\n",
       "20                                           Funerals      5"
      ]
     },
     "execution_count": 17,
     "metadata": {},
     "output_type": "execute_result"
    }
   ],
   "source": [
    "# theme_val_ct = themes.value_counts().to_frame().reset_index()\n",
    "# theme_val_ct = theme_val_ct.rename(columns={\"index\":\"theme\", \"theme\":\"count\"})\n",
    "# theme_val_ct"
   ]
  },
  {
   "cell_type": "code",
   "execution_count": 18,
   "metadata": {},
   "outputs": [],
   "source": [
    "# thematic_texts"
   ]
  },
  {
   "cell_type": "code",
   "execution_count": 19,
   "metadata": {},
   "outputs": [],
   "source": [
    "# import nltk\n",
    "# nltk.download('stopwords')"
   ]
  },
  {
   "cell_type": "code",
   "execution_count": 20,
   "metadata": {},
   "outputs": [
    {
     "data": {
      "text/plain": [
       "21"
      ]
     },
     "execution_count": 20,
     "metadata": {},
     "output_type": "execute_result"
    }
   ],
   "source": [
    "# # gather all texts by their theme\n",
    "# from nlp_utils import list_to_str\n",
    "\n",
    "# texts_by_theme = []\n",
    "# theme_names = list(themes.unique())\n",
    "# for theme in theme_names:\n",
    "\n",
    "#     theme_mask =  new_df[\"theme\"] == theme \n",
    "#     text_to_combine = new_df[theme_mask][\"text\"].values\n",
    "#     new_text = list_to_str(text_to_combine)\n",
    "#     texts_by_theme.append(new_text)\n",
    "\n",
    "# len(texts_by_theme)"
   ]
  },
  {
   "cell_type": "code",
   "execution_count": 21,
   "metadata": {},
   "outputs": [
    {
     "data": {
      "text/plain": [
       "\"   brick of clay, and to the dust of clay it returns again, the same way God made us, unto dust we return again. Aaron's views of poor feeble hollow hearted dying men.           A great many people tell me about this awful bad amalgamation business, and they think when friendly people took me in and set me down to the table to eat with them, and when their acquaintances come in to see them, and see Aaron sitting up to the table eating with them it draws a dead damp on them, it is like Adne and Anthony. Aaron thinks if they would only look in the South where I come from, it will be a complete ballot box for them, they would put their hand right on their mouth and never utter another word about amalgamation, or any thing else. In the South white man wont suffer black man to look at white woman, but they will go and force black woman, and there  aint  eh or Anthony said about it. The very old devil has got his own foot right on the slave holders own neck, and Aaron thinks the poor slave holder cannot see sin and folly until he is shut up among the damned in hell forever.           When Aaron falls in with sincere christian people, they treat me like a brother, but not as a slave, and they let the way-faring Aaron eat when they eat, and don't keep me waiting till they are done eating, and then give me a crust of bread and a piece of old stale meat in the kitchen, the way a great many ministers do in my travels. Aaron says he should as live go to hear the devil preach as to hear some ministers, because they preach one thing and practice another, and don't begin to live up to their doctrine. We should always practice what we preach to others, for a man of words and not of deeds, is like a garden full of weeds. So Aaron says.                  PAUL TO THE GALATIANS.--5 chap. 19. Now the works of the flesh are manifest, which are these:--Adultery, fornication, uncleanliness, lasciviousness, idolatry, witchcraft, hatred, variance, emulations, wrath, strife, seditions, heresy,  c.,  c. But the fruit of the spirit is love, joy, peace, long-suffering, gentleness, faith, meekness        temperance, against such there is no law. Bear ye one another's burdens, and so fulfil the law of Christ.           REV. i. 12--15. And I turned to see the voice that spake with me. And being turned, I saw seven golden candlesticks; and in the midst of the seven candlesticks one like unto the Son of Man, clothed with a garment down to the foot, and girt about the paps with a golden girdle. His head and his hairs were white like wool, as white as snow; and his eyes were as a flame of fire.           REV. 1: 15. I beheld till thrones were cast down, and the Ancient of days did sit, whose garments was white as snow, and the hair of his head like the pure wool. DAN. 7--9.           Thou shalt not deliver unto his master the servant that is escaped from his master unto thee. He shall dwell with thee, even among you in that place which he shall choose in one of thy gates. Where it liketh him best; thou shalt not oppress him. DEUT. 23: 15--16.           He that walketh righteously, and speaketh uprightly; he that despiseth the gain of oppressing, that shaketh his hand from holding of bribes, that stoppeth his ear from hearing of blood and shutteth his eyes from seeing evil; he shall dwell on high; his place of defence shall be the munition of rocks, bread shall be given him his waters shall be sure. ISA. 33: 15, 16.           Aaron's views on God's holy word, strictly forbids us holding our brethren in bonds, and here is several chapters against it.           Is it such a Fast that I have chosen? A day for a man to afflict his soul? Is it to bow down his head as a bulrush, and to spread sackcloth and ashes under him? Wilt thou call this a fast, and an acceptable day to the Lord?           Is not this the fast that I have chosen? To loose the bands of wickedness, to undo   the heavy burdens, and to let the oppressed go free, and that ye break every yoke?           Is it not to deal thy bread to the hungry, and that thou bring the poor that are cast out of thy house? When thou seest the naked that thou cover him; and that thou hide not thyself from thine own flesh?           Then shall thy light break forth as the morning, and thine health shall spring forth speedily; and thy righteousness shall go before thee; the glory of the Lord shall be their reward. Isa. 58: 5--8.           Therefore all things whatsoever ye would that men should do unto you, do ye even so to them; for this is the law and the prophets. Matt. 7: 12.           Woe unto him that buildeth his house by unrighteousness, and his chambers by wrong; that useth his neighbor's service without wages, and giveth him not for his work; that saith, I will build me a wide house, and large chambers, and cutteth him out windows and it is ceiled with cedar and painted with vermilion. Shalt thou reign because thou closest thyself in cedar? Did not thy father eat        and drink, and do judgment and justice, and then was it well with him? He judged the cause of the poor and needy; then it was well with him: was not this to know me? saith the Lord. But thine eyes and thine heart are not but for thy covetousness, and for to shed innocent blood, and for oppression, and for violence, to do it.           Therefore thus saith the Lord concerning Jehoiakim the son of Josiah king of Judah. They shall not lament for him, saying, Ah my brother! or Ah sister! they shall not lament for him, saying, Ah lord! or Ah his glory! Jeremiah 22d chap. 13 to 15.           Go to now, ye rich men, weep and howl for your miseries that shall come upon you. Your riches are corrupted, and your garments are moth-eaten. Your gold and silver is cankered, and the rust of them shall be a witness against you, and shall eat your flesh as it were fire,--ye have heaped treasures together for the last days. Behold, the hire of the laborers who have reapt down your fields, which is of you kept back by fraud, crieth. And the cries of them which have reaped are entered into the ears of the Lord of  Sabaoth.  Ye have lived in pleasure on the earth, and been wanton, ye have nourished your hearts as in a day of slaughter. Ye have condemned and killed the just; and he doth not resist you. Be patient, therefore, brethren, unto the coming of the Lord. James 5th chap. 1st to 7th verses.               That's the way it is with the Christian, when his warfare is ended here below. Here is a short sentence of the wayfaring Aaron.            When Aaron was in Hallowell in the State of Maine, a gentleman told him there were 52 strong anti-slavery families lived in H., but he could not get a soul good enough to take him in. He thinks if it had been winter he should have frozen to death, but providentially it was warm weather. He laid himself down upon a harrow, but the little red and black ants troubled him so he was obliged to seek shelter some where else. He tarried the rest of the night in a privy. When he arose he found a beautiful morning: he walked four miles, then asked a gentleman if he would give him some breakfast; he told him he was drunk and foolish, and ought to go to the Asylum. He proceeded to two houses farther and there the Lord opened their hearts. They provided him with a good breakfast, which refreshed him much, and they gave him food                      It was nearly rolling season when Aunt Jane first came to Louisiana, and we all was so busy working night and day I did not have a chance to see her in a long time after I left her that Sunday evening. But two or three months after that I got a chance to go to see her again. Old marster let me go and stay all day that Sunday. He said we all had made such a good year's work, and he was mighty well pleased with us. But he was not always glad and pleased with us. Sometimes he would get mad about something going wrong on the place, and he would beat every one of us and lock us up in the jail he made for us.               What! Did he put you in jail on Sunday?               Yes; 'most every Sunday morning when we did not have any work to do. The next time I went to see Aunt Jane we had another happy time. She could read right good in the Bible and hymn-book, and she would read to me one or two hymns at a time. I remember she read to me about Daniel in the lions' den, and about the king having the three Hebrew children cast in the fiery furnace, and when he looked in the flames of fire he saw four men,          and one looked like the Son of God. O, how Aunt Jane used to love to read about the Hebrew children!              I finally got religion, and it was Aunt Jane's praying and singing them old Virginia hymns that helped me so much. Aunt Jane's marster would let her come to see me sometimes, but not often. Sometimes she would slip away from her place at night and come to see me anyhow. She would hold prayer-meeting in my house whenever she would come to see me.               Would your marster allow you to hold prayer-meeting on his place?               No, my child; if old marster heard us singing and praying he would come out and make us stop. One time, I remember, we all were having a prayer-meeting in my cabin, and marster came up to the door and hollered out,  'You, Charlotte,  what's all that fuss in there?' We all had to hush up for that night. I was so afraid old marster would see Aunt Jane. I knew Aunt Jane would have to suffer if her white people knew she was off at night. Marster used to say God was tired of us all hollering to him at night.               Thy work now begins in my vineyard; go out upon the highways and cry aloud.  But I excuse myself,  saying:  I don't know what to cry.  And the Lord  say:  I put in thy heart and in thy mouth what to  say. Fear not, for I will be with thee, and bring thee  off conqueror and more than conqueror.  And about this time, when in my bed, I was often attended with visions, with views of congregations sitting to hear the Word.            For a long time I cry, unworthy to undertake the task; but God at length prepare, and I promised to do the best I could. And  God prepare me to this day.  And when it come, I do the best I can.            I was twenty-three years old when I did not know a letter; after that I managed, for two months, to go two nights in a week to see a black maid who  could  spell a little, and she instructed me to spell in three syllables; and that was  all the learning I got from human. After that my Heavenly Master took me in hand and nursed me, and learned me to read the Bible to good understanding. He first give me faith, then  He revealed to me.  But most other books I have tried to read is a mystery to me. From the time of my conversion to this moment, I have never doubted the grace of God; for I have found all doubting comes from a wicked heart. I do feel, while I am relating this to you, that I have great cause to bless the Lord, for he has nursed me through all the journey of my life, and has been my comforter in distress, when trouble, like a gloomy cloud, has overshadowed me  by the loss of three of my children--being taken from  my bosom, sold and taken South. But here I got some consolation, reflecting upon  Joseph being sold into Egypt.  Like Jacob,             CHAPTER IX.             IT is impossible to reconcile the mind of the native  slave to the idea of living in a state of perfect equality,  end boundless affection, with the white people. Heaven  will be no heaven to him, if he is not to be avenged of  his enemies. I know, from experience, that these are  the fundamental rules of his religious creed; because  I learned them in the religious meetings of the slaves  themselves. A favorite and kind master or mistress,  may now and then be admitted into heaven, but this  rather as a matter of favor, to the intercession of some  slave, than as matter of strict justice to the whites,  who will, by no means, be of an equal rank with those  who shall be raised from the depths of misery, in this  world.            The idea of a revolution in the conditions of the  whites and the blacks, is the corner-stone of the religion  of the latter; and indeed, it seems to me, at  least, to be quite natural, if not in strict accordance  with the precepts of the Bible; for in that book I find           it every where laid down, that those who have possessed  an inordinate portion of the good things of this  world, and have lived in ease and luxury, at the expense of their fellow men will surely have to render an  account of their stewardship, and be punished, for  having withheld from others the participation of those  blessings, which they themselves enjoyed.            There is no subject which presents to the mind of  the male slave a greater contrast between his own condition  and that of his master, than the relative station  and appearance of his wife and his mistress. The one,  poorly clad, poorly fed, and exposed to all the hardships  of the cotton field; the other dressed in clothes  of gay and various colors, ornamented with jewelry,  and carefully protected from the rays of the sun, and  the blasts of the wind.            As I have before observed, the Africans have feelings  peculiar to themselves; but with an American slave,  the possession of the spacious house, splendid furniture,  and fine horses of his master, are but the secondary  objects of his desires. To fill the measure of his happiness,  and crown his highest ambition, his young and  beautiful mistress must adorn his triumph, and enliven  his hopes.            I have been drawn into the above reflections, by the  recollection of an event of a most melancholy character,  which took place when I had been on this plantation             CHAPTER II.              A fruitless effort for education.--The Sabbath among Slaves.-- Degrading amusements.--Why religion is rejected.--Condition of poor white people.--Superstition among slaves.--Education forbidden.              IN 1833, I had some very serious religious impressions, and there was quite a number of slaves in that neighborhood, who felt very desirous to be taught to read the Bible. There was a Miss Davis, a poor white girl, who offered to teach a Sabbath School for the slaves, notwithstanding public opinion and the law was opposed to it. Books were furnished and she commenced the school; but the news soon got to our owners that she was teaching us to read. This caused quite an excitement in the neighborhood. Patrols  *               *Police peculiar to the South.    were appointed to go and break it up the next Sabbath. They were determined that we should not have a Sabbath School in operation. For slaves this was called an incendiary Movement.             The Sabbath is not regarded by a large number of the slaves as a day of rest. They have no schools to go to; no moral nor religious instruction at all in many localities where there are hundreds of          had reached my twelfth year, that if I was spared to become a man, I would try to be as good as my parents. My father could read a little, and make figures, but could scarcely write at all. His custom, on those Sabbaths when we remained at home, was to spend his time in instructing his children, or the neighboring servants, out of a New Testament, sent him from Fredericksburg by one of his older sons. I fancy I can see him now, sitting under his bush arbor, reading that precious book to many attentive hearers around him.             Such was the esteem I had for my pious father, that I have kept that blessed book ever since his death, for his sake; and it was the first New Testament I read, after I felt the pardoning love of God in my soul.             My father died, August 20, 1826, aged 60 years. My mother, Jane Davis, at the death of my father, removed from the farm, where my father died, and spent the remainder of her days in Fredericksburg, with her children. She lived to good old age, and fell asleep in Jesus, Dec. 24, 1831.             My father had been allowed to keep a cow and horse, for his own use; and to raise and feed his hogs and poultry from the mill.--          revealed himself to these poor souls, for they were  very ignorant  -  they did not know a letter of the Bible.  But when they opened their mouths they were filled,  and the plan of Salvation was explained in a way  that all could receive it. It was always a mystery to  the white brethren how the slaves could line out  hymns, preach Christ and redemption, yet have no  knowledge even of how the name of Christ was  spelled. They were illiterate to the last degree, so  there is but one theory, they were inspired. God  revealed unto them just what they should teach their  flock, the same as he did to Moses. I remember very  well that there was always a solemnity about the  services  -  a certain harmony, which had a peculiar  effect  -  a certain pathetic tone which quickened the  emotions as they sang those old plantation hymns.  It mattered not what their troubles had been during  the week  -  how much they had been lashed, the  prayer-meeting on Saturday evening never failed to be held. Their faith was tried and true. On Sunday  afternoons, they would all congregate again to praise  God, and the congregation was enthusiastic. It was  pathetic to hear them pray, from the depths of their  hearts, for them who  despitefully used them and           in some degree. But he resolved to remove the obstacle in the way of his scheme; and he thought he had planned it so that he should evade suspicion. He was well aware how much I prized my refuge by the side of my old aunt, and he determined to dispossess me of it. The first night the doctor had the little child in his room alone. The next morning, I was ordered to take my station as nurse the following night. A kind Providence interposed in my favor. During the day Mrs. Flint heard of this new arrangement, and a storm followed. I rejoiced to hear it rage.           After a while my mistress sent for me to come to her room. Her first question was,  Did you know you were to sleep in the doctor's room?             Yes, ma'am.             Who told you?             My master.             Will you answer truly all the questions I ask?             Yes, ma'am.             Tell me, then, as you hope to be forgiven, are you innocent of what I have accused you?             I am.            She handed me a Bible, and said,  Lay your hand on your heart, kiss this holy book, and swear before God that you tell me the truth.            I took the oath she required, and I did it with a clear conscience.            You have taken God's holy word to testify your innocence,  said she.  If you have deceived me, beware! Now take this stool, sit down, look me directly in the face, and tell me all that has passed between your master and you.              But now I thought that if my master would only come to Jesus he could be saved. I began to pray for the white people, and to tell all around what a dear Salvation I had found.      SPIRITUAL FREEDOM.              Free indeed,  John viii., 36. I had now a free soul. But my poor mother, who had taught me the Lord's Prayer and for years been so anxious that I should  seek religion,  had never herself understood the finished work of Christ. She now, however, accepted Him as her own Saviour, and gave herself to the Lord in glad and full surrender. I was anxious, after my conversion, to unite with the Baptist Church. In Richmond there were Churches of coloured people, but they had white Pastors, who never failed to keep us informed about Abraham's servants, and as to the injunction to Hagar. I could not join any Church unless I had a  pass  from my master. I went to him and asked permission to be baptised. He at once said:  No, you shall not unite with the Baptist Church.  Mr. Brown, my spiritual adviser, told me to go to the Lord, and say,  Lord, if Thou hast ever done anything for my never-dying soul, please manifest Thyself to me in moving the master to give me a pass to be baptised.  I think it was nearly three months before I again ventured to ask him. But when I summoned up enough courage to ask him the second time, he at once gave permission. This was a manifest answer to prayer. When the appointed Sabbath for baptism arrived, my mother and I  went down into the water  hand-in-hand, and were baptised, rejoicing in the privilege of following our Divine Master, and when we  came up out of the water  we  went on our way rejoicing.              Soon after my conversion I felt a deep desire to preach the Gospel. But two difficulties presented themselves: first, I was a slave, for though I had a free soul, yet my body was in slavery; then, second, I could not read the          Bible with much understanding, and there was no way for me to succeed but the old way, that, was, by  taking advantage of every opportunity to learn all I could.  Just about this time a young student (white) came from College on the Sabbaths to preach to the coloured people. He read the fifth chapter of Matthew. I was much struck with his explanation, and I became anxious to know how to read this chapter. Now there was a box of old books stored away in a lumber room, and amongst these books was a large old Bible. I took this Bible to my room, and day after day, when I had finished my work in the house, and had a little time to spare, I would go to my room, lock myself in, and try to read the Bible, commencing at Genesis and calling over the letters of each word I could not understand as follows:-- In the b-e-g-i-n-n-i-n-g God c-r-e-a-t-e-d the heaven and the earth ; and thus I struggled on from day to day. The young master had been requested by his mother to read a chapter in the New Testament every night. Often when with him in his own room at night I would get him to read the fifth chapter of Matthew for me. To the reading of this I would listen attentively. Thus I got to know the words  multitudes,   mountain,   disciples,   blessed,  and in time I had learned to repeat many verses of the chapter from memory. I then began to look about in the Bible, and found in many places the same words in the first and second syllables that I knew. In this way I got to understand a little about the Bible, and at the same time I was learning to spell. After my conversion I would often  Steal away to Jesus  with other slaves, to some quiet place for prayer, over the stable, or in the kitchen when the master and mistress were away, though we knew that if we were discovered we should be locked up for the night, and that the next morning we should receive from five to nine or even thirty lashes for unlawfully assembling together. Over five slaves in such a gathering, though they had passes,            pair shoes, one pair stockings, one pair woolen pants, one coat, two pairs coarse tow linen pants, two shirts, and board, is the law of the State of Maryland allows a man, free or slave, black or white, who hires for one year.             My friends who may read this little work, will make due allowance when they see that I never possessed the advantage of one day's schooling in my life, and only commenced to learn my letters when nineteen years and eight months old.             At one time, when going to my work, I found a piece of a chapter of an old Bible, Genesis 25, concerning Isaac, Jacob, and Esau. At this time there was an old colored man working for my father. He, taking the piece of Bible, and read it to me; I do not remember ever hearing that much of the Bible read before. I told him I would like to learn to read; he told me to get a book and he would learn me, while he stayed with us. I bought a little          that if God would have mercy on me, I should never sin again. When I had come to this, I felt my guilt give way, and thought that I was a new being. Now, instead of looking with my real eyes to see my Savior, I felt him in me, and I was happy. The eyes of my mind were open, and I saw things as I never did before. With my mind's eye, I could see my Redeemer hanging upon the cross for me.             I wanted all the other slaves to see him thus, and feel as happy as I did. I used to talk to others, and tell them of the friend they would have in Jesus, and show them by my experience how I was brought to Christ, and felt his love within my heart,--and love it was, in God's adapting himself to my capacity.             After receiving this revelation from the Lord, I became impressed that I was called of God to preach to the other slaves. I labored under this impression for seven years, but then I could not read the Bible, and I thought I could never preach unless I learned to read the Bible, but I had no one to teach me how to read. A friend showed me the letters, and how to spell words of three letters. Then I continued, until I got so as to read the Bible,--the great book of God,--the source of all knowledge. It was my great desire to read easily this book. I thought it was written by the Almighty himself. I loved this book, and prayed over it and labored until I could read it. I used to go to the church to hear the white preacher. When I heard him read his text, I would read mine when I got borne. This is the way, my readers, I learned to read the Word of God when I was a slave. Thus did I labor eleven years under the impression that I was called to preach the gospel of Jesus Christ, the ever-blessed God.             Then I learned to write. Here I had no teaching; but I obtained a book with the writing alphabet in it. I copied the letters until I could write. I had no slate, so I used to             knees before God prayed for this individual. The next morning the person came and asked her pardon. How beautifully  does this illustrate the passage,  Dearly beloved, avenge not  yourselves.  Again, returning home from meeting, one dark evening, with her head bowed down as usual, she was  accosted,  Where are  you  bound, old woman?   To  Canaan's happy land,   she answered.             Phebe  loved the Scriptures.  Near by her, and always on her mind and heart, was her   precious Holy Bible,  and her large-print Testament. Phebe had the same Bible that others  have, but she found in it a great deal more than is commonly found, as all may observe who have seen her Bible. There  the promises, and the threatenings and warnings too, are  marked or underscored by her pen or pencil. Phebe's marks beneath or beside a passage, made often with a heavy stroke  of her pencil, come to our minds with the force of a  commentary, for she was herself a  living epistle,   known and read  by us all. Said her  pastor,  *    If a thousand devoted Christians were requested  to mark their favourite texts and  expressions, it is believed they would hardly mark one not understood by Phebe.                  * Phebe was a Member of the Congregational Church of  America, corresponding to the  Independents in England.               Phebe  loved the house of God.  She took great delight in the services of the sanctuary: hence  she was never absent except from sickness or urgent necessity. She was indeed a pillar of the church; one in whom the  minister found support by her constant attendance and  prayers, by her cordial reception and love of the truth. She was the first to be seated in her place at church. For many years, in our former house of worship, she was seen sitting in  one corner of the gallery, on the furthest row of seats, with her head bowed in secret prayer. To look up to her as we entered the house of God was, to some of us at least, a prayer, a  sermon, a hymn of praise. The last winter, her health failing, she was unable to walk to church as formerly, and remained during the intermission--a season highly           prized by some of her Christian friends, who would hasten back to meet her. That glowing look of hers, that close pressure of the hand, that Sabbath-day greeting, will never be  forgotten. The best, the most experienced Christians loved to be with Phebe, because she was a happy, Bible Christian, a witness to the truth of God.             Phebe  loved to pray . Many times a day would she go to her bedroom, carpeted as for a little sanctuary, and kneel and pray. So much was her soul awake to the interests of Zion, it was  no uncommon occurrence for her to arise at  midnight  and pray.  At midnight I will arise, and give thanks unto Thee.  This is a marked passage in her Bible. About four years since,  her pastor was strengthened more than usual in his labors; his soul was richly fed with heavenly manna; and of this bread many of his flock partook with him. Not long after this  season of refreshing, it was ascertained that Phebe had arisen  every night, month after month, at midnight,  to pray for her pastor.             Many were the  individuals  for whom she prayed. During the past winter a friend called to see her.  What is the good word?  said Phebe.  Anna--is serious, and inquiring the way  of life.  She arose at once from her seat, lifted her hands, and with tears of joy praised God aloud, and said,  For  her  I have been praying; God is a bearer of prayer.              Phebe's  faith and confidence in God were practical,  and availed her in time of need. When her mistress, Mrs. Allen, died, whom she loved more than any being on earth, and whose  death was very sudden, in the dead of night, causing great distress in the family, Phebe calmly said,  Don't we pray, 'Thy will be done?' and now it is done.              Phebe  gave of her substance.  She made a monthly contribution of fifty cents to missions, and bequeathed her little all, remaining after her decease, to the cause of Christ.             Phebe  prayed for the college.  The officers and students she bore on her heart to God. She  always manifested a deep interest in the annual concert of           and advise them to fix their minds upon the Savior, as their only helper. Some I have heard curse and swear in answer, and others would say that they could not keep their minds upon God and the devil (meaning Huckstep) at the same time: that it was of no use to try to be religious  -   they had no time  -  that the overseer wouldn't let them meet to pray  -  and that even uncle Solomon, when he prayed, had to keep one eye open all the time, to see if Huckstep was coming. Uncle Solomon could both read and write, and had brought out with him from Virginia a Bible, a hymn-book, and some other religious books, which he carefully concealed from the overseer.  Huckstep was himself an open infidel as well as blasphemer. He used to tell the hands that there was no hell hereafter for white people, but that they had their punishment on earth in being obliged to take care of the negroes. As for the blacks, he was sure there was a hell for them. He used frequently to sit with his bottle by his side, and his Bible in his hand, and read passages and comment on them, and pronounce them lies. Any thing like religious feeling among the slaves irritated him. He said that so much praying and singing         prevented the people from doing their tasks, as it kept them up nights, when they should be asleep. He used to mock, and in every possible way interrupt the poor slaves, who, after the toil of the day, knelt in their lowly cabins to offer their prayers and supplications to Him whose ear is open to the sorrowful sighing of the prisoner, and who hath promised in his own time to come down and deliver. In his drunken seasons he would make excursions at night through the slave-quarters, enter the cabins, and frighten the inmates, especially if engaged in prayer or psalm-singing. On one of these occasions he came back rubbing his hands and laughing. He said he had found uncle Solomon in his garden, down on his knees, praying like an old owl, and had tipped him over and frightened him half out of his wits. At another time he found uncle David sitting on his stool with his face thrust up the chimney, in order that his voice might not be heard by his brutal persecutor. He was praying, giving utterance to these words, probably in reference to his bondage:   -    How long, oh Lord, how long?    As long as my whip!  cried the overseer, who had stolen         behind him, giving him a blow. It was the sport of a demon.            Not long after my master had left us, the overseer ascertained for the first time that some of the hands could read, and that they had brought books with them from Virginia. He compelled them to give up the keys of their chests, and on searching found several Bibles and hymn-books. Uncle Solomon's chest contained quite a library, which he could read at night by the light of knots of the pitch-pine. These books he collected together, and in the evening called uncle Solomon into the house. After jeering him for some tinge, he gave him one of the Bibles and told him to name his text and preach him a sermon. The old man was silent. He then made him get upon the table, and ordered him to pray. Uncle Solomon meekly replied that  forced prayer was not good for soul or body.  The overseer then knelt down himself, and in a blasphemous manner prayed that the Lord would send his spirit into uncle Solomon, or else let the old man fall from the table and break his neck, and so have an end of  nigger  preaching. On getting up from his knees he went to the cupboard, poured out a glass         of brandy for himself, and brought another to the table.  James,  said he, addressing me,  uncle Solomon stands there, for all the world, like a Hickory Quaker. His spirit don't move; I'll see if another spirit won't move it.  He compelled the old preacher to swallow the brandy, and then told him to preach and exhort, for the spirit was in him. He set one of the Bibles on fire, and after it was consumed mixed up the ashes of it in a glass of water, and compelled the old man to drink it, telling him that as the spirit and the word were now both in him, there was no longer any excuse for not preaching. After tormenting the wearied old man in this way until nearly midnight, he permitted him to go to his quarters.            The next day I saw uncle Solomon, and talked with him about his treatment. He said it would not always be so  -  that slavery was to come to an end, for the Bible said so  -  that there would then be no more whippings and fightings, but the lion and the lamb would lie down together, and all would be love. He said he prayed for Huckstep   -  that it was not he, but the devil in him, who behaved so. At his request, I found means to get him a Bible and a hymn-book from the overseers          mean, Jim, by insulting me in that manner? Asking the Lord to convert me over again. And praying that I might be shaken over hell. I have a great mind to tie you up, and give you a good correcting. If you ever make another such a prayer, I'll whip you well, that I will.             Dr. Gaines felt so intensely the duty of masters to their slaves that he, with some of his neighbors, inaugurated a religious movement, whereby the blacks at the Corners could have preaching once a fortnight, and that, too, by an educated white man. Rev. John Mason, the man selected for this work, was a heavy-set, fleshy, lazy man who, when entering a house, sought the nearest chair, taking possession, of it, and holding it to the last.            He had been employed many years as a colporteur or missionary, sometimes preaching to the poor whites, and, at other times, to the slaves, for which service he was compensated either by planters, or by the dominant religious denomination in the section where he labored. Mr. Mason had carefully studied the character of the people, to whom he was called to preach, and took every opportunity to shirk his duties, and to throw them upon some of the slaves, a large number of whom were always ready and willing to exhort when called upon.            We shall never forget his first sermon, and the profound sensation that it created both amongst masters and slaves, and especially the latter. After taking for his text,  He that knoweth his master's         will, and doeth it not, shall be beaten with many stripes,  he spoke substantially as follows:--              Now when  correction  is given you, you either deserve it, or you do not deserve it. But whether you really deserve it or not, it is your duty, and Almighty God requires that you bear it patiently. You may, perhaps, think that this is hard doctrine, but if you consider it right you must needs think otherwise of it. Suppose then, that you deserve correction, you cannot but say that it is just and right you should meet with it. Suppose you do not, or at least you do not deserve so much, or so severe a correction for the fault you have committed, you, perhaps, have escaped a great many more, and are at last paid for all. Or suppose you are quite innocent of what is laid to your charge, and suffer wrongfully in that particular thing, is it not possible you may have done some other bad thing which was never discovered, and that Almighty God, who saw you doing it, would not let you escape without punishment one time or another? And ought you not, in such a case, to give glory to Him, and be thankful that he would rather punish you in this life for your wickedness, than destroy your souls for it in the next life? But suppose that even this was not the case (a case hardly to be imagined), and that you have by no means, known or unknown, deserved the correction you suffered, there is this great comfort in it, that if you bear it patiently, and leave your cause in the hands of God, he will reward you for it in heaven, and the punishment you suffer         unjustly here, shall turn to your exceeding great glory, hereafter.             At this point, the preacher hesitated a moment, and then continued,  I am now going to give you a description of hell, that awful place, that you will surely go to, if you don't be good and faithful servants.             Hell is a great pit, more than two hundred feet deep, and is walled up with stone, having a strong, iron grating at the top. The fire is built of pitch pine knots, tar barrels, lard kegs, and butter firkins. One of the devil's imps appears twice a day, and throws about half a bushel of brimstone on the fire, which is never allowed to cease burning. As sinners die they are pitched headlong into the pit, and are at once taken up upon the pitchforks by the devil's imps, who stand, with glaring eyes and smiling countenances, ready to do their master's work.             Here the speaker was disturbed by the  Amens,   Bless God, I'll keep out of hell,   Dat's my sentiments,  which plainly told him that he had struck the right key.             Now,  continued the preacher,  I will tell you where heaven is, and how you are to obtain a place there. Heaven is above the skies; its streets are paved with gold; seraphs and angels will furnish you with music which never ceases. You will all be permitted to join in the singing and you will be fed on manna and honey, and you will drink from fountains, and will ride in golden chariots.              I am bound for hebben,  ejaculated one.                     Yes, blessed God, hebben will be my happy home,  said another.            These outbursts of feeling were followed, while the man of God stood with folded arms, enjoying the sensation that his eloquence had created.            After pausing a moment or two, the reverend man continued,  Are there any of you here who would rather burn in hell than rest in heaven? Remember that once in hell you can never get out. If you attempt to escape little devils are stationed at the top of the pit, who will, with their pitchforks, toss you back into the pit,  curchunk,  where you must remain forever. But once in heaven, you will be free the balance of your days.  Here the wildest enthusiasm showed itself, amidst which the preacher took his seat.            A rather humorous incident now occurred which created no little merriment amongst the blacks, and to the somewhat discomfiture of Dr. Gaines,--who occupied a seat with the whites who were present.            Looking about the room, being unacquainted with the negroes, and presuming that all or nearly so were experimentally interested in religion, Mr. Mason called on Ike to close with prayer. The very announcement of Ike's name in such a connection called forth a broad grin from the larger portion of the audience.            Now, it so happened that Ike not only made no profession of religion, but was in reality the farthest off from the church of any of the servants at  Poplar Farm ; yet Ike was equal to the occasion, and at         once responded, to the great amazement of his fellow slaves.            Ike had been, from early boyhood, an attendant upon whites, and he had learned to speak correctly for an uneducated person. He was pretty well versed in Scripture and had learned the principal prayer that his master was accustomed to make, and would often get his follow-servants together at the barn on a rainy day and give them the prayer, with such additions and improvements as the occasion might suggest. Therefore, when called upon by Mr. Mason, Ike at once said,  Let us pray.             After floundering about for a while, as if feeling his way, the new beginner struck out on the well-committed prayer, and soon elicited a loud  amen,  and  bless God for that,  from Mr. Mason, and to the great amusement of the blacks. In his eagerness, however, to make a grand impression, Ike attempted to weave into his prayer some poetry on  Cock Robin,  which he had learned, and which nearly spoiled his maiden prayer.            After the close of the meeting, the Doctor invited the preacher to remain over night, and accepting the invitation, we in the great house had an opportunity of learning more of the reverend man's religious views.            When comfortably seated in the parlor, the Doctor said,  I was well pleased with your discourse, I think the tendency will be good upon the servants.              Yes,  responded the minister,  The negro is eminently a religious being, more so, I think, than          the white race. He is emotional, loves music, is wonderfully gifted with gab; the organ of alimentativeness largely developed, and is fond of approbation. I therefore try always to satisfy their vanity; call upon them to speak, sing, and pray, and sometimes to preach. That suits for this world. Then I give them a heaven with music in it, and with something to eat. Heaven without singing and food would be no place for the negro. In the cities, where many of them are free, and have control of their own time, they are always late to church meetings, lectures, or almost anything else. But let there be a festival or supper announced and they are all there on time.              But did you know,  said Dr. Gaines,  that the prayer that Ike made to-day he learned from me?              Indeed?  responded the minister.             Yes, that boy has the imitative power of his race in a larger degree than most negroes that I have seen. He remembers nearly everything that he hears, is full of wit, and has most excellent judgment. However, his dovetailing the Cock Robin poetry into my prayer was too much, and I had to laugh at his adroitness.             The Doctor was much pleased with the minister, but Mrs. Gaines was not. She had great contempt for professional men who sprung from the lower class, and she regarded Mr. Mason as one to be endured but not encouraged. The Rev. Henry Pinchen was her highest idea of a clergyman. This gentleman was then expected in the neighborhood,           died, but my mother said, she died gently and happily, as if her last hours were a foretaste of what was in store for her.             A badge of aristocracy among slaveholders is the number of slaves they hold, and white people of equal fortune are not generally allowed to visit slaveholders, who look down upon them with a species of contempt. One remarkable fact which I wish to impress upon my readers is this, that the white men born in those districts in America where slaves are held, are just as capable of bearing the heat as the black men. And the proof is this, that in the harvest-time, when the two are working together in the fields, the white men can actually beat the negroes at the work, and very often the black man has to give up, and is laughed at by the white labourer. They say,  Only give us sufficient wages, and we will work by the side of any nigger alive.  It is quite shocking to hear slaveholders distorting even the Bible itself to prove that a negro alone was made for hard work.       Cunning of Slaves.              I remember a slave, who was not treated very well with respect to food and other things, when he had done his work being lectured by his mistress on the duties of a slave, she telling him that in proportion to his obedience and servility as a slave he would be loved by God. One day, on receiving           members of families by sale--but not of mine. With me and my house, the tenderer tendrils of the heart still clung to where the vine had entwined; pleasant was its shade and delicious our fruits to our taste, though we knew, and what is more, we  felt  that we were slaves. But all around I could see where the vine had been torn down, and its bleeding branches told of vanished joys, and of new wrought sorrows, such as, slave though I was, had never entered into my practical experience.            I had never been permitted to learn to read; but I used to attend church, and there I received instruction which I trust was of some benefit to me.  I trusted, too, that I had experienced the renewing influences of the gospel; and after obtaining from my mistress a written  permit  (a thing  always  required in such a case,) I had been baptised and received into fellowship with the Baptist denomination.  So that in religious matters, I had been indulged in the exercise of my own conscience--a favor not always granted to slaves.  Indeed I, with others, was often told by the minister how good God was in bringing us over to this country from dark and benighted Africa, and permitting us to listen to the sound of the gospel. To me, God also granted temporal freedom, which man without God's consent, had stolen away.            I often heard select portions of the scriptures          read.  And on the Sabbath there was one sermon preached expressly for the colored people which it was generally my privilege to hear.  I became quite familiar with the texts,  Servants be obedient to your masters. -- Not with eye service as men pleasers. -- He that knoweth his master's will and doeth it not, shall be beaten with many stripes,  and others of this class: for they formed the basis of most of these public instructions to us.  The first commandment impressed upon our minds was to obey our masters, and the second was like unto it, namely, to do as much work when they or the overseers were not watching us as when they were.  But connected with these instructions there was more or less that was truly excellent; though mixed up with much that would sound strangely in the ears of freedom.  There was one very kind hearted Episcopal minister whom I often used to hear; he was very popular with the colored people.  But after he had preached a sermon to us in which he argued from the Bible that it was the will of heaven from all eternity we should be slaves, and our masters be our owners, most of us left him; for like some of the faint hearted disciples in early times we said,-- This is a hard saying, who can bear it?             My manumission, as I shall call it; that is, the bill of sale conveying me to Mr. Smith, was dated Sept. 9th, 1835. I continued          rendered me somewhat notorious. More than once I heard it said that Platt Ford, now Platt Tibeats a slave's name changes with his change of master was  a devil of a nigger.  But I was destined to make a still further noise, as will presently be seen, throughout the little world of Bayou Boeuf.  \\t        Peter Tanner endeavored to impress upon me the idea that he was quite severe, though I could perceive there was a vein of good humor in the old fellow, after all.  \\t         You're the nigger,  he said to me on my arrival   You're the nigger that flogged your master, eh? You're the nigger that kicks, and holds carpenter Tibeats by the leg, and wallops him, are ye? I'd like to see you hold me by the leg I should. You're a 'portant character you're a great nigger very remarkable nigger, ain't ye?  I'd  lash you  I'd  take the tantrums out of ye. Jest take hold of my leg, if you please. None of your pranks here, my boy, remember  that . Now go to work, you  kickin ' rascal,  concluded Peter Tanner, unable to suppress a half-comical grin at his own wit and sarcasm.  \\t        After listening to this salutation, I was taken charge of by Myers and labored under his direction for a month, to his and my own satisfaction.  \\t        Like William Ford, his brother-in-law, Tanner was in the habit of reading the Bible to his slaves on the Sabbath, but in a somewhat different spirit. He was an impressive commentator on the New Testament. The first Sunday after my coming to the plantation,         he called them together, and began to read the twelfth chapter of Luke. When he came to the 47th verse, he looked deliberately around him, and continued   And that servant which knew his lord's will,  here he paused, looking around more deliberately than before, and again proceeded  which knew his lord's  will , and  prepared  not himself  here was another pause   prepared  not himself, neither did  according  to his will, shall be beaten with many  stripes .   \\t         D'ye hear that?  demanded Peter, emphatically.   Stripes ,  he repeated, slowly and distinctly, taking off his spectacles, preparatory to making a few remarks.  \\t         That nigger that don't take care that don't obey his lord that's his master d'ye see? that ' ere  nigger shall be beaten with many stripes. Now, 'many' signifies a  great  many forty, a hundred, a hundred and fifty lashes.  That's  Scripter!  and so Peter continued to elucidate the subject for a great length of time, much to the edification of his sable audience.  \\t        At the conclusion of the exercises, calling up three of his slaves, Warner, Will and Major or, he cried out to me   \\t         Here, Platt, you held Tibeats by the legs; now I'll see if you can hold these rascals in the same way, till I get back from meetin'.   \\t        Thereupon he ordered them to the stocks a common thing on plantations in the Red River country. The stocks are formed of two planks, the lower one         made fast at the ends to two short posts, driven firmly into the ground. At regular distances half circles are cut in the upper edge. The other plank is fastened to one of the posts by a hinge, so that it can be opened or shut down, in the same manner as the blade of a pocket-knife is shut or opened. In the lower edge of the upper plank corresponding half circles are also cut, so that when they close, a row of holes is formed large enough to admit a negro's leg above the ankle, but not large enough to enable him to draw out his foot. The other end of the upper plank, opposite the hinge, is fastened to its post by lock and key. The slave is made to sit upon the ground, when the uppermost prank is elevated, his legs, just above the ankles, placed in the sub-half circles, and shutting it down again, and locking it, he is held secure and fast. Very often the neck instead of the ankle is enclosed. In this manner they are held during the operation of whipping.  \\t        Warner, Will and Major, according to Tanner's account of them, were melon-stealing, Sabbath breaking niggers, and not approving of such wickedness, he felt it his duty to put them in the stocks. Handing me the key, himself, Myers, Mistress Tanner and the children entered the carriage and drove away to church at Cheneyville. When they were gone, the boys begged me to let them out. I felt sorry to see them sitting on the hot ground, and remembered my own sufferings in the sun. Upon their promise to return to the stocks at any moment they were required         to do so, I consented to release them. Grateful for the lenity shown them, and in order in some measure to repay it, they could do no less, of course, than pilot me to the melon-patch. Shortly before Tanner's return, they were in the stocks again. Finally he drove up, and looking at the boys, said, with a chuckle,   \\t         Aha! ye havn't been strolling about much to-day, any way.  I'll  teach you what's what.  I'll  tire ye of eating water-melons on the Lord's day, ye Sabbath-breaking niggers.   \\t        Peter Tanner prided himself upon his strict religious observances he was a deacon in the church.  \\t        But I have now reached a point in the progress of my narrative, when it becomes necessary to turn away from these light descriptions, to the more grave and weighty matter of the second battle with Master Tibeats, and the flight through the great Pacoudrie Swamp.              stay with me sometimes until 2 or 3 o'clock P. M., and learn me to cypher to the single rule of three.             I arrived at Hartford on the 15th of Nov., 1835. Since that time some of my good white friends have assisted me by referring me to good books, and giving good instruction, of which I have reason to believe some of them are in heaven, and others on earth doing good.             My mother's and father's theology, or the way we children were taught by our parents, neither of them could read; but as mother's master was a member of the M. E. church, and used to read the Bible to his slaves--not learn nor teach them to read, but read the Bible to them.             First, man is a compound being, possessing two natures, a soul and a body; the body is of the earth, and must die and return to the dust from whence it came; but the soul is immortal; that is, will never die, but will live forever           in happiness with God, or exist in hell for ever. This theology teaches of two places for the souls of the human family after death, and the condition by which they must go first. If children were obedient to their parents or their owners, and prayed to the Lord to forgive them of their sins and make them good children, and keep them from telling lies, from stealing, from taking the Lord's name in vain, and to keep the Sabbath holy. But above all, never to be saucy to old people, lest our case should be like the forty-two children destroyed by the two she bears--II KINGS, chap. 2-23: And he went up from thence unto Bethel, and as he was going up by the way there came forth little children out of the city and mocked him, and said unto him, Go up, thou head, go up thou bald head. Verse 24: and he turned back and looked on them and cursed them in the name of the Lord; and there came forth two she-bears out of the wood and tore           forty and two children of them. And I am glad to know that even from the most oppressed slave to the most refined white family's children at the south, are taught to respect the old, white or black. Their children call old colored people aunt and uncle by way of respect. None use the word 'nigger' but the low and vulgar.             Our family theology teaches that God is no respecter of persons, but gave his son to die for all, bond or free, black or white, rich or poor. If we keep his commandments, we will be happy after death. It also teaches that if God calls and sanctifies a person to do some great work, that person is immortal until his work is done; that God is able and will protect him from all danger or accident in life if he is faithful to his calling or charge committed by the Lord. This is a borrowed idea from circumstances too numerous to mention. Here, is one man we present as a proof of the           tink about Jesus Christ, and wish to be like him.               Can you read?               A little.               Who taught you to read?               God teach me to read.               What do you mean by saying so?               God give me desire to read, and dat make reading easy. Massa give me Bible, and one sailor show me de letters; and so me learned to read by myself, with God's goot help.               And what do you read in the Bible?               O! me read all about Jesus Christ, and how he loved sinners; and wicked men killed him, and he died, and came again from the grave, and all dis for negro. And it sometime make me cry, to tink dat Christ love so poor negro.               And what do the people say about your reading and praying, and attention to the things of God?               Some wicked people dat do not love Jesus Christ, call me great fool, and negro dog, and black hypocrite. And dat make me sometime feel angry: but den me remember Christian must not be angry for dat. Jesus Christ was called ugly black names, and he was quiet as a lamb; and den me remember Jesus Christ, and me say noting again to dem.                     Copied from imagination's parchment roll, where this, and  many other things, have been on perpetual record from childhood.  Ficticious, as it is, and as ridiculous as it may appear,  I defy any minister, white or black, who preaches to the slaves  in the south, to preach any better doctrines and have his  preaching harmonize with the institution of slavery. The  whole sentiment is consistent with slavery, and the old experienced  southerner will read many things in this discourse  which he has heard before. This is preached more generally  on the Sabbath, previous to the usual holidays by the   Rt. Rev. Bishop Policy.              Well, darkies, I am happy to see so many shining eyes,  and greasy faces today. It speaks two great truths; first, that  you are all awake to your own welfare; and secondly, that  your masters treated you well and gave you meat. You have  come out today to hear the word of God. I hope you will  pay strict attention to what is said, and treasure it up in good  and honest hearts. My text is not taken directly from the  Bible, that is, not our Bible, but yours. We all respect your  Bible more than we do the white man's Bible, or otherwise  the word of God, for your Bible you can obey, but ours you  cannot. The text is recorded in the laws of Maryland, A.  D. 1715, Chapter 44, Section 22.  All negroes and other          slaves already imported, or hereafter to be imported into this  province, and all children born, or hereafter to be born of  such negroes and slaves, shall be slaves during their natural  lives.  In the first place, I shall show God's wisdom displayed  in the system of slavery. Second, the master's great  responsibility. Third and last, the consequence of disobedience.  God's wisdom is displayed in the system of  slavery. The text declares positively that you shall all be  slaves during your natural lives. What a great blessing God  has brought to you, my colored friends, through the economy  of His divine grace. A greater blessing never was conferred  on mortals. From the birth of Adam until the present day  we are taught in our Bible that God wrought miracles upon  the Egyptians  -  brought the children of Israel over the Red  Sea  -  preserved them in the wilderness in safety. But by  and by they entered into the land of Canaan, a land of  freedom, and immediately they began to have trouble and  discord. But you, my colored friends, have been prepared   with a perpetual home through life. You are as trees planted  by the river of waters, whose branches fail not. O that you  might praise the Lord for his goodness and for His wonderful  works toward you black people.           Again, God's wisdom is displayed in the institution of  slavery, in its great plan of perpetuating the negro race.   The white men, the masterpiece of God's creation.  when  tracing nature through various windings, while the good Samaritans  were seeking upon the face of God's earth for  objects of pity and compassion, somehow, very mysteriously,  were wafted by the kind breezes of heaven to the burning  shores of Africa. There they found the sooty tribes of  that hot climate very much degraded. At first they scarcely  knew what to call them; they so much resembled the orangoutang          as to cause a great controversy among God's people.  Finally they were seen to bow with reverence and adore an  image of their own making. Again, they were seen warring,  slaying and eating each other, and sacrificing one another by  thousands to their deities.            This disposition was so much like that of the low class of  whites that they felt the spirit of pity and compassion move  towards those poor God forsaken creatures, and a plan  was immediately formed for their protection and elevation.  They were at once taken on board ship, kindly treated,  and safely brought to America, where they were put in the  care of kind men who provided for them, clothed and fed  them, and comforted them in sickness and in health. And  here you have been until the present day. Now you can see   what God has done for you in instituting this system of  slavery. You were found an ignorant set, no top on your  heads  -  and it is doubtful whether you had any soul  -  more  than the apes that played around you. But through the  economy of God's grace you have been transplanted upon  American soil, and through much toil on the part of the  white man, you are becoming quite intelligent. The white  man, through amalgamation, has not only imparted to you  his straight hair, high nose, blue eyes, thin lips and perfect  form, but it is to be hoped that you have a soul much resembling  his, which will, by his care and attention, and your  obedience to his precepts, stand a great chance to be admitted  upon the ground floor of God's glorious temple in  heaven  -  this is better than a thousand lives in Africa, and  who would despise his chains, which are but for a moment,  and then passeth away  -  for the blessings which flow out of  the system of slavery. The text declares that you shall be  slaves your natural lives, which may signify that it is your          nature to be slaves. That is, that you are created to be servants  of the white man, and all the children to be born of  you are to be slaves. Yes, Susan, that little blue-eyed boy  you are now trotting upon your knee  -  the express  image of his young master Thomas, is to be a slave, and  should you ever see the least disposition of his young master  exciting his aspirations to freedom, you must crush that disposition  immediately, and repeat to him the language of the  text.            Again God's wisdom is displayed in making you with  strong constitutions. See what large, robust, fat, greasy  looking fellows you all are. See what clear, white teeth you  have. Just look at me. See what a puny, slender, delicate,  pale looking creature I am, my teeth all decayed. I could  not crack parched corn and cotton seeds and get fat like you  all do. If I should take a hoe or pitchfork in my hands they  would be soiled, and if I should work an hour they would be  blistered so badly that I could not correct a slave again for a  month. Just look at my hand now. The other day I took  hold of a rough cowhide without my gloves on, and gave a  young impudent wench, who told my wife something, forty  lashes, and it raised this great blister you see. I was never  made to work. Look at those great, broad-sided, good,  healthy looking wenches sitting before me. What arms they  have. Any of them can work from daylight until dark in  the field, when the sun is so hot that the overseer has to ride  under an umbrella, and your mistress would almost faint just  walking out in the garden. Thus, you can plainly see that  God has not made the white man to work. He is only to  think, plead law, make laws, preach, pray, and carry the gospel  to the heathen, and superintend God's works, while the  blacks were made to do the hard and dirty work. For this          they hard constitutions peculiarly adapted. But again; God's  wisdom is further displayed in the economy of slavery by  creating you void of natural affections, as regards family  sociability, and maternal and parental love for your husbands,  wives and children. Therefore, our conscience is void of offense  toward God or you negroes, when we separate the husbands  from their wives and children, for it is for the purpose  of rearing up fine temples for the glory of God and his Kingdom.                   who was a white man; the law making it necessary that white persons should be present at all assemblages of slaves or free negroes. The object of all the slaveholders in having their slaves go to church can be clearly seen by the following sermon, which, or one very similar to it, I recollect hearing while worshipping at this church, which has been published and circulated quite extensively at the South:--  'All things whatsoever ye would that men should do unto you, do ye even so unto them:' That is, do by all mankind just as you would desire they should do by you if you were in their place, and they in yours. Now, to suit this rule to your particular circumstances: suppose you were masters and mistresses, and had servants under you; would you not desire that your servants should do their business faithfully and honestly, as well when your back was turned as while you were looking over them? Would you not expect that they should take notice of what you said to them; that they should behave themselves with respect towards you and yours; and be as careful of everything belonging to you, as you would be yourself? You are servants; do, therefore, as you wish to be done by, and you will be both good servants to your masters and to your God, who requires this of you, and will reward you well for it, if you do it for the sake of conscience, in obedience to his commands. Take care that you do not fret, or murmur, or grumble at your condition, for this will not only make your life uneasy, but will greatly offend Almighty God. Consider, this it is not yourselves; it is not the people you belong to; it is not the men that have brought you to it; but it is the will of God, who hath by wise providence made you servants, because,           no doubt, he knew that condition would be best for you in this world and help you the better toward heaven, if you would but do your duty in it; so that any discontent at your not being free, or rich, or great as some others, is quarrelling with your Heavenly Master, and finding fault with God himself. There is only one circumstance which may appear grievous; that I shall now take notice of,--and that is, correction. Now, let us see what the Scriptures say on this point. 'The servant that knoweth his master's will and doeth it not, shall be beaten with many stripes.' Now, does this not apply directly to yourselves? Now, when correction is given to you, you either deserve it, or you do not deserve it; but, whether you really deserve it or not, it is your duty, and Almighty God requires, that you bear it patiently. You may perhaps think that this is hard doctrine; but if you consider right, you must needs think otherwise of it. Suppose, then, that you deserve correction, you cannot but say that it is right and just you should meet with it. Suppose, then, that you deserve correction, you cannot but say that it is right and just you should meet with it. Suppose you do not deserve it, or at least do not deserve so much punishment for the fault you have committed, you perhaps have escaped a great many more, and are at last paid for all. Or, suppose you are quite innocent of what is laid to your charge, and suffer wrongfully in that particular thing; is it not possible you may have done some other bad thing, which was never discovered, and that Almighty God, who saw you doing it, would not let you escape without punishment some time or another? and ought you not in such a case to give glory to him, and be thankful that he would rather punish you in this world for your wickedness than destroy your souls for it in the next? But, suppose that this even was not the            case,--a case hardly to be imagined; and that you have by no means, known or unknown, deserved the correction you have received, there is this great comfort in it, that if you bear it patiently and leave your cause in your hands of God, he will reward you for it in heaven; and this punishment you suffer unjustly here, shall turn to your exceeding great glory hereafter.              Such, my readers, is the doctrine which is preached to the poor slave; and I could add many more specimens of it, if space would permit. They are made to believe that God made them slaves, that they are always to remain slaves, and bear with patience and humility the unjust punishment they receive on earth, that it may be to their glory hereafter. Is it not an unpardonable sin for man thus to defile the holy sanctuary, and pollute the sacred word of God by using it for such base purposes? But comment is unnecessary; the diabolical facts show fairly enough of themselves, without my attempting to bring them out any more. The cut represents a number of slaves listening to preaching of this kind.      \""
      ]
     },
     "execution_count": 21,
     "metadata": {},
     "output_type": "execute_result"
    }
   ],
   "source": [
    "# texts_by_theme[1]"
   ]
  },
  {
   "cell_type": "code",
   "execution_count": null,
   "metadata": {},
   "outputs": [],
   "source": [
    "# import nltk\n",
    "# nltk.download('wordnet')"
   ]
  },
  {
   "cell_type": "code",
   "execution_count": 23,
   "metadata": {},
   "outputs": [
    {
     "data": {
      "text/plain": [
       "21"
      ]
     },
     "execution_count": 23,
     "metadata": {},
     "output_type": "execute_result"
    }
   ],
   "source": [
    "# # tokenize texts\n",
    "# from nlp_utils import lemmatize_words, remove_stopwords\n",
    "\n",
    "# extra_stopwords = [\"\" , \" \", \"\\n\", \"'s\"]\n",
    "# tokenized_themetxt=[]\n",
    "\n",
    "# for text in texts_by_theme:\n",
    "#     base_text = remove_stopwords(text, extra_stopwords)\n",
    "#     lemmatized = lemmatize_words(base_text)\n",
    "#     tokenized_themetxt.append(lemmatized)\n",
    "\n",
    "# len(tokenized_themetxt)"
   ]
  },
  {
   "cell_type": "code",
   "execution_count": 24,
   "metadata": {},
   "outputs": [
    {
     "data": {
      "text/plain": [
       "['Baptism',\n",
       " 'Bible ',\n",
       " 'Biblical Israel, identification with',\n",
       " \"Christmas, slaves' celebration\",\n",
       " 'Condemnation of masters',\n",
       " 'Conjure ',\n",
       " 'Conversion experience',\n",
       " 'Funerals',\n",
       " \"Heaven, slaves' notion of\",\n",
       " 'Jesus',\n",
       " 'Literacy',\n",
       " 'Marriage',\n",
       " 'Morality',\n",
       " 'Prayer',\n",
       " 'Preachers, black',\n",
       " 'Religious experience, positive',\n",
       " 'Religious practice ',\n",
       " 'Resistance (religious motivation)',\n",
       " 'Revivals',\n",
       " \"Sabbath, slaves' observance\",\n",
       " 'Spirituals']"
      ]
     },
     "execution_count": 24,
     "metadata": {},
     "output_type": "execute_result"
    }
   ],
   "source": [
    "# # clean up theme names for readability\n",
    "# clear_theme_names = []\n",
    "\n",
    "# for name in theme_names:\n",
    "\n",
    "#     is_literacy = True if name.find(\"Literacy\") != -1 else False\n",
    "#     is_morality = True if name.find(\"Morality\") != -1 else False\n",
    "#     is_prayer = True if name.find(\"Prayer meetings\") != -1 else False\n",
    "\n",
    "#     if is_literacy:\n",
    "#         clear_theme_names.append(\"Literacy\")\n",
    "#     elif is_morality:\n",
    "#         clear_theme_names.append(\"Morality\")\n",
    "#     elif is_prayer:\n",
    "#         clear_theme_names.append(\"Prayer\")\n",
    "#     else:\n",
    "#         clear_theme_names.append(name)\n",
    "# clear_theme_names"
   ]
  },
  {
   "cell_type": "code",
   "execution_count": 25,
   "metadata": {},
   "outputs": [
    {
     "data": {
      "image/png": "[encoded data removed]",
      "text/plain": [
       "<Figure size 432x288 with 1 Axes>"
      ]
     },
     "metadata": {
      "needs_background": "light"
     },
     "output_type": "display_data"
    }
   ],
   "source": [
    "# # plot len of words\n",
    "# import matplotlib.pyplot as plt\n",
    "\n",
    "# #x = theme, y = len(tokenized text)\n",
    "# num_words = [len(word_list) for word_list in tokenized_themetxt]\n",
    "# fig, ax = plt.subplots()\n",
    "# ax.barh(clear_theme_names,num_words)\n",
    "# ax.set_title(\"Number of words in each Theme\")\n",
    "# ax.set_ylabel(\"Theme\")\n",
    "# ax.set_xlabel(\"Word count\")\n",
    "# plt.show()"
   ]
  },
  {
   "cell_type": "code",
   "execution_count": 26,
   "metadata": {},
   "outputs": [],
   "source": [
    "# # get all the word counts\n",
    "# from nlp_utils import get_word_counts\n",
    "# thematic_word_counts = []\n",
    "# for text in tokenized_themetxt:\n",
    "#     word_count = get_word_counts(text)\n",
    "#     thematic_word_counts.append(word_count)\n"
   ]
  },
  {
   "cell_type": "code",
   "execution_count": 27,
   "metadata": {},
   "outputs": [
    {
     "data": {
      "image/png": "[encoded data removed]",
      "text/plain": [
       "<Figure size 432x288 with 1 Axes>"
      ]
     },
     "metadata": {
      "needs_background": "light"
     },
     "output_type": "display_data"
    }
   ],
   "source": [
    "# import matplotlib.pyplot as plt\n",
    "# # plot len of unique words\n",
    "# #x = theme, y = len(unique tokenized text)\n",
    "# unique_words = []\n",
    "# for each in thematic_word_counts:\n",
    "#     unique_words.append(list(each.keys()))\n",
    "\n",
    "# num_unique_words = [len(words) for words in unique_words]\n",
    "# fig, ax = plt.subplots()\n",
    "# ax.barh(clear_theme_names,num_unique_words)\n",
    "# ax.set_title(\"Number of unique words in each Theme\")\n",
    "# ax.set_ylabel(\"Theme\")\n",
    "# ax.set_xlabel(\"Word count\")\n",
    "# # plt.xticks(rotation = 90)\n",
    "# plt.show()"
   ]
  },
  {
   "cell_type": "code",
   "execution_count": 28,
   "metadata": {},
   "outputs": [
    {
     "data": {
      "image/png": "[encoded data removed]",
      "text/plain": [
       "<Figure size 432x288 with 1 Axes>"
      ]
     },
     "metadata": {
      "needs_background": "light"
     },
     "output_type": "display_data"
    },
    {
     "data": {
      "image/png": "[encoded data removed]",
      "text/plain": [
       "<Figure size 432x288 with 1 Axes>"
      ]
     },
     "metadata": {
      "needs_background": "light"
     },
     "output_type": "display_data"
    },
    {
     "data": {
      "image/png": "[encoded data removed]",
      "text/plain": [
       "<Figure size 432x288 with 1 Axes>"
      ]
     },
     "metadata": {
      "needs_background": "light"
     },
     "output_type": "display_data"
    },
    {
     "data": {
      "image/png": "[encoded data removed]",
      "text/plain": [
       "<Figure size 432x288 with 1 Axes>"
      ]
     },
     "metadata": {
      "needs_background": "light"
     },
     "output_type": "display_data"
    },
    {
     "data": {
      "image/png": "[encoded data removed]",
      "text/plain": [
       "<Figure size 432x288 with 1 Axes>"
      ]
     },
     "metadata": {
      "needs_background": "light"
     },
     "output_type": "display_data"
    },
    {
     "data": {
      "image/png": "[encoded data removed]",
      "text/plain": [
       "<Figure size 432x288 with 1 Axes>"
      ]
     },
     "metadata": {
      "needs_background": "light"
     },
     "output_type": "display_data"
    },
    {
     "data": {
      "image/png": "[encoded data removed]",
      "text/plain": [
       "<Figure size 432x288 with 1 Axes>"
      ]
     },
     "metadata": {
      "needs_background": "light"
     },
     "output_type": "display_data"
    },
    {
     "data": {
      "image/png": "[encoded data removed]",
      "text/plain": [
       "<Figure size 432x288 with 1 Axes>"
      ]
     },
     "metadata": {
      "needs_background": "light"
     },
     "output_type": "display_data"
    },
    {
     "data": {
      "image/png": "[encoded data removed]",
      "text/plain": [
       "<Figure size 432x288 with 1 Axes>"
      ]
     },
     "metadata": {
      "needs_background": "light"
     },
     "output_type": "display_data"
    },
    {
     "data": {
      "image/png": "[encoded data removed]",
      "text/plain": [
       "<Figure size 432x288 with 1 Axes>"
      ]
     },
     "metadata": {
      "needs_background": "light"
     },
     "output_type": "display_data"
    },
    {
     "data": {
      "image/png": "[encoded data removed]",
      "text/plain": [
       "<Figure size 432x288 with 1 Axes>"
      ]
     },
     "metadata": {
      "needs_background": "light"
     },
     "output_type": "display_data"
    },
    {
     "data": {
      "image/png": "[encoded data removed]",
      "text/plain": [
       "<Figure size 432x288 with 1 Axes>"
      ]
     },
     "metadata": {
      "needs_background": "light"
     },
     "output_type": "display_data"
    },
    {
     "data": {
      "image/png": "[encoded data removed]",
      "text/plain": [
       "<Figure size 432x288 with 1 Axes>"
      ]
     },
     "metadata": {
      "needs_background": "light"
     },
     "output_type": "display_data"
    },
    {
     "data": {
      "image/png": "[encoded data removed]",
      "text/plain": [
       "<Figure size 432x288 with 1 Axes>"
      ]
     },
     "metadata": {
      "needs_background": "light"
     },
     "output_type": "display_data"
    },
    {
     "data": {
      "image/png": "[encoded data removed]",
      "text/plain": [
       "<Figure size 432x288 with 1 Axes>"
      ]
     },
     "metadata": {
      "needs_background": "light"
     },
     "output_type": "display_data"
    },
    {
     "data": {
      "image/png": "[encoded data removed]",
      "text/plain": [
       "<Figure size 432x288 with 1 Axes>"
      ]
     },
     "metadata": {
      "needs_background": "light"
     },
     "output_type": "display_data"
    },
    {
     "data": {
      "image/png": "[encoded data removed]",
      "text/plain": [
       "<Figure size 432x288 with 1 Axes>"
      ]
     },
     "metadata": {
      "needs_background": "light"
     },
     "output_type": "display_data"
    },
    {
     "data": {
      "image/png": "[encoded data removed]",
      "text/plain": [
       "<Figure size 432x288 with 1 Axes>"
      ]
     },
     "metadata": {
      "needs_background": "light"
     },
     "output_type": "display_data"
    },
    {
     "data": {
      "image/png": "[encoded data removed]",
      "text/plain": [
       "<Figure size 432x288 with 1 Axes>"
      ]
     },
     "metadata": {
      "needs_background": "light"
     },
     "output_type": "display_data"
    },
    {
     "data": {
      "image/png": "[encoded data removed]",
      "text/plain": [
       "<Figure size 432x288 with 1 Axes>"
      ]
     },
     "metadata": {
      "needs_background": "light"
     },
     "output_type": "display_data"
    },
    {
     "data": {
      "image/png": "[encoded data removed]",
      "text/plain": [
       "<Figure size 432x288 with 1 Axes>"
      ]
     },
     "metadata": {
      "needs_background": "light"
     },
     "output_type": "display_data"
    }
   ],
   "source": [
    "# # plot spread of word counts\n",
    "# import matplotlib.pyplot as plt\n",
    "\n",
    "\n",
    "# for i in range(len(clear_theme_names)):\n",
    "#     theme_name = clear_theme_names[i]\n",
    "#     counts = thematic_word_counts[i]\n",
    "#     sorted_word_counts = sorted(list(counts.values()), reverse=True)\n",
    "#     #plot hist\n",
    "#     # x = freq of counts ()\n",
    "#     fig, ax = plt.subplots()\n",
    "#     ax.hist(sorted_word_counts, log=True)\n",
    "#     ax.set_title(f\"Theme: {theme_name}\")\n",
    "#     ax.set_xlabel(\"Word counts\")\n",
    "#     ax.set_ylabel(\"Frequency\")\n",
    "#     plt.show()\n"
   ]
  },
  {
   "cell_type": "code",
   "execution_count": 29,
   "metadata": {},
   "outputs": [
    {
     "name": "stderr",
     "output_type": "stream",
     "text": [
      "/var/folders/18/918s5vr16kl9091zgnswr5gm0000gn/T/ipykernel_31011/2771582464.py:14: UserWarning: Attempted to set non-positive left xlim on a log-scaled axis.\n",
      "Invalid limit will be ignored.\n",
      "  ax.set(xlim=(0, 5000), ylim=(0, 10**3))\n",
      "/var/folders/18/918s5vr16kl9091zgnswr5gm0000gn/T/ipykernel_31011/2771582464.py:14: UserWarning: Attempted to set non-positive bottom ylim on a log-scaled axis.\n",
      "Invalid limit will be ignored.\n",
      "  ax.set(xlim=(0, 5000), ylim=(0, 10**3))\n"
     ]
    },
    {
     "data": {
      "image/png": "[encoded data removed]",
      "text/plain": [
       "<Figure size 432x288 with 1 Axes>"
      ]
     },
     "metadata": {
      "needs_background": "light"
     },
     "output_type": "display_data"
    },
    {
     "data": {
      "image/png": "[encoded data removed]",
      "text/plain": [
       "<Figure size 432x288 with 1 Axes>"
      ]
     },
     "metadata": {
      "needs_background": "light"
     },
     "output_type": "display_data"
    },
    {
     "data": {
      "image/png": "[encoded data removed]",
      "text/plain": [
       "<Figure size 432x288 with 1 Axes>"
      ]
     },
     "metadata": {
      "needs_background": "light"
     },
     "output_type": "display_data"
    },
    {
     "data": {
      "image/png": "[encoded data removed]",
      "text/plain": [
       "<Figure size 432x288 with 1 Axes>"
      ]
     },
     "metadata": {
      "needs_background": "light"
     },
     "output_type": "display_data"
    },
    {
     "data": {
      "image/png": "[encoded data removed]",
      "text/plain": [
       "<Figure size 432x288 with 1 Axes>"
      ]
     },
     "metadata": {
      "needs_background": "light"
     },
     "output_type": "display_data"
    },
    {
     "data": {
      "image/png": "[encoded data removed]",
      "text/plain": [
       "<Figure size 432x288 with 1 Axes>"
      ]
     },
     "metadata": {
      "needs_background": "light"
     },
     "output_type": "display_data"
    },
    {
     "data": {
      "image/png": "[encoded data removed]",
      "text/plain": [
       "<Figure size 432x288 with 1 Axes>"
      ]
     },
     "metadata": {
      "needs_background": "light"
     },
     "output_type": "display_data"
    },
    {
     "data": {
      "image/png": "[encoded data removed]",
      "text/plain": [
       "<Figure size 432x288 with 1 Axes>"
      ]
     },
     "metadata": {
      "needs_background": "light"
     },
     "output_type": "display_data"
    },
    {
     "data": {
      "image/png": "[encoded data removed]",
      "text/plain": [
       "<Figure size 432x288 with 1 Axes>"
      ]
     },
     "metadata": {
      "needs_background": "light"
     },
     "output_type": "display_data"
    },
    {
     "data": {
      "image/png": "[encoded data removed]",
      "text/plain": [
       "<Figure size 432x288 with 1 Axes>"
      ]
     },
     "metadata": {
      "needs_background": "light"
     },
     "output_type": "display_data"
    },
    {
     "data": {
      "image/png": "[encoded data removed]",
      "text/plain": [
       "<Figure size 432x288 with 1 Axes>"
      ]
     },
     "metadata": {
      "needs_background": "light"
     },
     "output_type": "display_data"
    },
    {
     "data": {
      "image/png": "[encoded data removed]",
      "text/plain": [
       "<Figure size 432x288 with 1 Axes>"
      ]
     },
     "metadata": {
      "needs_background": "light"
     },
     "output_type": "display_data"
    },
    {
     "data": {
      "image/png": "[encoded data removed]",
      "text/plain": [
       "<Figure size 432x288 with 1 Axes>"
      ]
     },
     "metadata": {
      "needs_background": "light"
     },
     "output_type": "display_data"
    },
    {
     "data": {
      "image/png": "[encoded data removed]",
      "text/plain": [
       "<Figure size 432x288 with 1 Axes>"
      ]
     },
     "metadata": {
      "needs_background": "light"
     },
     "output_type": "display_data"
    },
    {
     "data": {
      "image/png": "[encoded data removed]",
      "text/plain": [
       "<Figure size 432x288 with 1 Axes>"
      ]
     },
     "metadata": {
      "needs_background": "light"
     },
     "output_type": "display_data"
    },
    {
     "data": {
      "image/png": "[encoded data removed]",
      "text/plain": [
       "<Figure size 432x288 with 1 Axes>"
      ]
     },
     "metadata": {
      "needs_background": "light"
     },
     "output_type": "display_data"
    },
    {
     "data": {
      "image/png": "[encoded data removed]",
      "text/plain": [
       "<Figure size 432x288 with 1 Axes>"
      ]
     },
     "metadata": {
      "needs_background": "light"
     },
     "output_type": "display_data"
    },
    {
     "data": {
      "image/png": "[encoded data removed]",
      "text/plain": [
       "<Figure size 432x288 with 1 Axes>"
      ]
     },
     "metadata": {
      "needs_background": "light"
     },
     "output_type": "display_data"
    },
    {
     "data": {
      "image/png": "[encoded data removed]",
      "text/plain": [
       "<Figure size 432x288 with 1 Axes>"
      ]
     },
     "metadata": {
      "needs_background": "light"
     },
     "output_type": "display_data"
    },
    {
     "data": {
      "image/png": "[encoded data removed]",
      "text/plain": [
       "<Figure size 432x288 with 1 Axes>"
      ]
     },
     "metadata": {
      "needs_background": "light"
     },
     "output_type": "display_data"
    },
    {
     "data": {
      "image/png": "[encoded data removed]",
      "text/plain": [
       "<Figure size 432x288 with 1 Axes>"
      ]
     },
     "metadata": {
      "needs_background": "light"
     },
     "output_type": "display_data"
    }
   ],
   "source": [
    "# # plot \n",
    "# import matplotlib.pyplot as plt\n",
    "\n",
    "# for i in range(len(theme_names)):\n",
    "#     theme_name = clear_theme_names[i]\n",
    "#     counts = thematic_word_counts[i]\n",
    "#     sorted_word_counts = sorted(list(counts.values()), reverse=True)\n",
    "\n",
    "#     fig, ax = plt.subplots()\n",
    "#     ax.loglog(sorted_word_counts)\n",
    "#     ax.set_title(f\"Theme: {theme_name}\")\n",
    "#     ax.set_xlabel(\"Word counts\")\n",
    "#     ax.set_ylabel(\"Frequency\")\n",
    "#     ax.set(xlim=(0, 5000), ylim=(0, 10**3))\n",
    "#     plt.show()\n"
   ]
  },
  {
   "attachments": {},
   "cell_type": "markdown",
   "metadata": {},
   "source": [
    "### Theme Classifier - setup"
   ]
  },
  {
   "cell_type": "code",
   "execution_count": 30,
   "metadata": {},
   "outputs": [
    {
     "data": {
      "text/html": [
       "<div>\n",
       "<style scoped>\n",
       "    .dataframe tbody tr th:only-of-type {\n",
       "        vertical-align: middle;\n",
       "    }\n",
       "\n",
       "    .dataframe tbody tr th {\n",
       "        vertical-align: top;\n",
       "    }\n",
       "\n",
       "    .dataframe thead th {\n",
       "        text-align: right;\n",
       "    }\n",
       "</style>\n",
       "<table border=\"1\" class=\"dataframe\">\n",
       "  <thead>\n",
       "    <tr style=\"text-align: right;\">\n",
       "      <th></th>\n",
       "      <th>theme</th>\n",
       "      <th>title</th>\n",
       "      <th>year</th>\n",
       "      <th>text</th>\n",
       "    </tr>\n",
       "  </thead>\n",
       "  <tbody>\n",
       "    <tr>\n",
       "      <th>0</th>\n",
       "      <td>Baptism</td>\n",
       "      <td>Narrative of Henry Box Brown</td>\n",
       "      <td>1849</td>\n",
       "      <td>slavery is dissolved. The slave's wife is ...</td>\n",
       "    </tr>\n",
       "    <tr>\n",
       "      <th>1</th>\n",
       "      <td>Baptism</td>\n",
       "      <td>Biography of an American Bondman</td>\n",
       "      <td>1856, c1855</td>\n",
       "      <td>Haskell, the overseer, experien...</td>\n",
       "    </tr>\n",
       "    <tr>\n",
       "      <th>2</th>\n",
       "      <td>Baptism</td>\n",
       "      <td>Memoir of Mrs. Chloe Spear</td>\n",
       "      <td>1832</td>\n",
       "      <td>herself entirely alone, she fell on her ...</td>\n",
       "    </tr>\n",
       "    <tr>\n",
       "      <th>3</th>\n",
       "      <td>Baptism</td>\n",
       "      <td>Life of George Henry</td>\n",
       "      <td>1894</td>\n",
       "      <td>to bind all that called upon the name of...</td>\n",
       "    </tr>\n",
       "    <tr>\n",
       "      <th>4</th>\n",
       "      <td>Baptism</td>\n",
       "      <td>Twenty-Eight Years a Slave</td>\n",
       "      <td>1909</td>\n",
       "      <td>But now I thought that if my master would...</td>\n",
       "    </tr>\n",
       "    <tr>\n",
       "      <th>...</th>\n",
       "      <td>...</td>\n",
       "      <td>...</td>\n",
       "      <td>...</td>\n",
       "      <td>...</td>\n",
       "    </tr>\n",
       "    <tr>\n",
       "      <th>383</th>\n",
       "      <td>Spirituals</td>\n",
       "      <td>Reminiscences of Isaac and Sukey</td>\n",
       "      <td>1907</td>\n",
       "      <td>Sukey Bat Moore on the Art of Flying.  ...</td>\n",
       "    </tr>\n",
       "    <tr>\n",
       "      <th>384</th>\n",
       "      <td>Spirituals</td>\n",
       "      <td>Uncle Johnson</td>\n",
       "      <td>1860</td>\n",
       "      <td>charm. They would come forth as spontane...</td>\n",
       "    </tr>\n",
       "    <tr>\n",
       "      <th>385</th>\n",
       "      <td>Spirituals</td>\n",
       "      <td>Days of Bondage</td>\n",
       "      <td>1883</td>\n",
       "      <td>on Tuesday morning--this was Sunday nigh...</td>\n",
       "    </tr>\n",
       "    <tr>\n",
       "      <th>386</th>\n",
       "      <td>Spirituals</td>\n",
       "      <td>The Kidnapped and the Ransomed</td>\n",
       "      <td>1856</td>\n",
       "      <td>you to go to the gin-house, and get Ann ...</td>\n",
       "    </tr>\n",
       "    <tr>\n",
       "      <th>387</th>\n",
       "      <td>Spirituals</td>\n",
       "      <td>Autobiography of James L. Smith</td>\n",
       "      <td>1881</td>\n",
       "      <td>a greater part of the distance fast aslee...</td>\n",
       "    </tr>\n",
       "  </tbody>\n",
       "</table>\n",
       "<p>388 rows × 4 columns</p>\n",
       "</div>"
      ],
      "text/plain": [
       "          theme                             title         year  \\\n",
       "0       Baptism      Narrative of Henry Box Brown         1849   \n",
       "1       Baptism  Biography of an American Bondman  1856, c1855   \n",
       "2       Baptism        Memoir of Mrs. Chloe Spear         1832   \n",
       "3       Baptism              Life of George Henry         1894   \n",
       "4       Baptism        Twenty-Eight Years a Slave         1909   \n",
       "..          ...                               ...          ...   \n",
       "383  Spirituals  Reminiscences of Isaac and Sukey         1907   \n",
       "384  Spirituals                     Uncle Johnson         1860   \n",
       "385  Spirituals                   Days of Bondage         1883   \n",
       "386  Spirituals    The Kidnapped and the Ransomed         1856   \n",
       "387  Spirituals   Autobiography of James L. Smith         1881   \n",
       "\n",
       "                                                  text  \n",
       "0        slavery is dissolved. The slave's wife is ...  \n",
       "1                   Haskell, the overseer, experien...  \n",
       "2          herself entirely alone, she fell on her ...  \n",
       "3          to bind all that called upon the name of...  \n",
       "4         But now I thought that if my master would...  \n",
       "..                                                 ...  \n",
       "383         Sukey Bat Moore on the Art of Flying.  ...  \n",
       "384        charm. They would come forth as spontane...  \n",
       "385        on Tuesday morning--this was Sunday nigh...  \n",
       "386        you to go to the gin-house, and get Ann ...  \n",
       "387       a greater part of the distance fast aslee...  \n",
       "\n",
       "[388 rows x 4 columns]"
      ]
     },
     "execution_count": 30,
     "metadata": {},
     "output_type": "execute_result"
    }
   ],
   "source": [
    "# classifier_df = new_df.copy()\n",
    "# classifier_df"
   ]
  },
  {
   "cell_type": "code",
   "execution_count": 31,
   "metadata": {},
   "outputs": [
    {
     "data": {
      "text/html": [
       "<div>\n",
       "<style scoped>\n",
       "    .dataframe tbody tr th:only-of-type {\n",
       "        vertical-align: middle;\n",
       "    }\n",
       "\n",
       "    .dataframe tbody tr th {\n",
       "        vertical-align: top;\n",
       "    }\n",
       "\n",
       "    .dataframe thead th {\n",
       "        text-align: right;\n",
       "    }\n",
       "</style>\n",
       "<table border=\"1\" class=\"dataframe\">\n",
       "  <thead>\n",
       "    <tr style=\"text-align: right;\">\n",
       "      <th></th>\n",
       "      <th>theme</th>\n",
       "      <th>title</th>\n",
       "      <th>year</th>\n",
       "      <th>text</th>\n",
       "      <th>tokenized_texts</th>\n",
       "    </tr>\n",
       "  </thead>\n",
       "  <tbody>\n",
       "    <tr>\n",
       "      <th>0</th>\n",
       "      <td>Baptism</td>\n",
       "      <td>Narrative of Henry Box Brown</td>\n",
       "      <td>1849</td>\n",
       "      <td>slavery is dissolved. The slave's wife is ...</td>\n",
       "      <td>[slavery, dissolved, slave, wife, master, may,...</td>\n",
       "    </tr>\n",
       "    <tr>\n",
       "      <th>1</th>\n",
       "      <td>Baptism</td>\n",
       "      <td>Biography of an American Bondman</td>\n",
       "      <td>1856, c1855</td>\n",
       "      <td>Haskell, the overseer, experien...</td>\n",
       "      <td>[haskell, overseer, experienced, religion, tim...</td>\n",
       "    </tr>\n",
       "    <tr>\n",
       "      <th>2</th>\n",
       "      <td>Baptism</td>\n",
       "      <td>Memoir of Mrs. Chloe Spear</td>\n",
       "      <td>1832</td>\n",
       "      <td>herself entirely alone, she fell on her ...</td>\n",
       "      <td>[entirely, alone, fell, knee, broken, accent, ...</td>\n",
       "    </tr>\n",
       "    <tr>\n",
       "      <th>3</th>\n",
       "      <td>Baptism</td>\n",
       "      <td>Life of George Henry</td>\n",
       "      <td>1894</td>\n",
       "      <td>to bind all that called upon the name of...</td>\n",
       "      <td>[bind, called, upon, name, lord, bring, jerusa...</td>\n",
       "    </tr>\n",
       "    <tr>\n",
       "      <th>4</th>\n",
       "      <td>Baptism</td>\n",
       "      <td>Twenty-Eight Years a Slave</td>\n",
       "      <td>1909</td>\n",
       "      <td>But now I thought that if my master would...</td>\n",
       "      <td>[thought, master, would, come, jesus, could, s...</td>\n",
       "    </tr>\n",
       "    <tr>\n",
       "      <th>...</th>\n",
       "      <td>...</td>\n",
       "      <td>...</td>\n",
       "      <td>...</td>\n",
       "      <td>...</td>\n",
       "      <td>...</td>\n",
       "    </tr>\n",
       "    <tr>\n",
       "      <th>383</th>\n",
       "      <td>Spirituals</td>\n",
       "      <td>Reminiscences of Isaac and Sukey</td>\n",
       "      <td>1907</td>\n",
       "      <td>Sukey Bat Moore on the Art of Flying.  ...</td>\n",
       "      <td>[sukey, bat, moore, art, flying, one, summer, ...</td>\n",
       "    </tr>\n",
       "    <tr>\n",
       "      <th>384</th>\n",
       "      <td>Spirituals</td>\n",
       "      <td>Uncle Johnson</td>\n",
       "      <td>1860</td>\n",
       "      <td>charm. They would come forth as spontane...</td>\n",
       "      <td>[charm, would, come, forth, spontaneously, nat...</td>\n",
       "    </tr>\n",
       "    <tr>\n",
       "      <th>385</th>\n",
       "      <td>Spirituals</td>\n",
       "      <td>Days of Bondage</td>\n",
       "      <td>1883</td>\n",
       "      <td>on Tuesday morning--this was Sunday nigh...</td>\n",
       "      <td>[tuesday, morning, sunday, night, house, five,...</td>\n",
       "    </tr>\n",
       "    <tr>\n",
       "      <th>386</th>\n",
       "      <td>Spirituals</td>\n",
       "      <td>The Kidnapped and the Ransomed</td>\n",
       "      <td>1856</td>\n",
       "      <td>you to go to the gin-house, and get Ann ...</td>\n",
       "      <td>[go, gin-house, get, ann, eliza, give, one, go...</td>\n",
       "    </tr>\n",
       "    <tr>\n",
       "      <th>387</th>\n",
       "      <td>Spirituals</td>\n",
       "      <td>Autobiography of James L. Smith</td>\n",
       "      <td>1881</td>\n",
       "      <td>a greater part of the distance fast aslee...</td>\n",
       "      <td>[greater, part, distance, fast, asleep, knew, ...</td>\n",
       "    </tr>\n",
       "  </tbody>\n",
       "</table>\n",
       "<p>388 rows × 5 columns</p>\n",
       "</div>"
      ],
      "text/plain": [
       "          theme                             title         year  \\\n",
       "0       Baptism      Narrative of Henry Box Brown         1849   \n",
       "1       Baptism  Biography of an American Bondman  1856, c1855   \n",
       "2       Baptism        Memoir of Mrs. Chloe Spear         1832   \n",
       "3       Baptism              Life of George Henry         1894   \n",
       "4       Baptism        Twenty-Eight Years a Slave         1909   \n",
       "..          ...                               ...          ...   \n",
       "383  Spirituals  Reminiscences of Isaac and Sukey         1907   \n",
       "384  Spirituals                     Uncle Johnson         1860   \n",
       "385  Spirituals                   Days of Bondage         1883   \n",
       "386  Spirituals    The Kidnapped and the Ransomed         1856   \n",
       "387  Spirituals   Autobiography of James L. Smith         1881   \n",
       "\n",
       "                                                  text  \\\n",
       "0        slavery is dissolved. The slave's wife is ...   \n",
       "1                   Haskell, the overseer, experien...   \n",
       "2          herself entirely alone, she fell on her ...   \n",
       "3          to bind all that called upon the name of...   \n",
       "4         But now I thought that if my master would...   \n",
       "..                                                 ...   \n",
       "383         Sukey Bat Moore on the Art of Flying.  ...   \n",
       "384        charm. They would come forth as spontane...   \n",
       "385        on Tuesday morning--this was Sunday nigh...   \n",
       "386        you to go to the gin-house, and get Ann ...   \n",
       "387       a greater part of the distance fast aslee...   \n",
       "\n",
       "                                       tokenized_texts  \n",
       "0    [slavery, dissolved, slave, wife, master, may,...  \n",
       "1    [haskell, overseer, experienced, religion, tim...  \n",
       "2    [entirely, alone, fell, knee, broken, accent, ...  \n",
       "3    [bind, called, upon, name, lord, bring, jerusa...  \n",
       "4    [thought, master, would, come, jesus, could, s...  \n",
       "..                                                 ...  \n",
       "383  [sukey, bat, moore, art, flying, one, summer, ...  \n",
       "384  [charm, would, come, forth, spontaneously, nat...  \n",
       "385  [tuesday, morning, sunday, night, house, five,...  \n",
       "386  [go, gin-house, get, ann, eliza, give, one, go...  \n",
       "387  [greater, part, distance, fast, asleep, knew, ...  \n",
       "\n",
       "[388 rows x 5 columns]"
      ]
     },
     "execution_count": 31,
     "metadata": {},
     "output_type": "execute_result"
    }
   ],
   "source": [
    "# # tokenize individual texts\n",
    "# from nlp_utils import lemmatize_words, remove_stopwords\n",
    "# import re\n",
    "\n",
    "# ordinal_text_search = \"(([1-9]|[1-9][0-9])([a-z]|[A-Z])([a-z]|[A-Z]))\"\n",
    "# extra_stopwords = [\"\" , \" \", \"\\n\", \"'s\"]\n",
    "\n",
    "\n",
    "# data = classifier_df[\"text\"]\n",
    "# tokenized_texts=[]\n",
    "# for text in data:\n",
    "#     removed_ordinals = re.sub(ordinal_text_search, \" \", text)\n",
    "#     base_text = remove_stopwords(removed_ordinals, extra_stopwords)\n",
    "#     lemmatized = lemmatize_words(base_text)\n",
    "#     tokenized_texts.append(lemmatized)\n",
    "# classifier_df[\"tokenized_texts\"] = tokenized_texts\n",
    "# classifier_df"
   ]
  },
  {
   "cell_type": "code",
   "execution_count": 32,
   "metadata": {},
   "outputs": [
    {
     "data": {
      "text/plain": [
       "10000"
      ]
     },
     "execution_count": 32,
     "metadata": {},
     "output_type": "execute_result"
    }
   ],
   "source": [
    "# newword_ct = []\n",
    "# for word_list in classifier_df[\"tokenized_texts\"]:\n",
    "#     newword_ct += word_list\n",
    "\n",
    "# # len(set(newword_ct))\n",
    "# newword_ct_list =list(set(newword_ct))\n",
    "# len(newword_ct_list)"
   ]
  },
  {
   "cell_type": "code",
   "execution_count": 33,
   "metadata": {},
   "outputs": [
    {
     "data": {
      "text/plain": [
       "(388, 10000)"
      ]
     },
     "execution_count": 33,
     "metadata": {},
     "output_type": "execute_result"
    }
   ],
   "source": [
    "# word_count_ft = np.zeros((len(classifier_df),len(newword_ct_list)))\n",
    "# word_count_ft.shape"
   ]
  },
  {
   "cell_type": "code",
   "execution_count": 34,
   "metadata": {},
   "outputs": [
    {
     "name": "stdout",
     "output_type": "stream",
     "text": [
      "Shape of word count is: (388, 10000)\n"
     ]
    }
   ],
   "source": [
    "# # fill in each document word matrix\n",
    "# def word_count_feature(word_list,document):\n",
    "#     \"\"\"\n",
    "#     Create a sparse matrix of the word count in a document.\n",
    "#     Input:\n",
    "#         [word_list]; list of all words in a document\n",
    "#         [document]; list of words to count\n",
    "#     Output:\n",
    "#         [sparse matrix]; matrix with count of words in the document (all remaining word counts = 0)\n",
    "#     \"\"\"\n",
    "#     sparse_mat = []\n",
    "#     for word in word_list:\n",
    "#             sparse_mat.append(document.count(word))\n",
    "    \n",
    "#     return  sparse_mat\n",
    "            \n",
    "# import numpy as np\n",
    "# # use newword_ct as a list of all words in my docs\n",
    "# # initialize matrix for word count feature across all words\n",
    "# word_count_ft = np.zeros((len(classifier_df),len(newword_ct_list)))\n",
    "# print(f\"Shape of word count is: {word_count_ft.shape}\")\n",
    "\n",
    "# doc_list= classifier_df[\"tokenized_texts\"]\n",
    "# for i in range(len(doc_list)):\n",
    "#     sparse_word_mat = word_count_feature(newword_ct_list,doc_list[i])\n",
    "\n",
    "#     word_count_ft[i] = sparse_word_mat\n",
    "\n",
    "# # sparse_word_mat[0]\n"
   ]
  },
  {
   "cell_type": "code",
   "execution_count": 35,
   "metadata": {},
   "outputs": [
    {
     "data": {
      "text/html": [
       "<div>\n",
       "<style scoped>\n",
       "    .dataframe tbody tr th:only-of-type {\n",
       "        vertical-align: middle;\n",
       "    }\n",
       "\n",
       "    .dataframe tbody tr th {\n",
       "        vertical-align: top;\n",
       "    }\n",
       "\n",
       "    .dataframe thead th {\n",
       "        text-align: right;\n",
       "    }\n",
       "</style>\n",
       "<table border=\"1\" class=\"dataframe\">\n",
       "  <thead>\n",
       "    <tr style=\"text-align: right;\">\n",
       "      <th></th>\n",
       "      <th>theme</th>\n",
       "      <th>title</th>\n",
       "      <th>year</th>\n",
       "      <th>text</th>\n",
       "      <th>tokenized_texts</th>\n",
       "      <th>word_count_feature</th>\n",
       "    </tr>\n",
       "  </thead>\n",
       "  <tbody>\n",
       "    <tr>\n",
       "      <th>0</th>\n",
       "      <td>Baptism</td>\n",
       "      <td>Narrative of Henry Box Brown</td>\n",
       "      <td>1849</td>\n",
       "      <td>slavery is dissolved. The slave's wife is ...</td>\n",
       "      <td>[slavery, dissolved, slave, wife, master, may,...</td>\n",
       "      <td>[0.0, 0.0, 0.0, 0.0, 0.0, 0.0, 0.0, 0.0, 0.0, ...</td>\n",
       "    </tr>\n",
       "    <tr>\n",
       "      <th>1</th>\n",
       "      <td>Baptism</td>\n",
       "      <td>Biography of an American Bondman</td>\n",
       "      <td>1856, c1855</td>\n",
       "      <td>Haskell, the overseer, experien...</td>\n",
       "      <td>[haskell, overseer, experienced, religion, tim...</td>\n",
       "      <td>[0.0, 0.0, 0.0, 0.0, 0.0, 0.0, 0.0, 0.0, 0.0, ...</td>\n",
       "    </tr>\n",
       "    <tr>\n",
       "      <th>2</th>\n",
       "      <td>Baptism</td>\n",
       "      <td>Memoir of Mrs. Chloe Spear</td>\n",
       "      <td>1832</td>\n",
       "      <td>herself entirely alone, she fell on her ...</td>\n",
       "      <td>[entirely, alone, fell, knee, broken, accent, ...</td>\n",
       "      <td>[0.0, 0.0, 0.0, 0.0, 0.0, 0.0, 0.0, 0.0, 0.0, ...</td>\n",
       "    </tr>\n",
       "    <tr>\n",
       "      <th>3</th>\n",
       "      <td>Baptism</td>\n",
       "      <td>Life of George Henry</td>\n",
       "      <td>1894</td>\n",
       "      <td>to bind all that called upon the name of...</td>\n",
       "      <td>[bind, called, upon, name, lord, bring, jerusa...</td>\n",
       "      <td>[0.0, 1.0, 0.0, 0.0, 0.0, 0.0, 0.0, 0.0, 0.0, ...</td>\n",
       "    </tr>\n",
       "    <tr>\n",
       "      <th>4</th>\n",
       "      <td>Baptism</td>\n",
       "      <td>Twenty-Eight Years a Slave</td>\n",
       "      <td>1909</td>\n",
       "      <td>But now I thought that if my master would...</td>\n",
       "      <td>[thought, master, would, come, jesus, could, s...</td>\n",
       "      <td>[0.0, 0.0, 0.0, 0.0, 0.0, 0.0, 0.0, 0.0, 0.0, ...</td>\n",
       "    </tr>\n",
       "    <tr>\n",
       "      <th>...</th>\n",
       "      <td>...</td>\n",
       "      <td>...</td>\n",
       "      <td>...</td>\n",
       "      <td>...</td>\n",
       "      <td>...</td>\n",
       "      <td>...</td>\n",
       "    </tr>\n",
       "    <tr>\n",
       "      <th>383</th>\n",
       "      <td>Spirituals</td>\n",
       "      <td>Reminiscences of Isaac and Sukey</td>\n",
       "      <td>1907</td>\n",
       "      <td>Sukey Bat Moore on the Art of Flying.  ...</td>\n",
       "      <td>[sukey, bat, moore, art, flying, one, summer, ...</td>\n",
       "      <td>[0.0, 1.0, 0.0, 0.0, 0.0, 0.0, 0.0, 0.0, 0.0, ...</td>\n",
       "    </tr>\n",
       "    <tr>\n",
       "      <th>384</th>\n",
       "      <td>Spirituals</td>\n",
       "      <td>Uncle Johnson</td>\n",
       "      <td>1860</td>\n",
       "      <td>charm. They would come forth as spontane...</td>\n",
       "      <td>[charm, would, come, forth, spontaneously, nat...</td>\n",
       "      <td>[0.0, 0.0, 0.0, 0.0, 0.0, 0.0, 0.0, 0.0, 0.0, ...</td>\n",
       "    </tr>\n",
       "    <tr>\n",
       "      <th>385</th>\n",
       "      <td>Spirituals</td>\n",
       "      <td>Days of Bondage</td>\n",
       "      <td>1883</td>\n",
       "      <td>on Tuesday morning--this was Sunday nigh...</td>\n",
       "      <td>[tuesday, morning, sunday, night, house, five,...</td>\n",
       "      <td>[0.0, 0.0, 0.0, 0.0, 0.0, 0.0, 0.0, 0.0, 0.0, ...</td>\n",
       "    </tr>\n",
       "    <tr>\n",
       "      <th>386</th>\n",
       "      <td>Spirituals</td>\n",
       "      <td>The Kidnapped and the Ransomed</td>\n",
       "      <td>1856</td>\n",
       "      <td>you to go to the gin-house, and get Ann ...</td>\n",
       "      <td>[go, gin-house, get, ann, eliza, give, one, go...</td>\n",
       "      <td>[0.0, 0.0, 0.0, 0.0, 0.0, 0.0, 0.0, 0.0, 0.0, ...</td>\n",
       "    </tr>\n",
       "    <tr>\n",
       "      <th>387</th>\n",
       "      <td>Spirituals</td>\n",
       "      <td>Autobiography of James L. Smith</td>\n",
       "      <td>1881</td>\n",
       "      <td>a greater part of the distance fast aslee...</td>\n",
       "      <td>[greater, part, distance, fast, asleep, knew, ...</td>\n",
       "      <td>[0.0, 0.0, 0.0, 0.0, 0.0, 0.0, 0.0, 0.0, 0.0, ...</td>\n",
       "    </tr>\n",
       "  </tbody>\n",
       "</table>\n",
       "<p>388 rows × 6 columns</p>\n",
       "</div>"
      ],
      "text/plain": [
       "          theme                             title         year  \\\n",
       "0       Baptism      Narrative of Henry Box Brown         1849   \n",
       "1       Baptism  Biography of an American Bondman  1856, c1855   \n",
       "2       Baptism        Memoir of Mrs. Chloe Spear         1832   \n",
       "3       Baptism              Life of George Henry         1894   \n",
       "4       Baptism        Twenty-Eight Years a Slave         1909   \n",
       "..          ...                               ...          ...   \n",
       "383  Spirituals  Reminiscences of Isaac and Sukey         1907   \n",
       "384  Spirituals                     Uncle Johnson         1860   \n",
       "385  Spirituals                   Days of Bondage         1883   \n",
       "386  Spirituals    The Kidnapped and the Ransomed         1856   \n",
       "387  Spirituals   Autobiography of James L. Smith         1881   \n",
       "\n",
       "                                                  text  \\\n",
       "0        slavery is dissolved. The slave's wife is ...   \n",
       "1                   Haskell, the overseer, experien...   \n",
       "2          herself entirely alone, she fell on her ...   \n",
       "3          to bind all that called upon the name of...   \n",
       "4         But now I thought that if my master would...   \n",
       "..                                                 ...   \n",
       "383         Sukey Bat Moore on the Art of Flying.  ...   \n",
       "384        charm. They would come forth as spontane...   \n",
       "385        on Tuesday morning--this was Sunday nigh...   \n",
       "386        you to go to the gin-house, and get Ann ...   \n",
       "387       a greater part of the distance fast aslee...   \n",
       "\n",
       "                                       tokenized_texts  \\\n",
       "0    [slavery, dissolved, slave, wife, master, may,...   \n",
       "1    [haskell, overseer, experienced, religion, tim...   \n",
       "2    [entirely, alone, fell, knee, broken, accent, ...   \n",
       "3    [bind, called, upon, name, lord, bring, jerusa...   \n",
       "4    [thought, master, would, come, jesus, could, s...   \n",
       "..                                                 ...   \n",
       "383  [sukey, bat, moore, art, flying, one, summer, ...   \n",
       "384  [charm, would, come, forth, spontaneously, nat...   \n",
       "385  [tuesday, morning, sunday, night, house, five,...   \n",
       "386  [go, gin-house, get, ann, eliza, give, one, go...   \n",
       "387  [greater, part, distance, fast, asleep, knew, ...   \n",
       "\n",
       "                                    word_count_feature  \n",
       "0    [0.0, 0.0, 0.0, 0.0, 0.0, 0.0, 0.0, 0.0, 0.0, ...  \n",
       "1    [0.0, 0.0, 0.0, 0.0, 0.0, 0.0, 0.0, 0.0, 0.0, ...  \n",
       "2    [0.0, 0.0, 0.0, 0.0, 0.0, 0.0, 0.0, 0.0, 0.0, ...  \n",
       "3    [0.0, 1.0, 0.0, 0.0, 0.0, 0.0, 0.0, 0.0, 0.0, ...  \n",
       "4    [0.0, 0.0, 0.0, 0.0, 0.0, 0.0, 0.0, 0.0, 0.0, ...  \n",
       "..                                                 ...  \n",
       "383  [0.0, 1.0, 0.0, 0.0, 0.0, 0.0, 0.0, 0.0, 0.0, ...  \n",
       "384  [0.0, 0.0, 0.0, 0.0, 0.0, 0.0, 0.0, 0.0, 0.0, ...  \n",
       "385  [0.0, 0.0, 0.0, 0.0, 0.0, 0.0, 0.0, 0.0, 0.0, ...  \n",
       "386  [0.0, 0.0, 0.0, 0.0, 0.0, 0.0, 0.0, 0.0, 0.0, ...  \n",
       "387  [0.0, 0.0, 0.0, 0.0, 0.0, 0.0, 0.0, 0.0, 0.0, ...  \n",
       "\n",
       "[388 rows x 6 columns]"
      ]
     },
     "execution_count": 35,
     "metadata": {},
     "output_type": "execute_result"
    }
   ],
   "source": [
    "# # add new word count feature to df\n",
    "# classifier_df[\"word_count_feature\"] = [ct_list for ct_list in word_count_ft]\n",
    "# classifier_df"
   ]
  },
  {
   "cell_type": "code",
   "execution_count": 36,
   "metadata": {},
   "outputs": [],
   "source": [
    "# classifier_df.to_csv(CONFIG[\"DATA_FOR_CLASSIFIER\"])"
   ]
  },
  {
   "cell_type": "code",
   "execution_count": 25,
   "metadata": {},
   "outputs": [
    {
     "data": {
      "image/png": "[encoded data removed]",
      "text/plain": [
       "<Figure size 640x480 with 1 Axes>"
      ]
     },
     "metadata": {},
     "output_type": "display_data"
    },
    {
     "name": "stdout",
     "output_type": "stream",
     "text": [
      "Min:30\n",
      "Max:2250\n"
     ]
    }
   ],
   "source": [
    "# # visual of len of each tokenized text\n",
    "# import matplotlib.pyplot as plt\n",
    "# # plot len of unique words\n",
    "# #x = text ID, y = len(tokenized text)\n",
    "\n",
    "# num_words = [len(words) for words in tokenized_texts]\n",
    "# fig, ax = plt.subplots()\n",
    "# ax.bar(range(len(tokenized_texts)),num_words)\n",
    "# ax.set_title(\"Number of words in each text\")\n",
    "# ax.set_ylabel(\"Text\")\n",
    "# ax.set_xlabel(\"Tokenized word count\")\n",
    "# # plt.xticks(rotation = 90)\n",
    "# plt.show()\n",
    "# min_len = min(num_words)\n",
    "# max_len = max (num_words)\n",
    "# print(f\"Min:{min_len}\")\n",
    "# print(f\"Max:{max_len}\")"
   ]
  },
  {
   "cell_type": "code",
   "execution_count": 26,
   "metadata": {},
   "outputs": [],
   "source": [
    "# from utils import is_numeric\n",
    "# # remove question marks and year ranges from year column\n",
    "# single_yr = []\n",
    "# year_iterator = len(classifier_df[\"year\"])\n",
    "# for i in range(year_iterator):\n",
    "#     year = classifier_df[\"year\"][i]\n",
    "#     numeric =  True if is_numeric(year) else False\n",
    "#     if numeric:\n",
    "#         single_yr.append(int(year))\n",
    "#         i += 1\n",
    "#     else:\n",
    "#         built_yr = \"\"\n",
    "\n",
    "#         year_chars = year\n",
    "#         j = 0\n",
    "#         while j <= len(year_chars):\n",
    "#             char = year_chars[j]\n",
    "#             numeric =  True if is_numeric(char) else False\n",
    "#             is_circa = True if year_chars[0] == \"c\" else False\n",
    "#             if is_circa and j == 0:\n",
    "#                 #remove c and start checks\n",
    "#                 j += 1       \n",
    "#             elif numeric:\n",
    "#                 built_yr += char\n",
    "#                 j += 1\n",
    "#             else:\n",
    "#                 single_yr.append(int(built_yr))\n",
    "#                 break\n",
    "\n",
    "#                 # is_numeric =  True if is_numeric(char) else False\n",
    "     "
   ]
  },
  {
   "cell_type": "code",
   "execution_count": 27,
   "metadata": {},
   "outputs": [],
   "source": [
    "# # get word counts for each text\n",
    "# from collections import Counter\n",
    "\n",
    "# text_word_counts = []\n",
    "# for tokenized_text in tokenized_texts:\n",
    "#     text_word_counts.append(Counter(tokenized_text))\n",
    "\n",
    "# # calculate freq from counts\n",
    "# text_lens = [len(text) for text in tokenized_texts]\n",
    "# text_freq_dicts = []\n",
    "# for i in range(len(text_word_counts)):\n",
    "#     one_dict = text_word_counts[i]\n",
    "#     temp_freq_dict = {}\n",
    "#     for key in one_dict.keys():\n",
    "#         old_value = one_dict[key]\n",
    "#         divide_by = text_lens[i]\n",
    "#         temp_freq_dict[key] = old_value / divide_by\n",
    "#     text_freq_dicts.append(temp_freq_dict)\n",
    "\n",
    "# #for item in word_count\n",
    "# # item[key] = item[key] + 100\n",
    "# # total_len = len(text)"
   ]
  },
  {
   "cell_type": "code",
   "execution_count": 28,
   "metadata": {},
   "outputs": [
    {
     "data": {
      "text/html": [
       "<div>\n",
       "<style scoped>\n",
       "    .dataframe tbody tr th:only-of-type {\n",
       "        vertical-align: middle;\n",
       "    }\n",
       "\n",
       "    .dataframe tbody tr th {\n",
       "        vertical-align: top;\n",
       "    }\n",
       "\n",
       "    .dataframe thead th {\n",
       "        text-align: right;\n",
       "    }\n",
       "</style>\n",
       "<table border=\"1\" class=\"dataframe\">\n",
       "  <thead>\n",
       "    <tr style=\"text-align: right;\">\n",
       "      <th></th>\n",
       "      <th>tokenized_texts</th>\n",
       "      <th>year</th>\n",
       "      <th>word_counts</th>\n",
       "      <th>word_freq</th>\n",
       "    </tr>\n",
       "  </thead>\n",
       "  <tbody>\n",
       "    <tr>\n",
       "      <th>0</th>\n",
       "      <td>[slavery, dissolved, slave, wife, master, may,...</td>\n",
       "      <td>1849</td>\n",
       "      <td>{'slavery': 2, 'dissolved': 1, 'slave': 15, 'w...</td>\n",
       "      <td>{'slavery': 0.006993006993006993, 'dissolved':...</td>\n",
       "    </tr>\n",
       "    <tr>\n",
       "      <th>1</th>\n",
       "      <td>[haskell, overseer, experienced, religion, tim...</td>\n",
       "      <td>1856</td>\n",
       "      <td>{'haskell': 2, 'overseer': 4, 'experienced': 1...</td>\n",
       "      <td>{'haskell': 0.011363636363636364, 'overseer': ...</td>\n",
       "    </tr>\n",
       "    <tr>\n",
       "      <th>2</th>\n",
       "      <td>[entirely, alone, fell, knee, broken, accent, ...</td>\n",
       "      <td>1832</td>\n",
       "      <td>{'entirely': 1, 'alone': 1, 'fell': 1, 'knee':...</td>\n",
       "      <td>{'entirely': 0.005319148936170213, 'alone': 0....</td>\n",
       "    </tr>\n",
       "    <tr>\n",
       "      <th>3</th>\n",
       "      <td>[bind, called, upon, name, lord, bring, jerusa...</td>\n",
       "      <td>1894</td>\n",
       "      <td>{'bind': 1, 'called': 1, 'upon': 2, 'name': 1,...</td>\n",
       "      <td>{'bind': 0.00398406374501992, 'called': 0.0039...</td>\n",
       "    </tr>\n",
       "    <tr>\n",
       "      <th>4</th>\n",
       "      <td>[thought, master, would, come, jesus, could, s...</td>\n",
       "      <td>1909</td>\n",
       "      <td>{'thought': 1, 'master': 4, 'would': 1, 'come'...</td>\n",
       "      <td>{'thought': 0.006134969325153374, 'master': 0....</td>\n",
       "    </tr>\n",
       "    <tr>\n",
       "      <th>...</th>\n",
       "      <td>...</td>\n",
       "      <td>...</td>\n",
       "      <td>...</td>\n",
       "      <td>...</td>\n",
       "    </tr>\n",
       "    <tr>\n",
       "      <th>383</th>\n",
       "      <td>[sukey, bat, moore, art, flying, one, summer, ...</td>\n",
       "      <td>1907</td>\n",
       "      <td>{'sukey': 3, 'bat': 1, 'moore': 1, 'art': 1, '...</td>\n",
       "      <td>{'sukey': 0.03125, 'bat': 0.010416666666666666...</td>\n",
       "    </tr>\n",
       "    <tr>\n",
       "      <th>384</th>\n",
       "      <td>[charm, would, come, forth, spontaneously, nat...</td>\n",
       "      <td>1860</td>\n",
       "      <td>{'charm': 1, 'would': 2, 'come': 1, 'forth': 1...</td>\n",
       "      <td>{'charm': 0.0045871559633027525, 'would': 0.00...</td>\n",
       "    </tr>\n",
       "    <tr>\n",
       "      <th>385</th>\n",
       "      <td>[tuesday, morning, sunday, night, house, five,...</td>\n",
       "      <td>1883</td>\n",
       "      <td>{'tuesday': 1, 'morning': 1, 'sunday': 2, 'nig...</td>\n",
       "      <td>{'tuesday': 0.0026455026455026454, 'morning': ...</td>\n",
       "    </tr>\n",
       "    <tr>\n",
       "      <th>386</th>\n",
       "      <td>[go, gin-house, get, ann, eliza, give, one, go...</td>\n",
       "      <td>1856</td>\n",
       "      <td>{'go': 1, 'gin-house': 2, 'get': 1, 'ann': 2, ...</td>\n",
       "      <td>{'go': 0.0035971223021582736, 'gin-house': 0.0...</td>\n",
       "    </tr>\n",
       "    <tr>\n",
       "      <th>387</th>\n",
       "      <td>[greater, part, distance, fast, asleep, knew, ...</td>\n",
       "      <td>1881</td>\n",
       "      <td>{'greater': 1, 'part': 1, 'distance': 1, 'fast...</td>\n",
       "      <td>{'greater': 0.006802721088435374, 'part': 0.00...</td>\n",
       "    </tr>\n",
       "  </tbody>\n",
       "</table>\n",
       "<p>388 rows × 4 columns</p>\n",
       "</div>"
      ],
      "text/plain": [
       "                                       tokenized_texts  year  \\\n",
       "0    [slavery, dissolved, slave, wife, master, may,...  1849   \n",
       "1    [haskell, overseer, experienced, religion, tim...  1856   \n",
       "2    [entirely, alone, fell, knee, broken, accent, ...  1832   \n",
       "3    [bind, called, upon, name, lord, bring, jerusa...  1894   \n",
       "4    [thought, master, would, come, jesus, could, s...  1909   \n",
       "..                                                 ...   ...   \n",
       "383  [sukey, bat, moore, art, flying, one, summer, ...  1907   \n",
       "384  [charm, would, come, forth, spontaneously, nat...  1860   \n",
       "385  [tuesday, morning, sunday, night, house, five,...  1883   \n",
       "386  [go, gin-house, get, ann, eliza, give, one, go...  1856   \n",
       "387  [greater, part, distance, fast, asleep, knew, ...  1881   \n",
       "\n",
       "                                           word_counts  \\\n",
       "0    {'slavery': 2, 'dissolved': 1, 'slave': 15, 'w...   \n",
       "1    {'haskell': 2, 'overseer': 4, 'experienced': 1...   \n",
       "2    {'entirely': 1, 'alone': 1, 'fell': 1, 'knee':...   \n",
       "3    {'bind': 1, 'called': 1, 'upon': 2, 'name': 1,...   \n",
       "4    {'thought': 1, 'master': 4, 'would': 1, 'come'...   \n",
       "..                                                 ...   \n",
       "383  {'sukey': 3, 'bat': 1, 'moore': 1, 'art': 1, '...   \n",
       "384  {'charm': 1, 'would': 2, 'come': 1, 'forth': 1...   \n",
       "385  {'tuesday': 1, 'morning': 1, 'sunday': 2, 'nig...   \n",
       "386  {'go': 1, 'gin-house': 2, 'get': 1, 'ann': 2, ...   \n",
       "387  {'greater': 1, 'part': 1, 'distance': 1, 'fast...   \n",
       "\n",
       "                                             word_freq  \n",
       "0    {'slavery': 0.006993006993006993, 'dissolved':...  \n",
       "1    {'haskell': 0.011363636363636364, 'overseer': ...  \n",
       "2    {'entirely': 0.005319148936170213, 'alone': 0....  \n",
       "3    {'bind': 0.00398406374501992, 'called': 0.0039...  \n",
       "4    {'thought': 0.006134969325153374, 'master': 0....  \n",
       "..                                                 ...  \n",
       "383  {'sukey': 0.03125, 'bat': 0.010416666666666666...  \n",
       "384  {'charm': 0.0045871559633027525, 'would': 0.00...  \n",
       "385  {'tuesday': 0.0026455026455026454, 'morning': ...  \n",
       "386  {'go': 0.0035971223021582736, 'gin-house': 0.0...  \n",
       "387  {'greater': 0.006802721088435374, 'part': 0.00...  \n",
       "\n",
       "[388 rows x 4 columns]"
      ]
     },
     "execution_count": 28,
     "metadata": {},
     "output_type": "execute_result"
    }
   ],
   "source": [
    "# labels = classifier_df[\"theme\"].to_list()\n",
    "# data = pd.DataFrame({\"tokenized_texts\":classifier_df[\"tokenized_texts\"], \"year\":single_yr})\n",
    "# data[\"word_counts\"] = text_word_counts\n",
    "# data[\"word_freq\"] = text_freq_dicts\n",
    "# data"
   ]
  },
  {
   "cell_type": "code",
   "execution_count": 29,
   "metadata": {},
   "outputs": [],
   "source": [
    "# build a feature extractor\n",
    "\n",
    "def word_extractor(words):\n",
    "    \"\"\"\n",
    "    Given a list of words, return a dict with each word as a key and whether that word is in the text (boolean) as a value.\n",
    "    Input:\n",
    "        [words]\n",
    "    Output:\n",
    "        {word: True}\n",
    "    \"\"\"\n",
    "    word_words = set(words)\n",
    "    features = {}\n",
    "    for word in words:\n",
    "        features['contains({})'.format(word)] = (word in word_words)\n",
    "    return features\n",
    "\n",
    "def document_features(word_list, all_words):\n",
    "    \"\"\" \n",
    "    Given a list of all words, return a dictionary stating which document words are and aren't in the list of all words.\n",
    "    Input: \n",
    "        [word_list]; words in a document\n",
    "        [all_words]; words in all documents\n",
    "    Output:\n",
    "        {contains(word): Boolean}\n",
    "    \"\"\"\n",
    "    document =  \" \".join(word_list)\n",
    "    document_words = set(document)\n",
    "    features = {}\n",
    "    for word in all_words:\n",
    "        features['contains({})'.format(word)] = (word in document_words)\n",
    "    return features\n",
    "\n",
    "def combine_dicts(lists):\n",
    "    \"\"\"\n",
    "    Combine n dictionaries.\n",
    "    Input:\n",
    "        [{dicts}],[{dicts}]; lists (of dicts)\n",
    "    Output:\n",
    "        [{combined dicts}]; list of combined dicts\n",
    "    \"\"\"\n",
    "\n",
    "    combo_dicts = []\n",
    "    first_dictionary_len = len(lists[0])\n",
    "    for i in range(first_dictionary_len):\n",
    "        temp_dict = {}\n",
    "        for dictionary in lists:\n",
    "            current_dict = dictionary[i]\n",
    "            add_keys = list(current_dict.keys())\n",
    "            add_values = list(current_dict.values())\n",
    "        \n",
    "            for key, value in zip(add_keys, add_values):\n",
    "                temp_dict[key] = value\n",
    "\n",
    "        combo_dicts.append(temp_dict) \n",
    "    return combo_dicts\n",
    "\n",
    "def label_features_sets(feature_dicts,labels):\n",
    "    \"\"\"\n",
    "    Pair feature sets with a label for training and testing.\n",
    "    Input:\n",
    "        [feature dictionaries]\n",
    "        [corresponsing labels]\n",
    "    Output:\n",
    "        [(feature_dict,label)]; list of tuples\n",
    "    \"\"\"\n",
    "    return [(feature_dict, label) for feature_dict, label in zip(feature_dicts,labels)]\n"
   ]
  },
  {
   "cell_type": "code",
   "execution_count": 30,
   "metadata": {},
   "outputs": [],
   "source": [
    "# yr_as_list = data[\"year\"].tolist() \n",
    "# words_as_list = data[\"tokenized_texts\"].tolist()\n",
    "# word_counts_list = data[\"word_counts\"].tolist()\n",
    "# word_freq_list = data[\"word_freq\"].tolist()\n",
    "\n",
    "# # tokenized_text -> dicts\n",
    "# # word_dicts = []\n",
    "# # for each in words_as_list:\n",
    "# #     word_dicts.append(word_extractor(each))\n",
    "\n",
    "# all_words = []\n",
    "# for lists in words_as_list:\n",
    "#     all_words.extend(lists)\n",
    "\n",
    "# doc_dicts = []\n",
    "# for each in words_as_list:\n",
    "#     doc_dicts.append(document_features(each, all_words))\n",
    "\n",
    "# # years -> dicts\n",
    "# year_dicts = []\n",
    "# for year in yr_as_list:\n",
    "#     year_dicts.append({\"year\":year})\n",
    "\n",
    "# # calculated weighted word counts\n",
    "\n",
    "# # combine dicts\n",
    "# to_combine = [doc_dicts,word_counts_list]\n",
    "# feauture_dicts = combine_dicts(to_combine)"
   ]
  },
  {
   "cell_type": "code",
   "execution_count": 40,
   "metadata": {
    "tags": []
   },
   "outputs": [
    {
     "data": {
      "text/plain": [
       "388"
      ]
     },
     "execution_count": 40,
     "metadata": {},
     "output_type": "execute_result"
    }
   ],
   "source": [
    "# len(year_dicts)"
   ]
  },
  {
   "attachments": {},
   "cell_type": "markdown",
   "metadata": {},
   "source": [
    "## Theme Classifier - actual"
   ]
  },
  {
   "attachments": {},
   "cell_type": "markdown",
   "metadata": {},
   "source": [
    "previous (V1, no tf_idf model accuracy was 0.05128205128205128%)"
   ]
  },
  {
   "cell_type": "code",
   "execution_count": 51,
   "metadata": {},
   "outputs": [],
   "source": [
    "classifier_df = classifier_df.drop(\"Unnamed: 0\", axis = 1)"
   ]
  },
  {
   "cell_type": "code",
   "execution_count": 53,
   "metadata": {},
   "outputs": [
    {
     "data": {
      "text/html": [
       "<div>\n",
       "<style scoped>\n",
       "    .dataframe tbody tr th:only-of-type {\n",
       "        vertical-align: middle;\n",
       "    }\n",
       "\n",
       "    .dataframe tbody tr th {\n",
       "        vertical-align: top;\n",
       "    }\n",
       "\n",
       "    .dataframe thead th {\n",
       "        text-align: right;\n",
       "    }\n",
       "</style>\n",
       "<table border=\"1\" class=\"dataframe\">\n",
       "  <thead>\n",
       "    <tr style=\"text-align: right;\">\n",
       "      <th></th>\n",
       "      <th>theme</th>\n",
       "      <th>title</th>\n",
       "      <th>year</th>\n",
       "      <th>text</th>\n",
       "      <th>tokenized_texts</th>\n",
       "      <th>word_count_feature</th>\n",
       "    </tr>\n",
       "  </thead>\n",
       "  <tbody>\n",
       "    <tr>\n",
       "      <th>0</th>\n",
       "      <td>Baptism</td>\n",
       "      <td>Narrative of Henry Box Brown</td>\n",
       "      <td>1849</td>\n",
       "      <td>slavery is dissolved. The slave's wife is ...</td>\n",
       "      <td>['slavery', 'dissolved', 'slave', 'wife', 'mas...</td>\n",
       "      <td>[0. 0. 0. ... 0. 0. 0.]</td>\n",
       "    </tr>\n",
       "    <tr>\n",
       "      <th>1</th>\n",
       "      <td>Baptism</td>\n",
       "      <td>Biography of an American Bondman</td>\n",
       "      <td>1856, c1855</td>\n",
       "      <td>Haskell, the overseer, experien...</td>\n",
       "      <td>['haskell', 'overseer', 'experienced', 'religi...</td>\n",
       "      <td>[0. 0. 0. ... 0. 0. 0.]</td>\n",
       "    </tr>\n",
       "    <tr>\n",
       "      <th>2</th>\n",
       "      <td>Baptism</td>\n",
       "      <td>Memoir of Mrs. Chloe Spear</td>\n",
       "      <td>1832</td>\n",
       "      <td>herself entirely alone, she fell on her ...</td>\n",
       "      <td>['entirely', 'alone', 'fell', 'knee', 'broken'...</td>\n",
       "      <td>[0. 0. 0. ... 0. 0. 0.]</td>\n",
       "    </tr>\n",
       "    <tr>\n",
       "      <th>3</th>\n",
       "      <td>Baptism</td>\n",
       "      <td>Life of George Henry</td>\n",
       "      <td>1894</td>\n",
       "      <td>to bind all that called upon the name of...</td>\n",
       "      <td>['bind', 'called', 'upon', 'name', 'lord', 'br...</td>\n",
       "      <td>[0. 1. 0. ... 0. 0. 0.]</td>\n",
       "    </tr>\n",
       "    <tr>\n",
       "      <th>4</th>\n",
       "      <td>Baptism</td>\n",
       "      <td>Twenty-Eight Years a Slave</td>\n",
       "      <td>1909</td>\n",
       "      <td>But now I thought that if my master would...</td>\n",
       "      <td>['thought', 'master', 'would', 'come', 'jesus'...</td>\n",
       "      <td>[0. 0. 0. ... 0. 0. 0.]</td>\n",
       "    </tr>\n",
       "    <tr>\n",
       "      <th>...</th>\n",
       "      <td>...</td>\n",
       "      <td>...</td>\n",
       "      <td>...</td>\n",
       "      <td>...</td>\n",
       "      <td>...</td>\n",
       "      <td>...</td>\n",
       "    </tr>\n",
       "    <tr>\n",
       "      <th>383</th>\n",
       "      <td>Spirituals</td>\n",
       "      <td>Reminiscences of Isaac and Sukey</td>\n",
       "      <td>1907</td>\n",
       "      <td>Sukey Bat Moore on the Art of Flying.  ...</td>\n",
       "      <td>['sukey', 'bat', 'moore', 'art', 'flying', 'on...</td>\n",
       "      <td>[0. 1. 0. ... 0. 0. 0.]</td>\n",
       "    </tr>\n",
       "    <tr>\n",
       "      <th>384</th>\n",
       "      <td>Spirituals</td>\n",
       "      <td>Uncle Johnson</td>\n",
       "      <td>1860</td>\n",
       "      <td>charm. They would come forth as spontane...</td>\n",
       "      <td>['charm', 'would', 'come', 'forth', 'spontaneo...</td>\n",
       "      <td>[0. 0. 0. ... 0. 0. 0.]</td>\n",
       "    </tr>\n",
       "    <tr>\n",
       "      <th>385</th>\n",
       "      <td>Spirituals</td>\n",
       "      <td>Days of Bondage</td>\n",
       "      <td>1883</td>\n",
       "      <td>on Tuesday morning--this was Sunday nigh...</td>\n",
       "      <td>['tuesday', 'morning', 'sunday', 'night', 'hou...</td>\n",
       "      <td>[0. 0. 0. ... 0. 0. 0.]</td>\n",
       "    </tr>\n",
       "    <tr>\n",
       "      <th>386</th>\n",
       "      <td>Spirituals</td>\n",
       "      <td>The Kidnapped and the Ransomed</td>\n",
       "      <td>1856</td>\n",
       "      <td>you to go to the gin-house, and get Ann ...</td>\n",
       "      <td>['go', 'gin-house', 'get', 'ann', 'eliza', 'gi...</td>\n",
       "      <td>[0. 0. 0. ... 0. 0. 0.]</td>\n",
       "    </tr>\n",
       "    <tr>\n",
       "      <th>387</th>\n",
       "      <td>Spirituals</td>\n",
       "      <td>Autobiography of James L. Smith</td>\n",
       "      <td>1881</td>\n",
       "      <td>a greater part of the distance fast aslee...</td>\n",
       "      <td>['greater', 'part', 'distance', 'fast', 'aslee...</td>\n",
       "      <td>[0. 0. 0. ... 0. 0. 0.]</td>\n",
       "    </tr>\n",
       "  </tbody>\n",
       "</table>\n",
       "<p>388 rows × 6 columns</p>\n",
       "</div>"
      ],
      "text/plain": [
       "          theme                             title         year  \\\n",
       "0       Baptism      Narrative of Henry Box Brown         1849   \n",
       "1       Baptism  Biography of an American Bondman  1856, c1855   \n",
       "2       Baptism        Memoir of Mrs. Chloe Spear         1832   \n",
       "3       Baptism              Life of George Henry         1894   \n",
       "4       Baptism        Twenty-Eight Years a Slave         1909   \n",
       "..          ...                               ...          ...   \n",
       "383  Spirituals  Reminiscences of Isaac and Sukey         1907   \n",
       "384  Spirituals                     Uncle Johnson         1860   \n",
       "385  Spirituals                   Days of Bondage         1883   \n",
       "386  Spirituals    The Kidnapped and the Ransomed         1856   \n",
       "387  Spirituals   Autobiography of James L. Smith         1881   \n",
       "\n",
       "                                                  text  \\\n",
       "0        slavery is dissolved. The slave's wife is ...   \n",
       "1                   Haskell, the overseer, experien...   \n",
       "2          herself entirely alone, she fell on her ...   \n",
       "3          to bind all that called upon the name of...   \n",
       "4         But now I thought that if my master would...   \n",
       "..                                                 ...   \n",
       "383         Sukey Bat Moore on the Art of Flying.  ...   \n",
       "384        charm. They would come forth as spontane...   \n",
       "385        on Tuesday morning--this was Sunday nigh...   \n",
       "386        you to go to the gin-house, and get Ann ...   \n",
       "387       a greater part of the distance fast aslee...   \n",
       "\n",
       "                                       tokenized_texts  \\\n",
       "0    ['slavery', 'dissolved', 'slave', 'wife', 'mas...   \n",
       "1    ['haskell', 'overseer', 'experienced', 'religi...   \n",
       "2    ['entirely', 'alone', 'fell', 'knee', 'broken'...   \n",
       "3    ['bind', 'called', 'upon', 'name', 'lord', 'br...   \n",
       "4    ['thought', 'master', 'would', 'come', 'jesus'...   \n",
       "..                                                 ...   \n",
       "383  ['sukey', 'bat', 'moore', 'art', 'flying', 'on...   \n",
       "384  ['charm', 'would', 'come', 'forth', 'spontaneo...   \n",
       "385  ['tuesday', 'morning', 'sunday', 'night', 'hou...   \n",
       "386  ['go', 'gin-house', 'get', 'ann', 'eliza', 'gi...   \n",
       "387  ['greater', 'part', 'distance', 'fast', 'aslee...   \n",
       "\n",
       "          word_count_feature  \n",
       "0    [0. 0. 0. ... 0. 0. 0.]  \n",
       "1    [0. 0. 0. ... 0. 0. 0.]  \n",
       "2    [0. 0. 0. ... 0. 0. 0.]  \n",
       "3    [0. 1. 0. ... 0. 0. 0.]  \n",
       "4    [0. 0. 0. ... 0. 0. 0.]  \n",
       "..                       ...  \n",
       "383  [0. 1. 0. ... 0. 0. 0.]  \n",
       "384  [0. 0. 0. ... 0. 0. 0.]  \n",
       "385  [0. 0. 0. ... 0. 0. 0.]  \n",
       "386  [0. 0. 0. ... 0. 0. 0.]  \n",
       "387  [0. 0. 0. ... 0. 0. 0.]  \n",
       "\n",
       "[388 rows x 6 columns]"
      ]
     },
     "execution_count": 53,
     "metadata": {},
     "output_type": "execute_result"
    }
   ],
   "source": [
    "classifier_df"
   ]
  },
  {
   "cell_type": "code",
   "execution_count": null,
   "metadata": {},
   "outputs": [],
   "source": []
  },
  {
   "cell_type": "code",
   "execution_count": 92,
   "metadata": {},
   "outputs": [
    {
     "data": {
      "text/plain": [
       "[0, 1, 2, 3, 4, 5, 6, 7, 8, 9, 10, 11, 12, 13, 14, 15, 16, 17, 18, 19, 20]"
      ]
     },
     "execution_count": 92,
     "metadata": {},
     "output_type": "execute_result"
    }
   ],
   "source": [
    "# classifier_df[\"theme\"].unique\n",
    "unique_labels = classifier_df[\"theme\"].unique()\n",
    "theme_numeric = [i for i in range(len(unique_labels))]\n",
    "theme_numeric"
   ]
  },
  {
   "cell_type": "code",
   "execution_count": 93,
   "metadata": {},
   "outputs": [
    {
     "data": {
      "text/plain": [
       "{'Baptism': [1, 0, 0, 0, 0, 0, 0, 0, 0, 0, 0, 0, 0, 0, 0, 0, 0, 0, 0, 0, 0],\n",
       " 'Bible ': [0, 1, 0, 0, 0, 0, 0, 0, 0, 0, 0, 0, 0, 0, 0, 0, 0, 0, 0, 0, 0],\n",
       " 'Biblical Israel, identification with': [0,\n",
       "  0,\n",
       "  1,\n",
       "  0,\n",
       "  0,\n",
       "  0,\n",
       "  0,\n",
       "  0,\n",
       "  0,\n",
       "  0,\n",
       "  0,\n",
       "  0,\n",
       "  0,\n",
       "  0,\n",
       "  0,\n",
       "  0,\n",
       "  0,\n",
       "  0,\n",
       "  0,\n",
       "  0,\n",
       "  0],\n",
       " \"Christmas, slaves' celebration\": [0,\n",
       "  0,\n",
       "  0,\n",
       "  1,\n",
       "  0,\n",
       "  0,\n",
       "  0,\n",
       "  0,\n",
       "  0,\n",
       "  0,\n",
       "  0,\n",
       "  0,\n",
       "  0,\n",
       "  0,\n",
       "  0,\n",
       "  0,\n",
       "  0,\n",
       "  0,\n",
       "  0,\n",
       "  0,\n",
       "  0],\n",
       " 'Condemnation of masters': [0,\n",
       "  0,\n",
       "  0,\n",
       "  0,\n",
       "  1,\n",
       "  0,\n",
       "  0,\n",
       "  0,\n",
       "  0,\n",
       "  0,\n",
       "  0,\n",
       "  0,\n",
       "  0,\n",
       "  0,\n",
       "  0,\n",
       "  0,\n",
       "  0,\n",
       "  0,\n",
       "  0,\n",
       "  0,\n",
       "  0],\n",
       " 'Conjure ': [0, 0, 0, 0, 0, 1, 0, 0, 0, 0, 0, 0, 0, 0, 0, 0, 0, 0, 0, 0, 0],\n",
       " 'Conversion experience': [0,\n",
       "  0,\n",
       "  0,\n",
       "  0,\n",
       "  0,\n",
       "  0,\n",
       "  1,\n",
       "  0,\n",
       "  0,\n",
       "  0,\n",
       "  0,\n",
       "  0,\n",
       "  0,\n",
       "  0,\n",
       "  0,\n",
       "  0,\n",
       "  0,\n",
       "  0,\n",
       "  0,\n",
       "  0,\n",
       "  0],\n",
       " 'Funerals': [0, 0, 0, 0, 0, 0, 0, 1, 0, 0, 0, 0, 0, 0, 0, 0, 0, 0, 0, 0, 0],\n",
       " \"Heaven, slaves' notion of\": [0,\n",
       "  0,\n",
       "  0,\n",
       "  0,\n",
       "  0,\n",
       "  0,\n",
       "  0,\n",
       "  0,\n",
       "  1,\n",
       "  0,\n",
       "  0,\n",
       "  0,\n",
       "  0,\n",
       "  0,\n",
       "  0,\n",
       "  0,\n",
       "  0,\n",
       "  0,\n",
       "  0,\n",
       "  0,\n",
       "  0],\n",
       " 'Jesus': [0, 0, 0, 0, 0, 0, 0, 0, 0, 1, 0, 0, 0, 0, 0, 0, 0, 0, 0, 0, 0],\n",
       " 'Literacy:  includes learning to read and write, further education, and experiences related to literacy': [0,\n",
       "  0,\n",
       "  0,\n",
       "  0,\n",
       "  0,\n",
       "  0,\n",
       "  0,\n",
       "  0,\n",
       "  0,\n",
       "  0,\n",
       "  1,\n",
       "  0,\n",
       "  0,\n",
       "  0,\n",
       "  0,\n",
       "  0,\n",
       "  0,\n",
       "  0,\n",
       "  0,\n",
       "  0,\n",
       "  0],\n",
       " 'Marriage': [0, 0, 0, 0, 0, 0, 0, 0, 0, 0, 0, 1, 0, 0, 0, 0, 0, 0, 0, 0, 0],\n",
       " \"Morality:  includes conventional Christian morality, slave interpretations, and slaves' moral conflicts.\": [0,\n",
       "  0,\n",
       "  0,\n",
       "  0,\n",
       "  0,\n",
       "  0,\n",
       "  0,\n",
       "  0,\n",
       "  0,\n",
       "  0,\n",
       "  0,\n",
       "  0,\n",
       "  1,\n",
       "  0,\n",
       "  0,\n",
       "  0,\n",
       "  0,\n",
       "  0,\n",
       "  0,\n",
       "  0,\n",
       "  0],\n",
       " 'Prayer meetings of slaves, secret (\"Invisible Institution\")': [0,\n",
       "  0,\n",
       "  0,\n",
       "  0,\n",
       "  0,\n",
       "  0,\n",
       "  0,\n",
       "  0,\n",
       "  0,\n",
       "  0,\n",
       "  0,\n",
       "  0,\n",
       "  0,\n",
       "  1,\n",
       "  0,\n",
       "  0,\n",
       "  0,\n",
       "  0,\n",
       "  0,\n",
       "  0,\n",
       "  0],\n",
       " 'Preachers, black': [0,\n",
       "  0,\n",
       "  0,\n",
       "  0,\n",
       "  0,\n",
       "  0,\n",
       "  0,\n",
       "  0,\n",
       "  0,\n",
       "  0,\n",
       "  0,\n",
       "  0,\n",
       "  0,\n",
       "  0,\n",
       "  1,\n",
       "  0,\n",
       "  0,\n",
       "  0,\n",
       "  0,\n",
       "  0,\n",
       "  0],\n",
       " 'Religious experience, positive': [0,\n",
       "  0,\n",
       "  0,\n",
       "  0,\n",
       "  0,\n",
       "  0,\n",
       "  0,\n",
       "  0,\n",
       "  0,\n",
       "  0,\n",
       "  0,\n",
       "  0,\n",
       "  0,\n",
       "  0,\n",
       "  0,\n",
       "  1,\n",
       "  0,\n",
       "  0,\n",
       "  0,\n",
       "  0,\n",
       "  0],\n",
       " 'Religious practice ': [0,\n",
       "  0,\n",
       "  0,\n",
       "  0,\n",
       "  0,\n",
       "  0,\n",
       "  0,\n",
       "  0,\n",
       "  0,\n",
       "  0,\n",
       "  0,\n",
       "  0,\n",
       "  0,\n",
       "  0,\n",
       "  0,\n",
       "  0,\n",
       "  1,\n",
       "  0,\n",
       "  0,\n",
       "  0,\n",
       "  0],\n",
       " 'Resistance (religious motivation)': [0,\n",
       "  0,\n",
       "  0,\n",
       "  0,\n",
       "  0,\n",
       "  0,\n",
       "  0,\n",
       "  0,\n",
       "  0,\n",
       "  0,\n",
       "  0,\n",
       "  0,\n",
       "  0,\n",
       "  0,\n",
       "  0,\n",
       "  0,\n",
       "  0,\n",
       "  1,\n",
       "  0,\n",
       "  0,\n",
       "  0],\n",
       " 'Revivals': [0, 0, 0, 0, 0, 0, 0, 0, 0, 0, 0, 0, 0, 0, 0, 0, 0, 0, 1, 0, 0],\n",
       " \"Sabbath, slaves' observance\": [0,\n",
       "  0,\n",
       "  0,\n",
       "  0,\n",
       "  0,\n",
       "  0,\n",
       "  0,\n",
       "  0,\n",
       "  0,\n",
       "  0,\n",
       "  0,\n",
       "  0,\n",
       "  0,\n",
       "  0,\n",
       "  0,\n",
       "  0,\n",
       "  0,\n",
       "  0,\n",
       "  0,\n",
       "  1,\n",
       "  0],\n",
       " 'Spirituals': [0, 0, 0, 0, 0, 0, 0, 0, 0, 0, 0, 0, 0, 0, 0, 0, 0, 0, 0, 0, 1]}"
      ]
     },
     "execution_count": 93,
     "metadata": {},
     "output_type": "execute_result"
    }
   ],
   "source": [
    "# encode label dict\n",
    "base_label_matrix = np.zeros(len(theme_numeric))\n",
    "rows = len(unique_labels)\n",
    "cols = len(theme_numeric)\n",
    "label_encodings = {}\n",
    "for i in range(rows):\n",
    "    key = unique_labels[i]\n",
    "    val = []\n",
    "    for j in range(cols):\n",
    "        if j == i:\n",
    "            val.append(1)\n",
    "        else:\n",
    "            val.append(0)\n",
    "    label_encodings[key] = val\n",
    "\n",
    "\n",
    "label_encodings"
   ]
  },
  {
   "cell_type": "code",
   "execution_count": 100,
   "metadata": {},
   "outputs": [
    {
     "data": {
      "text/plain": [
       "0      [1, 0, 0, 0, 0, 0, 0, 0, 0, 0, 0, 0, 0, 0, 0, ...\n",
       "1      [1, 0, 0, 0, 0, 0, 0, 0, 0, 0, 0, 0, 0, 0, 0, ...\n",
       "2      [1, 0, 0, 0, 0, 0, 0, 0, 0, 0, 0, 0, 0, 0, 0, ...\n",
       "3      [1, 0, 0, 0, 0, 0, 0, 0, 0, 0, 0, 0, 0, 0, 0, ...\n",
       "4      [1, 0, 0, 0, 0, 0, 0, 0, 0, 0, 0, 0, 0, 0, 0, ...\n",
       "                             ...                        \n",
       "383    [0, 0, 0, 0, 0, 0, 0, 0, 0, 0, 0, 0, 0, 0, 0, ...\n",
       "384    [0, 0, 0, 0, 0, 0, 0, 0, 0, 0, 0, 0, 0, 0, 0, ...\n",
       "385    [0, 0, 0, 0, 0, 0, 0, 0, 0, 0, 0, 0, 0, 0, 0, ...\n",
       "386    [0, 0, 0, 0, 0, 0, 0, 0, 0, 0, 0, 0, 0, 0, 0, ...\n",
       "387    [0, 0, 0, 0, 0, 0, 0, 0, 0, 0, 0, 0, 0, 0, 0, ...\n",
       "Name: encoded_labels, Length: 388, dtype: object"
      ]
     },
     "execution_count": 100,
     "metadata": {},
     "output_type": "execute_result"
    }
   ],
   "source": [
    "classifier_df[\"encoded_labels\"] = classifier_df[\"theme\"].map(label_encodings)\n",
    "classifier_df[\"encoded_labels\"]"
   ]
  },
  {
   "cell_type": "code",
   "execution_count": 89,
   "metadata": {},
   "outputs": [
    {
     "ename": "ValueError",
     "evalue": "Length of values (21) does not match length of index (388)",
     "output_type": "error",
     "traceback": [
      "\u001b[0;31m---------------------------------------------------------------------------\u001b[0m",
      "\u001b[0;31mValueError\u001b[0m                                Traceback (most recent call last)",
      "\u001b[1;32m/Users/jadeevans/Documents/Code/machine-learning/doc-south-analysis/doc-south-analysis/SouthernBlackChurchRhetoricV2.ipynb Cell 49\u001b[0m in \u001b[0;36m<cell line: 8>\u001b[0;34m()\u001b[0m\n\u001b[1;32m      <a href='vscode-notebook-cell:/Users/jadeevans/Documents/Code/machine-learning/doc-south-analysis/doc-south-analysis/SouthernBlackChurchRhetoricV2.ipynb#Y105sZmlsZQ%3D%3D?line=5'>6</a>\u001b[0m \u001b[39m# encode labels\u001b[39;00m\n\u001b[1;32m      <a href='vscode-notebook-cell:/Users/jadeevans/Documents/Code/machine-learning/doc-south-analysis/doc-south-analysis/SouthernBlackChurchRhetoricV2.ipynb#Y105sZmlsZQ%3D%3D?line=6'>7</a>\u001b[0m enc \u001b[39m=\u001b[39m OneHotEncoder(sparse\u001b[39m=\u001b[39m \u001b[39mTrue\u001b[39;00m)\n\u001b[0;32m----> <a href='vscode-notebook-cell:/Users/jadeevans/Documents/Code/machine-learning/doc-south-analysis/doc-south-analysis/SouthernBlackChurchRhetoricV2.ipynb#Y105sZmlsZQ%3D%3D?line=7'>8</a>\u001b[0m classifier_df[\u001b[39m\"\u001b[39m\u001b[39mencoded_labels\u001b[39m\u001b[39m\"\u001b[39m] \u001b[39m=\u001b[39m classifier_df[\u001b[39m\"\u001b[39m\u001b[39mtheme\u001b[39m\u001b[39m\"\u001b[39m]\u001b[39m.\u001b[39munique()\n\u001b[1;32m      <a href='vscode-notebook-cell:/Users/jadeevans/Documents/Code/machine-learning/doc-south-analysis/doc-south-analysis/SouthernBlackChurchRhetoricV2.ipynb#Y105sZmlsZQ%3D%3D?line=8'>9</a>\u001b[0m classifier_df[\u001b[39m\"\u001b[39m\u001b[39mencoded_labels\u001b[39m\u001b[39m\"\u001b[39m] \u001b[39m=\u001b[39m enc\u001b[39m.\u001b[39mfit_transform(theme_numeric)\n\u001b[1;32m     <a href='vscode-notebook-cell:/Users/jadeevans/Documents/Code/machine-learning/doc-south-analysis/doc-south-analysis/SouthernBlackChurchRhetoricV2.ipynb#Y105sZmlsZQ%3D%3D?line=9'>10</a>\u001b[0m classifier_df\n",
      "File \u001b[0;32m/Library/Frameworks/Python.framework/Versions/3.10/lib/python3.10/site-packages/pandas/core/frame.py:3655\u001b[0m, in \u001b[0;36mDataFrame.__setitem__\u001b[0;34m(self, key, value)\u001b[0m\n\u001b[1;32m   3652\u001b[0m     \u001b[39mself\u001b[39m\u001b[39m.\u001b[39m_setitem_array([key], value)\n\u001b[1;32m   3653\u001b[0m \u001b[39melse\u001b[39;00m:\n\u001b[1;32m   3654\u001b[0m     \u001b[39m# set column\u001b[39;00m\n\u001b[0;32m-> 3655\u001b[0m     \u001b[39mself\u001b[39;49m\u001b[39m.\u001b[39;49m_set_item(key, value)\n",
      "File \u001b[0;32m/Library/Frameworks/Python.framework/Versions/3.10/lib/python3.10/site-packages/pandas/core/frame.py:3832\u001b[0m, in \u001b[0;36mDataFrame._set_item\u001b[0;34m(self, key, value)\u001b[0m\n\u001b[1;32m   3822\u001b[0m \u001b[39mdef\u001b[39;00m \u001b[39m_set_item\u001b[39m(\u001b[39mself\u001b[39m, key, value) \u001b[39m-\u001b[39m\u001b[39m>\u001b[39m \u001b[39mNone\u001b[39;00m:\n\u001b[1;32m   3823\u001b[0m     \u001b[39m\"\"\"\u001b[39;00m\n\u001b[1;32m   3824\u001b[0m \u001b[39m    Add series to DataFrame in specified column.\u001b[39;00m\n\u001b[1;32m   3825\u001b[0m \n\u001b[0;32m   (...)\u001b[0m\n\u001b[1;32m   3830\u001b[0m \u001b[39m    ensure homogeneity.\u001b[39;00m\n\u001b[1;32m   3831\u001b[0m \u001b[39m    \"\"\"\u001b[39;00m\n\u001b[0;32m-> 3832\u001b[0m     value \u001b[39m=\u001b[39m \u001b[39mself\u001b[39;49m\u001b[39m.\u001b[39;49m_sanitize_column(value)\n\u001b[1;32m   3834\u001b[0m     \u001b[39mif\u001b[39;00m (\n\u001b[1;32m   3835\u001b[0m         key \u001b[39min\u001b[39;00m \u001b[39mself\u001b[39m\u001b[39m.\u001b[39mcolumns\n\u001b[1;32m   3836\u001b[0m         \u001b[39mand\u001b[39;00m value\u001b[39m.\u001b[39mndim \u001b[39m==\u001b[39m \u001b[39m1\u001b[39m\n\u001b[1;32m   3837\u001b[0m         \u001b[39mand\u001b[39;00m \u001b[39mnot\u001b[39;00m is_extension_array_dtype(value)\n\u001b[1;32m   3838\u001b[0m     ):\n\u001b[1;32m   3839\u001b[0m         \u001b[39m# broadcast across multiple columns if necessary\u001b[39;00m\n\u001b[1;32m   3840\u001b[0m         \u001b[39mif\u001b[39;00m \u001b[39mnot\u001b[39;00m \u001b[39mself\u001b[39m\u001b[39m.\u001b[39mcolumns\u001b[39m.\u001b[39mis_unique \u001b[39mor\u001b[39;00m \u001b[39misinstance\u001b[39m(\u001b[39mself\u001b[39m\u001b[39m.\u001b[39mcolumns, MultiIndex):\n",
      "File \u001b[0;32m/Library/Frameworks/Python.framework/Versions/3.10/lib/python3.10/site-packages/pandas/core/frame.py:4529\u001b[0m, in \u001b[0;36mDataFrame._sanitize_column\u001b[0;34m(self, value)\u001b[0m\n\u001b[1;32m   4526\u001b[0m     \u001b[39mreturn\u001b[39;00m _reindex_for_setitem(value, \u001b[39mself\u001b[39m\u001b[39m.\u001b[39mindex)\n\u001b[1;32m   4528\u001b[0m \u001b[39mif\u001b[39;00m is_list_like(value):\n\u001b[0;32m-> 4529\u001b[0m     com\u001b[39m.\u001b[39;49mrequire_length_match(value, \u001b[39mself\u001b[39;49m\u001b[39m.\u001b[39;49mindex)\n\u001b[1;32m   4530\u001b[0m \u001b[39mreturn\u001b[39;00m sanitize_array(value, \u001b[39mself\u001b[39m\u001b[39m.\u001b[39mindex, copy\u001b[39m=\u001b[39m\u001b[39mTrue\u001b[39;00m, allow_2d\u001b[39m=\u001b[39m\u001b[39mTrue\u001b[39;00m)\n",
      "File \u001b[0;32m/Library/Frameworks/Python.framework/Versions/3.10/lib/python3.10/site-packages/pandas/core/common.py:557\u001b[0m, in \u001b[0;36mrequire_length_match\u001b[0;34m(data, index)\u001b[0m\n\u001b[1;32m    553\u001b[0m \u001b[39m\"\"\"\u001b[39;00m\n\u001b[1;32m    554\u001b[0m \u001b[39mCheck the length of data matches the length of the index.\u001b[39;00m\n\u001b[1;32m    555\u001b[0m \u001b[39m\"\"\"\u001b[39;00m\n\u001b[1;32m    556\u001b[0m \u001b[39mif\u001b[39;00m \u001b[39mlen\u001b[39m(data) \u001b[39m!=\u001b[39m \u001b[39mlen\u001b[39m(index):\n\u001b[0;32m--> 557\u001b[0m     \u001b[39mraise\u001b[39;00m \u001b[39mValueError\u001b[39;00m(\n\u001b[1;32m    558\u001b[0m         \u001b[39m\"\u001b[39m\u001b[39mLength of values \u001b[39m\u001b[39m\"\u001b[39m\n\u001b[1;32m    559\u001b[0m         \u001b[39mf\u001b[39m\u001b[39m\"\u001b[39m\u001b[39m(\u001b[39m\u001b[39m{\u001b[39;00m\u001b[39mlen\u001b[39m(data)\u001b[39m}\u001b[39;00m\u001b[39m) \u001b[39m\u001b[39m\"\u001b[39m\n\u001b[1;32m    560\u001b[0m         \u001b[39m\"\u001b[39m\u001b[39mdoes not match length of index \u001b[39m\u001b[39m\"\u001b[39m\n\u001b[1;32m    561\u001b[0m         \u001b[39mf\u001b[39m\u001b[39m\"\u001b[39m\u001b[39m(\u001b[39m\u001b[39m{\u001b[39;00m\u001b[39mlen\u001b[39m(index)\u001b[39m}\u001b[39;00m\u001b[39m)\u001b[39m\u001b[39m\"\u001b[39m\n\u001b[1;32m    562\u001b[0m     )\n",
      "\u001b[0;31mValueError\u001b[0m: Length of values (21) does not match length of index (388)"
     ]
    }
   ],
   "source": [
    "# test,train,validation split\n",
    "from sklearn.model_selection import train_test_split\n",
    "# from sklearn.preprocessing import OneHotEncoder\n",
    "# x_train, x_test, y_train, y_test = train_test_split(feauture_dicts, labels, test_size=0.3)\n",
    "features = classifier_df[\"word_count_feature\"]\n",
    "# encode labels\n",
    "# enc = OneHotEncoder(sparse= True)\n",
    "# classifier_df[\"encoded_labels\"] = classifier_df[\"theme\"].unique()\n",
    "# classifier_df[\"encoded_labels\"] = enc.fit_transform(theme_numeric)\n",
    "# classifier_df\n",
    "\n",
    "\n",
    "\n",
    "\n",
    "\n",
    "\n",
    "\n",
    "# features = classifier_df[\"word_count_feature\"]\n",
    "# x_train, x_test, y_train, y_test = train_test_split(features, labels, test_size=0.3)"
   ]
  },
  {
   "cell_type": "code",
   "execution_count": 74,
   "metadata": {},
   "outputs": [
    {
     "data": {
      "text/plain": [
       "array(['x0_Baptism', 'x0_[0. 0. 0. ... 0. 0. 0.]', 'x1_Baptism',\n",
       "       'x1_[0. 0. 0. ... 0. 0. 0.]', 'x2_Baptism',\n",
       "       'x2_[0. 0. 0. ... 0. 0. 0.]', 'x3_Baptism',\n",
       "       'x3_[0. 1. 0. ... 0. 0. 0.]', 'x4_Baptism',\n",
       "       'x4_[0. 0. 0. ... 0. 0. 0.]', 'x5_Baptism',\n",
       "       'x5_[0. 0. 0. ... 0. 0. 0.]', 'x6_Baptism',\n",
       "       'x6_[0. 0. 0. ... 0. 0. 0.]', 'x7_Baptism',\n",
       "       'x7_[0. 0. 0. ... 0. 0. 0.]', 'x8_Baptism',\n",
       "       'x8_[0. 0. 0. ... 0. 0. 0.]', 'x9_Baptism',\n",
       "       'x9_[0. 0. 0. ... 1. 0. 0.]', 'x10_Bible ',\n",
       "       'x10_[0. 0. 0. ... 0. 0. 0.]', 'x11_Bible ',\n",
       "       'x11_[0. 0. 0. ... 0. 0. 0.]', 'x12_Bible ',\n",
       "       'x12_[0. 1. 0. ... 0. 0. 0.]', 'x13_Bible ',\n",
       "       'x13_[0. 0. 0. ... 0. 0. 0.]', 'x14_Bible ',\n",
       "       'x14_[0. 0. 0. ... 0. 0. 0.]', 'x15_Bible ',\n",
       "       'x15_[0. 0. 0. ... 0. 0. 0.]', 'x16_Bible ',\n",
       "       'x16_[0. 1. 0. ... 0. 0. 0.]', 'x17_Bible ',\n",
       "       'x17_[0. 0. 0. ... 0. 0. 0.]', 'x18_Bible ',\n",
       "       'x18_[0. 0. 0. ... 0. 0. 0.]', 'x19_Bible ',\n",
       "       'x19_[0. 0. 0. ... 0. 0. 0.]', 'x20_Bible ',\n",
       "       'x20_[0. 0. 0. ... 0. 0. 0.]', 'x21_Bible ',\n",
       "       'x21_[0. 0. 0. ... 0. 0. 0.]', 'x22_Bible ',\n",
       "       'x22_[0. 0. 0. ... 0. 0. 0.]', 'x23_Bible ',\n",
       "       'x23_[0. 0. 0. ... 0. 0. 0.]', 'x24_Bible ',\n",
       "       'x24_[0. 0. 0. ... 0. 0. 0.]', 'x25_Bible ',\n",
       "       'x25_[0. 0. 0. ... 0. 0. 0.]', 'x26_Bible ',\n",
       "       'x26_[0. 0. 0. ... 0. 0. 0.]', 'x27_Bible ',\n",
       "       'x27_[0. 0. 0. ... 0. 0. 0.]', 'x28_Bible ',\n",
       "       'x28_[0. 0. 0. ... 0. 0. 0.]', 'x29_Bible ',\n",
       "       'x29_[0. 0. 0. ... 0. 0. 0.]', 'x30_Bible ',\n",
       "       'x30_[0. 0. 0. ... 0. 0. 0.]',\n",
       "       'x31_Biblical Israel, identification with',\n",
       "       'x31_[0. 0. 0. ... 0. 0. 0.]',\n",
       "       'x32_Biblical Israel, identification with',\n",
       "       'x32_[0. 0. 0. ... 0. 0. 0.]',\n",
       "       'x33_Biblical Israel, identification with',\n",
       "       'x33_[0. 0. 0. ... 0. 0. 0.]',\n",
       "       'x34_Biblical Israel, identification with',\n",
       "       'x34_[0. 0. 0. ... 0. 0. 0.]',\n",
       "       'x35_Biblical Israel, identification with',\n",
       "       'x35_[0. 0. 0. ... 0. 0. 0.]',\n",
       "       'x36_Biblical Israel, identification with',\n",
       "       'x36_[0. 0. 0. ... 0. 0. 0.]',\n",
       "       'x37_Biblical Israel, identification with',\n",
       "       'x37_[0. 1. 0. ... 0. 0. 0.]',\n",
       "       'x38_Biblical Israel, identification with',\n",
       "       'x38_[0. 0. 0. ... 0. 0. 0.]',\n",
       "       'x39_Biblical Israel, identification with',\n",
       "       'x39_[0. 0. 0. ... 0. 0. 0.]',\n",
       "       'x40_Biblical Israel, identification with',\n",
       "       'x40_[0. 0. 0. ... 0. 0. 0.]',\n",
       "       'x41_Biblical Israel, identification with',\n",
       "       'x41_[0. 0. 0. ... 0. 0. 0.]',\n",
       "       'x42_Biblical Israel, identification with',\n",
       "       'x42_[0. 0. 0. ... 0. 0. 0.]',\n",
       "       \"x43_Christmas, slaves' celebration\",\n",
       "       'x43_[0. 0. 0. ... 0. 0. 0.]',\n",
       "       \"x44_Christmas, slaves' celebration\",\n",
       "       'x44_[0. 0. 0. ... 0. 0. 0.]',\n",
       "       \"x45_Christmas, slaves' celebration\",\n",
       "       'x45_[0. 0. 0. ... 0. 0. 0.]',\n",
       "       \"x46_Christmas, slaves' celebration\",\n",
       "       'x46_[0. 1. 0. ... 0. 0. 0.]',\n",
       "       \"x47_Christmas, slaves' celebration\",\n",
       "       'x47_[0. 0. 0. ... 0. 0. 0.]',\n",
       "       \"x48_Christmas, slaves' celebration\",\n",
       "       'x48_[0. 0. 0. ... 0. 0. 0.]', 'x49_Condemnation of masters',\n",
       "       'x49_[0. 0. 0. ... 0. 1. 0.]', 'x50_Condemnation of masters',\n",
       "       'x50_[0. 0. 0. ... 0. 0. 0.]', 'x51_Condemnation of masters',\n",
       "       'x51_[0. 0. 0. ... 0. 0. 0.]', 'x52_Condemnation of masters',\n",
       "       'x52_[0. 0. 0. ... 0. 0. 0.]', 'x53_Condemnation of masters',\n",
       "       'x53_[0. 0. 0. ... 0. 1. 0.]', 'x54_Condemnation of masters',\n",
       "       'x54_[0. 0. 0. ... 0. 0. 0.]', 'x55_Condemnation of masters',\n",
       "       'x55_[0. 0. 0. ... 0. 0. 0.]', 'x56_Condemnation of masters',\n",
       "       'x56_[0. 0. 0. ... 0. 0. 0.]', 'x57_Condemnation of masters',\n",
       "       'x57_[0. 0. 0. ... 0. 1. 0.]', 'x58_Condemnation of masters',\n",
       "       'x58_[0. 0. 0. ... 0. 0. 0.]', 'x59_Condemnation of masters',\n",
       "       'x59_[0. 0. 0. ... 0. 0. 0.]', 'x60_Condemnation of masters',\n",
       "       'x60_[0. 0. 0. ... 0. 1. 0.]', 'x61_Condemnation of masters',\n",
       "       'x61_[1. 0. 0. ... 0. 0. 0.]', 'x62_Condemnation of masters',\n",
       "       'x62_[0. 0. 0. ... 0. 0. 0.]', 'x63_Condemnation of masters',\n",
       "       'x63_[0. 0. 0. ... 0. 0. 0.]', 'x64_Condemnation of masters',\n",
       "       'x64_[0. 0. 0. ... 0. 0. 0.]', 'x65_Condemnation of masters',\n",
       "       'x65_[0. 0. 0. ... 0. 0. 0.]', 'x66_Condemnation of masters',\n",
       "       'x66_[0. 0. 0. ... 0. 0. 0.]', 'x67_Condemnation of masters',\n",
       "       'x67_[0. 0. 0. ... 0. 0. 0.]', 'x68_Conjure ',\n",
       "       'x68_[0. 2. 0. ... 0. 0. 0.]', 'x69_Conjure ',\n",
       "       'x69_[0. 0. 0. ... 0. 0. 0.]', 'x70_Conjure ',\n",
       "       'x70_[0. 0. 0. ... 0. 0. 0.]', 'x71_Conjure ',\n",
       "       'x71_[1. 0. 0. ... 1. 0. 0.]', 'x72_Conjure ',\n",
       "       'x72_[1. 0. 0. ... 1. 0. 0.]', 'x73_Conjure ',\n",
       "       'x73_[0. 2. 0. ... 0. 0. 0.]', 'x74_Conjure ',\n",
       "       'x74_[0. 2. 0. ... 0. 0. 0.]', 'x75_Conjure ',\n",
       "       'x75_[0. 0. 0. ... 0. 0. 0.]', 'x76_Conjure ',\n",
       "       'x76_[0. 0. 0. ... 0. 0. 0.]', 'x77_Conversion experience',\n",
       "       'x77_[0. 0. 0. ... 0. 0. 0.]', 'x78_Conversion experience',\n",
       "       'x78_[0. 0. 0. ... 0. 0. 0.]', 'x79_Conversion experience',\n",
       "       'x79_[0. 1. 0. ... 0. 0. 0.]', 'x80_Conversion experience',\n",
       "       'x80_[0. 0. 0. ... 0. 0. 0.]', 'x81_Conversion experience',\n",
       "       'x81_[0. 0. 0. ... 0. 0. 0.]', 'x82_Conversion experience',\n",
       "       'x82_[0. 0. 0. ... 0. 0. 0.]', 'x83_Conversion experience',\n",
       "       'x83_[0. 1. 0. ... 0. 0. 0.]', 'x84_Conversion experience',\n",
       "       'x84_[0. 3. 0. ... 0. 0. 0.]', 'x85_Conversion experience',\n",
       "       'x85_[0. 0. 0. ... 0. 0. 0.]', 'x86_Conversion experience',\n",
       "       'x86_[0. 0. 0. ... 0. 0. 0.]', 'x87_Conversion experience',\n",
       "       'x87_[0. 0. 0. ... 0. 0. 0.]', 'x88_Conversion experience',\n",
       "       'x88_[0. 0. 0. ... 0. 0. 0.]', 'x89_Conversion experience',\n",
       "       'x89_[0. 0. 0. ... 0. 0. 0.]', 'x90_Conversion experience',\n",
       "       'x90_[0. 0. 0. ... 0. 0. 0.]', 'x91_Conversion experience',\n",
       "       'x91_[0. 0. 0. ... 0. 0. 0.]', 'x92_Conversion experience',\n",
       "       'x92_[0. 1. 0. ... 0. 0. 0.]', 'x93_Conversion experience',\n",
       "       'x93_[0. 1. 0. ... 0. 0. 0.]', 'x94_Conversion experience',\n",
       "       'x94_[0. 1. 0. ... 0. 0. 0.]', 'x95_Conversion experience',\n",
       "       'x95_[0. 0. 0. ... 0. 0. 0.]', 'x96_Conversion experience',\n",
       "       'x96_[2. 0. 0. ... 0. 0. 0.]', 'x97_Conversion experience',\n",
       "       'x97_[0. 0. 0. ... 0. 0. 0.]', 'x98_Conversion experience',\n",
       "       'x98_[0. 0. 0. ... 0. 0. 0.]', 'x99_Conversion experience',\n",
       "       'x99_[0. 0. 0. ... 0. 0. 0.]', 'x100_Conversion experience',\n",
       "       'x100_[0. 0. 0. ... 0. 0. 0.]', 'x101_Conversion experience',\n",
       "       'x101_[0. 0. 0. ... 0. 0. 0.]', 'x102_Conversion experience',\n",
       "       'x102_[0. 1. 0. ... 1. 0. 0.]', 'x103_Conversion experience',\n",
       "       'x103_[0. 1. 0. ... 0. 0. 0.]', 'x104_Conversion experience',\n",
       "       'x104_[0. 1. 0. ... 0. 0. 0.]', 'x105_Funerals',\n",
       "       'x105_[0. 0. 0. ... 0. 0. 0.]', 'x106_Funerals',\n",
       "       'x106_[0. 0. 0. ... 0. 0. 0.]', 'x107_Funerals',\n",
       "       'x107_[0. 0. 0. ... 0. 0. 0.]', 'x108_Funerals',\n",
       "       'x108_[0. 0. 0. ... 0. 0. 0.]', 'x109_Funerals',\n",
       "       'x109_[0. 0. 0. ... 0. 0. 0.]', \"x110_Heaven, slaves' notion of\",\n",
       "       'x110_[0. 0. 0. ... 0. 0. 0.]', \"x111_Heaven, slaves' notion of\",\n",
       "       'x111_[0. 0. 0. ... 0. 0. 0.]', \"x112_Heaven, slaves' notion of\",\n",
       "       'x112_[0. 0. 0. ... 0. 0. 0.]', \"x113_Heaven, slaves' notion of\",\n",
       "       'x113_[0. 0. 0. ... 0. 0. 0.]', \"x114_Heaven, slaves' notion of\",\n",
       "       'x114_[0. 0. 0. ... 0. 0. 0.]', \"x115_Heaven, slaves' notion of\",\n",
       "       'x115_[0. 0. 0. ... 0. 0. 0.]', \"x116_Heaven, slaves' notion of\",\n",
       "       'x116_[0. 0. 0. ... 0. 0. 0.]', \"x117_Heaven, slaves' notion of\",\n",
       "       'x117_[0. 0. 0. ... 0. 0. 0.]', \"x118_Heaven, slaves' notion of\",\n",
       "       'x118_[0. 0. 0. ... 0. 0. 0.]', \"x119_Heaven, slaves' notion of\",\n",
       "       'x119_[0. 0. 0. ... 0. 0. 0.]', \"x120_Heaven, slaves' notion of\",\n",
       "       'x120_[0. 0. 0. ... 0. 0. 0.]', \"x121_Heaven, slaves' notion of\",\n",
       "       'x121_[0. 0. 0. ... 0. 0. 0.]', \"x122_Heaven, slaves' notion of\",\n",
       "       'x122_[0. 0. 0. ... 0. 0. 0.]', \"x123_Heaven, slaves' notion of\",\n",
       "       'x123_[0. 0. 0. ... 0. 0. 0.]', 'x124_Jesus',\n",
       "       'x124_[0. 0. 0. ... 0. 0. 0.]', 'x125_Jesus',\n",
       "       'x125_[0. 0. 0. ... 0. 0. 0.]', 'x126_Jesus',\n",
       "       'x126_[0. 0. 0. ... 0. 0. 0.]', 'x127_Jesus',\n",
       "       'x127_[0. 1. 0. ... 0. 0. 0.]', 'x128_Jesus',\n",
       "       'x128_[0. 0. 0. ... 0. 0. 0.]', 'x129_Jesus',\n",
       "       'x129_[0. 0. 0. ... 0. 0. 0.]', 'x130_Jesus',\n",
       "       'x130_[0. 1. 0. ... 0. 0. 0.]', 'x131_Jesus',\n",
       "       'x131_[0. 0. 0. ... 0. 0. 0.]', 'x132_Jesus',\n",
       "       'x132_[0. 1. 0. ... 0. 0. 0.]', 'x133_Jesus',\n",
       "       'x133_[0. 0. 0. ... 0. 0. 0.]', 'x134_Jesus',\n",
       "       'x134_[0. 0. 0. ... 0. 0. 0.]', 'x135_Jesus',\n",
       "       'x135_[0. 0. 0. ... 0. 0. 0.]', 'x136_Jesus',\n",
       "       'x136_[0. 0. 0. ... 0. 0. 0.]', 'x137_Jesus',\n",
       "       'x137_[0. 1. 0. ... 0. 0. 0.]',\n",
       "       'x138_Literacy:  includes learning to read and write, further education, and experiences related to literacy',\n",
       "       'x138_[0. 1. 0. ... 0. 0. 0.]',\n",
       "       'x139_Literacy:  includes learning to read and write, further education, and experiences related to literacy',\n",
       "       'x139_[0. 0. 0. ... 0. 0. 0.]',\n",
       "       'x140_Literacy:  includes learning to read and write, further education, and experiences related to literacy',\n",
       "       'x140_[0. 1. 0. ... 0. 0. 0.]',\n",
       "       'x141_Literacy:  includes learning to read and write, further education, and experiences related to literacy',\n",
       "       'x141_[0. 0. 0. ... 0. 0. 0.]',\n",
       "       'x142_Literacy:  includes learning to read and write, further education, and experiences related to literacy',\n",
       "       'x142_[0. 0. 0. ... 0. 0. 0.]',\n",
       "       'x143_Literacy:  includes learning to read and write, further education, and experiences related to literacy',\n",
       "       'x143_[0. 0. 0. ... 0. 0. 0.]',\n",
       "       'x144_Literacy:  includes learning to read and write, further education, and experiences related to literacy',\n",
       "       'x144_[0. 0. 0. ... 0. 0. 0.]',\n",
       "       'x145_Literacy:  includes learning to read and write, further education, and experiences related to literacy',\n",
       "       'x145_[0. 1. 0. ... 0. 0. 0.]',\n",
       "       'x146_Literacy:  includes learning to read and write, further education, and experiences related to literacy',\n",
       "       'x146_[0. 0. 0. ... 0. 1. 0.]',\n",
       "       'x147_Literacy:  includes learning to read and write, further education, and experiences related to literacy',\n",
       "       'x147_[0. 0. 0. ... 0. 0. 0.]',\n",
       "       'x148_Literacy:  includes learning to read and write, further education, and experiences related to literacy',\n",
       "       'x148_[0. 0. 0. ... 0. 0. 0.]',\n",
       "       'x149_Literacy:  includes learning to read and write, further education, and experiences related to literacy',\n",
       "       'x149_[0. 0. 0. ... 0. 0. 0.]',\n",
       "       'x150_Literacy:  includes learning to read and write, further education, and experiences related to literacy',\n",
       "       'x150_[0. 0. 0. ... 0. 0. 0.]',\n",
       "       'x151_Literacy:  includes learning to read and write, further education, and experiences related to literacy',\n",
       "       'x151_[0. 0. 0. ... 0. 0. 0.]',\n",
       "       'x152_Literacy:  includes learning to read and write, further education, and experiences related to literacy',\n",
       "       'x152_[0. 0. 0. ... 0. 0. 0.]',\n",
       "       'x153_Literacy:  includes learning to read and write, further education, and experiences related to literacy',\n",
       "       'x153_[0. 0. 0. ... 0. 0. 0.]',\n",
       "       'x154_Literacy:  includes learning to read and write, further education, and experiences related to literacy',\n",
       "       'x154_[0. 1. 0. ... 0. 0. 0.]',\n",
       "       'x155_Literacy:  includes learning to read and write, further education, and experiences related to literacy',\n",
       "       'x155_[0. 0. 0. ... 0. 0. 0.]',\n",
       "       'x156_Literacy:  includes learning to read and write, further education, and experiences related to literacy',\n",
       "       'x156_[0. 3. 0. ... 0. 2. 0.]',\n",
       "       'x157_Literacy:  includes learning to read and write, further education, and experiences related to literacy',\n",
       "       'x157_[0. 0. 0. ... 0. 0. 0.]',\n",
       "       'x158_Literacy:  includes learning to read and write, further education, and experiences related to literacy',\n",
       "       'x158_[0. 0. 0. ... 0. 0. 0.]',\n",
       "       'x159_Literacy:  includes learning to read and write, further education, and experiences related to literacy',\n",
       "       'x159_[0. 0. 0. ... 0. 0. 0.]',\n",
       "       'x160_Literacy:  includes learning to read and write, further education, and experiences related to literacy',\n",
       "       'x160_[0. 0. 0. ... 0. 0. 0.]',\n",
       "       'x161_Literacy:  includes learning to read and write, further education, and experiences related to literacy',\n",
       "       'x161_[0. 0. 0. ... 0. 0. 0.]',\n",
       "       'x162_Literacy:  includes learning to read and write, further education, and experiences related to literacy',\n",
       "       'x162_[0. 0. 0. ... 0. 0. 0.]',\n",
       "       'x163_Literacy:  includes learning to read and write, further education, and experiences related to literacy',\n",
       "       'x163_[0. 0. 0. ... 0. 0. 0.]',\n",
       "       'x164_Literacy:  includes learning to read and write, further education, and experiences related to literacy',\n",
       "       'x164_[0. 0. 0. ... 0. 0. 0.]',\n",
       "       'x165_Literacy:  includes learning to read and write, further education, and experiences related to literacy',\n",
       "       'x165_[0. 1. 0. ... 0. 1. 0.]',\n",
       "       'x166_Literacy:  includes learning to read and write, further education, and experiences related to literacy',\n",
       "       'x166_[0. 0. 0. ... 0. 0. 0.]',\n",
       "       'x167_Literacy:  includes learning to read and write, further education, and experiences related to literacy',\n",
       "       'x167_[0. 0. 0. ... 0. 0. 0.]',\n",
       "       'x168_Literacy:  includes learning to read and write, further education, and experiences related to literacy',\n",
       "       'x168_[0. 0. 0. ... 0. 0. 0.]', 'x169_Marriage',\n",
       "       'x169_[0. 0. 0. ... 0. 0. 0.]', 'x170_Marriage',\n",
       "       'x170_[0. 0. 0. ... 0. 0. 0.]', 'x171_Marriage',\n",
       "       'x171_[0. 0. 0. ... 0. 0. 0.]', 'x172_Marriage',\n",
       "       'x172_[0. 1. 0. ... 0. 0. 0.]', 'x173_Marriage',\n",
       "       'x173_[0. 0. 0. ... 0. 0. 0.]', 'x174_Marriage',\n",
       "       'x174_[0. 0. 0. ... 0. 0. 0.]', 'x175_Marriage',\n",
       "       'x175_[0. 0. 0. ... 0. 0. 0.]', 'x176_Marriage',\n",
       "       'x176_[0. 0. 0. ... 0. 0. 0.]', 'x177_Marriage',\n",
       "       'x177_[0. 0. 0. ... 0. 0. 0.]', 'x178_Marriage',\n",
       "       'x178_[0. 0. 0. ... 0. 0. 0.]', 'x179_Marriage',\n",
       "       'x179_[0. 3. 0. ... 0. 0. 0.]', 'x180_Marriage',\n",
       "       'x180_[0. 0. 0. ... 0. 0. 0.]', 'x181_Marriage',\n",
       "       'x181_[0. 0. 0. ... 0. 0. 0.]', 'x182_Marriage',\n",
       "       'x182_[0. 0. 0. ... 0. 0. 0.]', 'x183_Marriage',\n",
       "       'x183_[0. 0. 0. ... 0. 0. 0.]', 'x184_Marriage',\n",
       "       'x184_[0. 0. 0. ... 0. 0. 0.]', 'x185_Marriage',\n",
       "       'x185_[0. 4. 0. ... 0. 0. 0.]', 'x186_Marriage',\n",
       "       'x186_[0. 0. 0. ... 0. 0. 0.]', 'x187_Marriage',\n",
       "       'x187_[0. 0. 0. ... 0. 0. 0.]',\n",
       "       \"x188_Morality:  includes conventional Christian morality, slave interpretations, and slaves' moral conflicts.\",\n",
       "       'x188_[0. 0. 0. ... 0. 0. 0.]',\n",
       "       \"x189_Morality:  includes conventional Christian morality, slave interpretations, and slaves' moral conflicts.\",\n",
       "       'x189_[0. 0. 0. ... 0. 0. 0.]',\n",
       "       \"x190_Morality:  includes conventional Christian morality, slave interpretations, and slaves' moral conflicts.\",\n",
       "       'x190_[0. 0. 0. ... 0. 1. 0.]',\n",
       "       \"x191_Morality:  includes conventional Christian morality, slave interpretations, and slaves' moral conflicts.\",\n",
       "       'x191_[0. 0. 0. ... 0. 0. 0.]',\n",
       "       \"x192_Morality:  includes conventional Christian morality, slave interpretations, and slaves' moral conflicts.\",\n",
       "       'x192_[0. 0. 0. ... 0. 0. 0.]',\n",
       "       \"x193_Morality:  includes conventional Christian morality, slave interpretations, and slaves' moral conflicts.\",\n",
       "       'x193_[0. 0. 0. ... 0. 0. 0.]',\n",
       "       \"x194_Morality:  includes conventional Christian morality, slave interpretations, and slaves' moral conflicts.\",\n",
       "       'x194_[0. 0. 0. ... 0. 0. 0.]',\n",
       "       \"x195_Morality:  includes conventional Christian morality, slave interpretations, and slaves' moral conflicts.\",\n",
       "       'x195_[0. 0. 0. ... 0. 1. 0.]',\n",
       "       \"x196_Morality:  includes conventional Christian morality, slave interpretations, and slaves' moral conflicts.\",\n",
       "       'x196_[0. 1. 0. ... 0. 0. 0.]',\n",
       "       \"x197_Morality:  includes conventional Christian morality, slave interpretations, and slaves' moral conflicts.\",\n",
       "       'x197_[0. 1. 0. ... 0. 0. 0.]',\n",
       "       \"x198_Morality:  includes conventional Christian morality, slave interpretations, and slaves' moral conflicts.\",\n",
       "       'x198_[0. 0. 0. ... 0. 0. 0.]',\n",
       "       \"x199_Morality:  includes conventional Christian morality, slave interpretations, and slaves' moral conflicts.\",\n",
       "       'x199_[0. 2. 0. ... 0. 0. 0.]',\n",
       "       \"x200_Morality:  includes conventional Christian morality, slave interpretations, and slaves' moral conflicts.\",\n",
       "       'x200_[0. 1. 0. ... 0. 0. 0.]',\n",
       "       \"x201_Morality:  includes conventional Christian morality, slave interpretations, and slaves' moral conflicts.\",\n",
       "       'x201_[1. 0. 0. ... 0. 0. 0.]',\n",
       "       \"x202_Morality:  includes conventional Christian morality, slave interpretations, and slaves' moral conflicts.\",\n",
       "       'x202_[0. 3. 0. ... 0. 1. 0.]',\n",
       "       \"x203_Morality:  includes conventional Christian morality, slave interpretations, and slaves' moral conflicts.\",\n",
       "       'x203_[0. 1. 0. ... 0. 0. 0.]',\n",
       "       \"x204_Morality:  includes conventional Christian morality, slave interpretations, and slaves' moral conflicts.\",\n",
       "       'x204_[0. 0. 0. ... 0. 0. 0.]',\n",
       "       'x205_Prayer meetings of slaves, secret (\"Invisible Institution\")',\n",
       "       'x205_[0. 0. 0. ... 0. 0. 0.]',\n",
       "       'x206_Prayer meetings of slaves, secret (\"Invisible Institution\")',\n",
       "       'x206_[0. 0. 0. ... 0. 0. 0.]',\n",
       "       'x207_Prayer meetings of slaves, secret (\"Invisible Institution\")',\n",
       "       'x207_[0. 0. 0. ... 0. 0. 0.]',\n",
       "       'x208_Prayer meetings of slaves, secret (\"Invisible Institution\")',\n",
       "       'x208_[0. 0. 0. ... 0. 0. 0.]',\n",
       "       'x209_Prayer meetings of slaves, secret (\"Invisible Institution\")',\n",
       "       'x209_[0. 1. 0. ... 0. 0. 0.]',\n",
       "       'x210_Prayer meetings of slaves, secret (\"Invisible Institution\")',\n",
       "       'x210_[0. 0. 0. ... 0. 0. 0.]',\n",
       "       'x211_Prayer meetings of slaves, secret (\"Invisible Institution\")',\n",
       "       'x211_[0. 0. 0. ... 0. 0. 0.]',\n",
       "       'x212_Prayer meetings of slaves, secret (\"Invisible Institution\")',\n",
       "       'x212_[0. 0. 0. ... 0. 0. 0.]',\n",
       "       'x213_Prayer meetings of slaves, secret (\"Invisible Institution\")',\n",
       "       'x213_[0. 2. 0. ... 0. 0. 0.]',\n",
       "       'x214_Prayer meetings of slaves, secret (\"Invisible Institution\")',\n",
       "       'x214_[0. 2. 0. ... 0. 0. 0.]',\n",
       "       'x215_Prayer meetings of slaves, secret (\"Invisible Institution\")',\n",
       "       'x215_[2. 0. 0. ... 0. 0. 0.]',\n",
       "       'x216_Prayer meetings of slaves, secret (\"Invisible Institution\")',\n",
       "       'x216_[0. 0. 0. ... 0. 0. 0.]',\n",
       "       'x217_Prayer meetings of slaves, secret (\"Invisible Institution\")',\n",
       "       'x217_[0. 1. 0. ... 0. 0. 0.]',\n",
       "       'x218_Prayer meetings of slaves, secret (\"Invisible Institution\")',\n",
       "       'x218_[0. 0. 0. ... 0. 0. 0.]',\n",
       "       'x219_Prayer meetings of slaves, secret (\"Invisible Institution\")',\n",
       "       'x219_[0. 0. 0. ... 0. 0. 0.]',\n",
       "       'x220_Prayer meetings of slaves, secret (\"Invisible Institution\")',\n",
       "       'x220_[0. 0. 0. ... 0. 0. 0.]',\n",
       "       'x221_Prayer meetings of slaves, secret (\"Invisible Institution\")',\n",
       "       'x221_[0. 0. 0. ... 0. 0. 0.]', 'x222_Preachers, black',\n",
       "       'x222_[0. 0. 0. ... 0. 0. 0.]', 'x223_Preachers, black',\n",
       "       'x223_[0. 0. 0. ... 0. 0. 0.]', 'x224_Preachers, black',\n",
       "       'x224_[0. 0. 0. ... 0. 1. 0.]', 'x225_Preachers, black',\n",
       "       'x225_[0. 1. 0. ... 0. 0. 0.]', 'x226_Preachers, black',\n",
       "       'x226_[0. 0. 0. ... 0. 0. 0.]', 'x227_Preachers, black',\n",
       "       'x227_[0. 0. 0. ... 0. 0. 0.]', 'x228_Preachers, black',\n",
       "       'x228_[0. 0. 0. ... 0. 0. 0.]', 'x229_Preachers, black',\n",
       "       'x229_[0. 0. 0. ... 0. 0. 0.]', 'x230_Preachers, black',\n",
       "       'x230_[0. 0. 0. ... 0. 0. 0.]', 'x231_Preachers, black',\n",
       "       'x231_[0. 0. 0. ... 0. 0. 0.]', 'x232_Preachers, black',\n",
       "       'x232_[0. 0. 0. ... 0. 0. 0.]', 'x233_Preachers, black',\n",
       "       'x233_[0. 0. 0. ... 0. 0. 0.]', 'x234_Preachers, black',\n",
       "       'x234_[0. 0. 0. ... 0. 1. 0.]', 'x235_Preachers, black',\n",
       "       'x235_[0. 0. 0. ... 0. 0. 0.]', 'x236_Preachers, black',\n",
       "       'x236_[0. 0. 0. ... 0. 0. 0.]', 'x237_Preachers, black',\n",
       "       'x237_[0. 0. 0. ... 0. 0. 0.]', 'x238_Preachers, black',\n",
       "       'x238_[0. 0. 0. ... 0. 0. 0.]',\n",
       "       'x239_Religious experience, positive',\n",
       "       'x239_[0. 0. 0. ... 0. 0. 0.]',\n",
       "       'x240_Religious experience, positive',\n",
       "       'x240_[0. 0. 0. ... 0. 0. 0.]',\n",
       "       'x241_Religious experience, positive',\n",
       "       'x241_[0. 0. 0. ... 0. 0. 0.]',\n",
       "       'x242_Religious experience, positive',\n",
       "       'x242_[0. 0. 0. ... 0. 0. 0.]',\n",
       "       'x243_Religious experience, positive',\n",
       "       'x243_[0. 0. 0. ... 0. 0. 0.]',\n",
       "       'x244_Religious experience, positive',\n",
       "       'x244_[0. 0. 0. ... 0. 0. 0.]',\n",
       "       'x245_Religious experience, positive',\n",
       "       'x245_[0. 0. 0. ... 0. 0. 0.]',\n",
       "       'x246_Religious experience, positive',\n",
       "       'x246_[0. 0. 0. ... 0. 0. 0.]',\n",
       "       'x247_Religious experience, positive',\n",
       "       'x247_[0. 1. 0. ... 0. 0. 0.]',\n",
       "       'x248_Religious experience, positive',\n",
       "       'x248_[0. 3. 0. ... 0. 0. 0.]',\n",
       "       'x249_Religious experience, positive',\n",
       "       'x249_[0. 0. 0. ... 0. 1. 0.]',\n",
       "       'x250_Religious experience, positive',\n",
       "       'x250_[0. 0. 0. ... 0. 1. 0.]',\n",
       "       'x251_Religious experience, positive',\n",
       "       'x251_[0. 0. 0. ... 0. 1. 0.]',\n",
       "       'x252_Religious experience, positive',\n",
       "       'x252_[0. 0. 0. ... 0. 0. 0.]',\n",
       "       'x253_Religious experience, positive',\n",
       "       'x253_[0. 0. 0. ... 0. 0. 0.]',\n",
       "       'x254_Religious experience, positive',\n",
       "       'x254_[2. 1. 0. ... 0. 0. 0.]',\n",
       "       'x255_Religious experience, positive',\n",
       "       'x255_[0. 0. 0. ... 0. 0. 0.]',\n",
       "       'x256_Religious experience, positive',\n",
       "       'x256_[0. 0. 0. ... 0. 0. 1.]',\n",
       "       'x257_Religious experience, positive',\n",
       "       'x257_[0. 1. 0. ... 0. 0. 0.]',\n",
       "       'x258_Religious experience, positive',\n",
       "       'x258_[0. 2. 1. ... 0. 0. 0.]',\n",
       "       'x259_Religious experience, positive',\n",
       "       'x259_[0. 1. 0. ... 0. 0. 0.]',\n",
       "       'x260_Religious experience, positive',\n",
       "       'x260_[0. 0. 0. ... 0. 0. 0.]',\n",
       "       'x261_Religious experience, positive',\n",
       "       'x261_[0. 1. 0. ... 0. 0. 0.]',\n",
       "       'x262_Religious experience, positive',\n",
       "       'x262_[0. 0. 0. ... 0. 0. 0.]',\n",
       "       'x263_Religious experience, positive',\n",
       "       'x263_[0. 0. 0. ... 0. 0. 0.]',\n",
       "       'x264_Religious experience, positive',\n",
       "       'x264_[0. 0. 0. ... 0. 0. 0.]',\n",
       "       'x265_Religious experience, positive',\n",
       "       'x265_[0. 0. 0. ... 0. 0. 0.]',\n",
       "       'x266_Religious experience, positive',\n",
       "       'x266_[0. 1. 0. ... 0. 1. 0.]',\n",
       "       'x267_Religious experience, positive',\n",
       "       'x267_[0. 0. 0. ... 0. 0. 0.]',\n",
       "       'x268_Religious experience, positive',\n",
       "       'x268_[0. 0. 0. ... 0. 0. 0.]',\n",
       "       'x269_Religious experience, positive',\n",
       "       'x269_[0. 0. 0. ... 0. 0. 0.]',\n",
       "       'x270_Religious experience, positive',\n",
       "       'x270_[0. 2. 0. ... 0. 0. 0.]', 'x271_Religious practice ',\n",
       "       'x271_[0. 0. 0. ... 0. 0. 0.]', 'x272_Religious practice ',\n",
       "       'x272_[0. 0. 0. ... 0. 0. 0.]', 'x273_Religious practice ',\n",
       "       'x273_[0. 0. 0. ... 0. 0. 0.]', 'x274_Religious practice ',\n",
       "       'x274_[0. 0. 0. ... 0. 1. 0.]', 'x275_Religious practice ',\n",
       "       'x275_[0. 0. 0. ... 0. 0. 0.]', 'x276_Religious practice ',\n",
       "       'x276_[0. 1. 0. ... 0. 0. 0.]', 'x277_Religious practice ',\n",
       "       'x277_[0. 0. 0. ... 0. 0. 0.]', 'x278_Religious practice ',\n",
       "       'x278_[0. 0. 0. ... 0. 0. 0.]', 'x279_Religious practice ',\n",
       "       'x279_[0. 0. 0. ... 0. 0. 0.]', 'x280_Religious practice ',\n",
       "       'x280_[0. 0. 0. ... 0. 0. 0.]', 'x281_Religious practice ',\n",
       "       'x281_[0. 0. 0. ... 0. 0. 0.]', 'x282_Religious practice ',\n",
       "       'x282_[0. 0. 0. ... 0. 0. 0.]', 'x283_Religious practice ',\n",
       "       'x283_[0. 0. 0. ... 0. 0. 0.]', 'x284_Religious practice ',\n",
       "       'x284_[0. 0. 0. ... 0. 0. 0.]', 'x285_Religious practice ',\n",
       "       'x285_[0. 1. 0. ... 0. 0. 0.]', 'x286_Religious practice ',\n",
       "       'x286_[0. 0. 0. ... 0. 0. 0.]', 'x287_Religious practice ',\n",
       "       'x287_[0. 0. 0. ... 0. 0. 0.]', 'x288_Religious practice ',\n",
       "       'x288_[0. 0. 0. ... 0. 0. 0.]', 'x289_Religious practice ',\n",
       "       'x289_[0. 0. 0. ... 0. 0. 0.]', 'x290_Religious practice ',\n",
       "       'x290_[0. 0. 0. ... 0. 0. 0.]', 'x291_Religious practice ',\n",
       "       'x291_[0. 0. 0. ... 0. 0. 0.]', 'x292_Religious practice ',\n",
       "       'x292_[0. 0. 0. ... 0. 1. 0.]', 'x293_Religious practice ',\n",
       "       'x293_[0. 0. 0. ... 1. 0. 0.]', 'x294_Religious practice ',\n",
       "       'x294_[0. 0. 0. ... 0. 0. 0.]', 'x295_Religious practice ',\n",
       "       'x295_[0. 0. 0. ... 0. 0. 0.]', 'x296_Religious practice ',\n",
       "       'x296_[0. 0. 0. ... 0. 0. 0.]', 'x297_Religious practice ',\n",
       "       'x297_[0. 0. 0. ... 0. 0. 0.]', 'x298_Religious practice ',\n",
       "       'x298_[0. 0. 0. ... 0. 0. 0.]', 'x299_Religious practice ',\n",
       "       'x299_[0. 0. 0. ... 0. 0. 0.]', 'x300_Religious practice ',\n",
       "       'x300_[0. 0. 0. ... 0. 0. 0.]', 'x301_Religious practice ',\n",
       "       'x301_[0. 0. 0. ... 0. 0. 0.]', 'x302_Religious practice ',\n",
       "       'x302_[0. 0. 0. ... 0. 0. 0.]', 'x303_Religious practice ',\n",
       "       'x303_[0. 0. 0. ... 0. 0. 0.]', 'x304_Religious practice ',\n",
       "       'x304_[0. 0. 0. ... 0. 0. 0.]', 'x305_Religious practice ',\n",
       "       'x305_[0. 0. 0. ... 0. 0. 0.]', 'x306_Religious practice ',\n",
       "       'x306_[0. 1. 0. ... 0. 0. 0.]', 'x307_Religious practice ',\n",
       "       'x307_[0. 0. 0. ... 0. 0. 0.]', 'x308_Religious practice ',\n",
       "       'x308_[0. 0. 0. ... 0. 0. 0.]', 'x309_Religious practice ',\n",
       "       'x309_[0. 0. 0. ... 0. 0. 0.]', 'x310_Religious practice ',\n",
       "       'x310_[0. 2. 0. ... 0. 0. 0.]', 'x311_Religious practice ',\n",
       "       'x311_[0. 1. 0. ... 0. 0. 0.]', 'x312_Religious practice ',\n",
       "       'x312_[0. 0. 0. ... 0. 0. 0.]', 'x313_Religious practice ',\n",
       "       'x313_[0. 0. 0. ... 0. 0. 0.]', 'x314_Religious practice ',\n",
       "       'x314_[0. 0. 0. ... 0. 0. 0.]', 'x315_Religious practice ',\n",
       "       'x315_[0. 0. 0. ... 0. 0. 0.]', 'x316_Religious practice ',\n",
       "       'x316_[0. 2. 0. ... 0. 0. 0.]', 'x317_Religious practice ',\n",
       "       'x317_[0. 0. 0. ... 0. 0. 0.]', 'x318_Religious practice ',\n",
       "       'x318_[0. 0. 0. ... 0. 0. 0.]',\n",
       "       'x319_Resistance (religious motivation)',\n",
       "       'x319_[0. 0. 0. ... 0. 0. 0.]',\n",
       "       'x320_Resistance (religious motivation)',\n",
       "       'x320_[0. 0. 0. ... 0. 0. 0.]',\n",
       "       'x321_Resistance (religious motivation)',\n",
       "       'x321_[0. 0. 0. ... 0. 0. 0.]',\n",
       "       'x322_Resistance (religious motivation)',\n",
       "       'x322_[0. 0. 0. ... 0. 0. 0.]',\n",
       "       'x323_Resistance (religious motivation)',\n",
       "       'x323_[0. 2. 0. ... 0. 1. 0.]',\n",
       "       'x324_Resistance (religious motivation)',\n",
       "       'x324_[0. 2. 0. ... 0. 1. 0.]',\n",
       "       'x325_Resistance (religious motivation)',\n",
       "       'x325_[0. 0. 0. ... 0. 0. 0.]',\n",
       "       'x326_Resistance (religious motivation)',\n",
       "       'x326_[0. 0. 0. ... 0. 0. 0.]',\n",
       "       'x327_Resistance (religious motivation)',\n",
       "       'x327_[0. 0. 0. ... 0. 0. 0.]', 'x328_Revivals',\n",
       "       'x328_[0. 0. 0. ... 0. 0. 0.]', 'x329_Revivals',\n",
       "       'x329_[0. 1. 0. ... 0. 0. 0.]', 'x330_Revivals',\n",
       "       'x330_[1. 1. 0. ... 0. 1. 0.]', 'x331_Revivals',\n",
       "       'x331_[0. 0. 0. ... 0. 0. 0.]', 'x332_Revivals',\n",
       "       'x332_[0. 0. 0. ... 0. 0. 0.]', 'x333_Revivals',\n",
       "       'x333_[0. 0. 0. ... 0. 0. 0.]', 'x334_Revivals',\n",
       "       'x334_[0. 1. 0. ... 0. 0. 0.]', 'x335_Revivals',\n",
       "       'x335_[0. 1. 0. ... 0. 1. 0.]', 'x336_Revivals',\n",
       "       'x336_[0. 0. 0. ... 0. 0. 0.]', 'x337_Revivals',\n",
       "       'x337_[0. 0. 0. ... 0. 0. 0.]', 'x338_Revivals',\n",
       "       'x338_[0. 0. 0. ... 0. 0. 0.]', 'x339_Revivals',\n",
       "       'x339_[0. 1. 0. ... 0. 0. 0.]', 'x340_Revivals',\n",
       "       'x340_[0. 1. 0. ... 0. 0. 0.]', \"x341_Sabbath, slaves' observance\",\n",
       "       'x341_[0. 0. 0. ... 0. 0. 0.]', \"x342_Sabbath, slaves' observance\",\n",
       "       'x342_[0. 0. 0. ... 0. 0. 0.]', \"x343_Sabbath, slaves' observance\",\n",
       "       'x343_[0. 0. 0. ... 0. 0. 0.]', \"x344_Sabbath, slaves' observance\",\n",
       "       'x344_[0. 0. 0. ... 0. 0. 0.]', \"x345_Sabbath, slaves' observance\",\n",
       "       'x345_[0. 0. 0. ... 0. 0. 0.]', \"x346_Sabbath, slaves' observance\",\n",
       "       'x346_[0. 0. 0. ... 0. 0. 0.]', \"x347_Sabbath, slaves' observance\",\n",
       "       'x347_[0. 0. 0. ... 0. 0. 0.]', \"x348_Sabbath, slaves' observance\",\n",
       "       'x348_[0. 1. 0. ... 0. 0. 0.]', \"x349_Sabbath, slaves' observance\",\n",
       "       'x349_[0. 0. 0. ... 0. 0. 0.]', \"x350_Sabbath, slaves' observance\",\n",
       "       'x350_[0. 0. 0. ... 0. 0. 0.]', \"x351_Sabbath, slaves' observance\",\n",
       "       'x351_[0. 0. 0. ... 0. 0. 0.]', \"x352_Sabbath, slaves' observance\",\n",
       "       'x352_[0. 0. 0. ... 0. 0. 0.]', \"x353_Sabbath, slaves' observance\",\n",
       "       'x353_[0. 0. 0. ... 0. 0. 0.]', \"x354_Sabbath, slaves' observance\",\n",
       "       'x354_[0. 0. 0. ... 0. 0. 0.]', \"x355_Sabbath, slaves' observance\",\n",
       "       'x355_[0. 0. 0. ... 0. 0. 0.]', \"x356_Sabbath, slaves' observance\",\n",
       "       'x356_[0. 0. 0. ... 0. 0. 0.]', \"x357_Sabbath, slaves' observance\",\n",
       "       'x357_[0. 0. 0. ... 0. 0. 0.]', \"x358_Sabbath, slaves' observance\",\n",
       "       'x358_[0. 0. 0. ... 0. 0. 0.]', \"x359_Sabbath, slaves' observance\",\n",
       "       'x359_[0. 0. 0. ... 0. 0. 0.]', \"x360_Sabbath, slaves' observance\",\n",
       "       'x360_[0. 0. 0. ... 0. 0. 0.]', \"x361_Sabbath, slaves' observance\",\n",
       "       'x361_[0. 0. 0. ... 0. 0. 0.]', \"x362_Sabbath, slaves' observance\",\n",
       "       'x362_[0. 0. 0. ... 0. 0. 0.]', \"x363_Sabbath, slaves' observance\",\n",
       "       'x363_[0. 0. 0. ... 0. 0. 0.]', 'x364_Spirituals',\n",
       "       'x364_[0. 0. 0. ... 0. 0. 0.]', 'x365_Spirituals',\n",
       "       'x365_[0. 0. 0. ... 0. 0. 0.]', 'x366_Spirituals',\n",
       "       'x366_[0. 0. 0. ... 0. 0. 0.]', 'x367_Spirituals',\n",
       "       'x367_[0. 0. 0. ... 0. 0. 0.]', 'x368_Spirituals',\n",
       "       'x368_[0. 0. 0. ... 0. 0. 0.]', 'x369_Spirituals',\n",
       "       'x369_[1. 0. 0. ... 0. 0. 0.]', 'x370_Spirituals',\n",
       "       'x370_[0. 0. 0. ... 0. 0. 0.]', 'x371_Spirituals',\n",
       "       'x371_[0. 0. 0. ... 0. 0. 0.]', 'x372_Spirituals',\n",
       "       'x372_[0. 0. 0. ... 0. 0. 0.]', 'x373_Spirituals',\n",
       "       'x373_[0. 0. 0. ... 0. 0. 0.]', 'x374_Spirituals',\n",
       "       'x374_[0. 0. 0. ... 0. 0. 0.]', 'x375_Spirituals',\n",
       "       'x375_[0. 0. 0. ... 0. 0. 0.]', 'x376_Spirituals',\n",
       "       'x376_[0. 0. 0. ... 0. 0. 0.]', 'x377_Spirituals',\n",
       "       'x377_[0. 0. 0. ... 0. 0. 0.]', 'x378_Spirituals',\n",
       "       'x378_[0. 0. 0. ... 0. 0. 0.]', 'x379_Spirituals',\n",
       "       'x379_[0. 0. 0. ... 0. 0. 0.]', 'x380_Spirituals',\n",
       "       'x380_[0. 0. 0. ... 0. 0. 0.]', 'x381_Spirituals',\n",
       "       'x381_[0. 0. 0. ... 0. 0. 0.]', 'x382_Spirituals',\n",
       "       'x382_[0. 0. 0. ... 0. 0. 0.]', 'x383_Spirituals',\n",
       "       'x383_[0. 1. 0. ... 0. 0. 0.]', 'x384_Spirituals',\n",
       "       'x384_[0. 0. 0. ... 0. 0. 0.]', 'x385_Spirituals',\n",
       "       'x385_[0. 0. 0. ... 0. 0. 0.]', 'x386_Spirituals',\n",
       "       'x386_[0. 0. 0. ... 0. 0. 0.]', 'x387_Spirituals',\n",
       "       'x387_[0. 0. 0. ... 0. 0. 0.]'], dtype=object)"
      ]
     },
     "execution_count": 74,
     "metadata": {},
     "output_type": "execute_result"
    }
   ],
   "source": [
    "enc.get_feature_names_out()"
   ]
  },
  {
   "cell_type": "code",
   "execution_count": 63,
   "metadata": {
    "tags": []
   },
   "outputs": [
    {
     "ename": "AttributeError",
     "evalue": "'str' object has no attribute 'items'",
     "output_type": "error",
     "traceback": [
      "\u001b[0;31m---------------------------------------------------------------------------\u001b[0m",
      "\u001b[0;31mAttributeError\u001b[0m                            Traceback (most recent call last)",
      "\u001b[1;32m/Users/jadeevans/Documents/Code/machine-learning/doc-south-analysis/doc-south-analysis/SouthernBlackChurchRhetoricV2.ipynb Cell 48\u001b[0m in \u001b[0;36m<cell line: 5>\u001b[0;34m()\u001b[0m\n\u001b[1;32m      <a href='vscode-notebook-cell:/Users/jadeevans/Documents/Code/machine-learning/doc-south-analysis/doc-south-analysis/SouthernBlackChurchRhetoricV2.ipynb#Y106sZmlsZQ%3D%3D?line=1'>2</a>\u001b[0m \u001b[39mfrom\u001b[39;00m \u001b[39mnltk\u001b[39;00m\u001b[39m.\u001b[39;00m\u001b[39mclassify\u001b[39;00m \u001b[39mimport\u001b[39;00m NaiveBayesClassifier\n\u001b[1;32m      <a href='vscode-notebook-cell:/Users/jadeevans/Documents/Code/machine-learning/doc-south-analysis/doc-south-analysis/SouthernBlackChurchRhetoricV2.ipynb#Y106sZmlsZQ%3D%3D?line=3'>4</a>\u001b[0m \u001b[39m# classifier = NaiveBayesClassifier.train(label_features_sets(x_train,y_train))\u001b[39;00m\n\u001b[0;32m----> <a href='vscode-notebook-cell:/Users/jadeevans/Documents/Code/machine-learning/doc-south-analysis/doc-south-analysis/SouthernBlackChurchRhetoricV2.ipynb#Y106sZmlsZQ%3D%3D?line=4'>5</a>\u001b[0m classifier \u001b[39m=\u001b[39m NaiveBayesClassifier\u001b[39m.\u001b[39;49mtrain(\u001b[39mzip\u001b[39;49m(x_train,y_train))\n",
      "File \u001b[0;32m~/Library/Python/3.10/lib/python/site-packages/nltk/classify/naivebayes.py:212\u001b[0m, in \u001b[0;36mNaiveBayesClassifier.train\u001b[0;34m(cls, labeled_featuresets, estimator)\u001b[0m\n\u001b[1;32m    210\u001b[0m \u001b[39mfor\u001b[39;00m featureset, label \u001b[39min\u001b[39;00m labeled_featuresets:\n\u001b[1;32m    211\u001b[0m     label_freqdist[label] \u001b[39m+\u001b[39m\u001b[39m=\u001b[39m \u001b[39m1\u001b[39m\n\u001b[0;32m--> 212\u001b[0m     \u001b[39mfor\u001b[39;00m fname, fval \u001b[39min\u001b[39;00m featureset\u001b[39m.\u001b[39;49mitems():\n\u001b[1;32m    213\u001b[0m         \u001b[39m# Increment freq(fval|label, fname)\u001b[39;00m\n\u001b[1;32m    214\u001b[0m         feature_freqdist[label, fname][fval] \u001b[39m+\u001b[39m\u001b[39m=\u001b[39m \u001b[39m1\u001b[39m\n\u001b[1;32m    215\u001b[0m         \u001b[39m# Record that fname can take the value fval.\u001b[39;00m\n",
      "\u001b[0;31mAttributeError\u001b[0m: 'str' object has no attribute 'items'"
     ]
    }
   ],
   "source": [
    "# classifier\n",
    "from nltk.classify import NaiveBayesClassifier\n",
    "\n",
    "# classifier = NaiveBayesClassifier.train(label_features_sets(x_train,y_train))\n",
    "classifier = NaiveBayesClassifier.train(zip(x_train,y_train))"
   ]
  },
  {
   "cell_type": "code",
   "execution_count": 33,
   "metadata": {},
   "outputs": [
    {
     "name": "stdout",
     "output_type": "stream",
     "text": [
      "0.05128205128205128\n"
     ]
    }
   ],
   "source": [
    "# from nltk.classify import accuracy\n",
    "# # print(classifier.classify(x_test[2]))\n",
    "# # print(y_test[2])\n",
    "# print(accuracy(classifier, label_features_sets(x_test,y_test)))\n",
    "\n"
   ]
  },
  {
   "cell_type": "code",
   "execution_count": 34,
   "metadata": {},
   "outputs": [
    {
     "name": "stdout",
     "output_type": "stream",
     "text": [
      "Most Informative Features\n",
      "                   mixed = 1              Conjur : Religi =     15.1 : 1.0\n",
      "                 entered = 1              Conjur : Religi =     14.5 : 1.0\n",
      "                 account = 1              Conjur : Religi =     13.9 : 1.0\n",
      "                   speak = 1              Conjur : Religi =     13.3 : 1.0\n",
      "                    read = None           Morali : Litera =     12.9 : 1.0\n",
      "                  waited = 1              Resist : Religi =     12.8 : 1.0\n",
      "                    limb = 1              Conjur : Religi =     12.4 : 1.0\n",
      "                   spent = 1              Resist : Religi =     12.0 : 1.0\n",
      "                  corner = 1              Conjur : Religi =     11.8 : 1.0\n",
      "                 dressed = 1              Conjur : Religi =     11.8 : 1.0\n",
      "                  living = 1              Conjur : Religi =     11.8 : 1.0\n",
      "                  strong = 1              Conjur : Religi =     11.8 : 1.0\n",
      "                baptized = 2              Baptis : Religi =     11.3 : 1.0\n",
      "                 earnest = 1              Resist : Religi =     11.3 : 1.0\n",
      "                    fool = 1              Conjur : Religi =     11.3 : 1.0\n",
      "                  monday = 1              Resist : Religi =     11.3 : 1.0\n",
      "                   sleep = 1              Conjur : Religi =     11.3 : 1.0\n",
      "                  worked = 1              Resist : Religi =     11.3 : 1.0\n",
      "                    hour = 1              Reviva : Litera =     11.3 : 1.0\n",
      "                although = 1              Conjur : Religi =     11.0 : 1.0\n",
      "                  moment = 1              Conjur : Religi =     10.9 : 1.0\n",
      "                 sabbath = None           Marria : Sabbat =     10.8 : 1.0\n",
      "                    laid = 1              Morali : Religi =     10.8 : 1.0\n",
      "                    hell = 1              Resist : Religi =     10.7 : 1.0\n",
      "               continued = 1              Resist : Religi =     10.6 : 1.0\n",
      "                    foot = 1              Conjur : Litera =     10.6 : 1.0\n",
      "                 saviour = 1              Baptis : Religi =     10.6 : 1.0\n",
      "                  coming = 1              Christ : Religi =     10.2 : 1.0\n",
      "                  buried = 1              Funera : Religi =     10.2 : 1.0\n",
      "                  solemn = 1              Funera : Religi =     10.2 : 1.0\n",
      "                 started = 1              Conjur : Litera =      9.9 : 1.0\n",
      "                 sabbath = 1              Sabbat : Litera =      9.9 : 1.0\n",
      "               suffering = 1              Prayer : Religi =      9.8 : 1.0\n",
      "                   aloud = 1              Resist : Litera =      9.7 : 1.0\n",
      "             contains(4) = True           Resist : Litera =      9.7 : 1.0\n",
      "                  forbid = 1              Resist : Religi =      9.7 : 1.0\n",
      "                 putting = 1              Resist : Religi =      9.7 : 1.0\n",
      "                   stock = 1              Christ : Litera =      9.7 : 1.0\n",
      "                creature = 1              Conjur : Religi =      9.6 : 1.0\n",
      "                directed = 1              Conjur : Religi =      9.6 : 1.0\n",
      "                   began = 1              Conver : Religi =      9.5 : 1.0\n",
      "                    beat = 1              Funera : Religi =      9.4 : 1.0\n",
      "             consequence = 1              Conjur : Religi =      9.4 : 1.0\n",
      "                 looking = 1              Conjur : Conver =      9.3 : 1.0\n",
      "                   jesus = 1              Baptis : Religi =      9.2 : 1.0\n",
      "                 advised = 1              Conjur : Religi =      9.2 : 1.0\n",
      "                   allow = 1              Conjur : Religi =      9.2 : 1.0\n",
      "                 baptism = 2              Baptis : Religi =      9.2 : 1.0\n",
      "                 baptism = 1              Baptis : Religi =      9.2 : 1.0\n",
      "                  change = 1              Conjur : Religi =      9.2 : 1.0\n",
      "                   fifty = 1              Baptis : Religi =      9.2 : 1.0\n",
      "                  guilty = 1              Conjur : Religi =      9.2 : 1.0\n",
      "                resolved = 1              Conjur : Religi =      9.2 : 1.0\n",
      "                    rode = 2              Conjur : Religi =      9.2 : 1.0\n",
      "                  strike = 1              Conjur : Religi =      9.2 : 1.0\n",
      "                  suffer = 1              Conjur : Religi =      9.2 : 1.0\n",
      "                  unless = 1              Conjur : Religi =      9.2 : 1.0\n",
      "                 accused = 1              Resist : Religi =      9.2 : 1.0\n",
      "                  avenue = 1              Resist : Religi =      9.2 : 1.0\n",
      "                  brutal = 1              Christ : Religi =      9.2 : 1.0\n",
      "                 captive = 1               Jesus : Religi =      9.2 : 1.0\n",
      "                  coarse = 1              Resist : Religi =      9.2 : 1.0\n",
      "                 conduct = 1              Resist : Religi =      9.2 : 1.0\n",
      "                   davis = 1              Resist : Religi =      9.2 : 1.0\n",
      "               disobeyed = 1              Resist : Religi =      9.2 : 1.0\n",
      "              enterprise = 1              Resist : Religi =      9.2 : 1.0\n",
      "                    fail = 1              Christ : Religi =      9.2 : 1.0\n",
      "                  gained = 1              Resist : Religi =      9.2 : 1.0\n",
      "                    liar = 1              Resist : Religi =      9.2 : 1.0\n",
      "               presented = 1              Christ : Religi =      9.2 : 1.0\n",
      "                     raw = 1              Resist : Religi =      9.2 : 1.0\n",
      "               requested = 1              Resist : Religi =      9.2 : 1.0\n",
      "                required = 1              Christ : Religi =      9.2 : 1.0\n",
      "                scarcely = 1              Resist : Religi =      9.2 : 1.0\n",
      "                scolding = 1              Resist : Religi =      9.2 : 1.0\n",
      "                    sore = 1              Resist : Religi =      9.2 : 1.0\n",
      "                 sunrise = 1              Resist : Religi =      9.2 : 1.0\n",
      "                 weighed = 1              Resist : Religi =      9.2 : 1.0\n",
      "                 whining = 1              Resist : Religi =      9.2 : 1.0\n",
      "                although = 2              Resist : Litera =      9.2 : 1.0\n",
      "                  joined = 1              Resist : Litera =      9.2 : 1.0\n",
      "                 journey = 1              Christ : Religi =      9.2 : 1.0\n",
      "                  opened = 1              Resist : Litera =      9.2 : 1.0\n",
      "                   usual = 1              Resist : Religi =      9.2 : 1.0\n",
      "                   labor = 1              Morali : Religi =      9.1 : 1.0\n",
      "               purchased = 1              Morali : Religi =      9.1 : 1.0\n",
      "                  regard = 1              Morali : Religi =      9.1 : 1.0\n",
      "                    kind = 1              Reviva : Religi =      9.0 : 1.0\n",
      "                possible = 2              Conjur : Religi =      9.0 : 1.0\n",
      "                    salt = 1              Conjur : Litera =      9.0 : 1.0\n",
      "                strength = 1              Conjur : Religi =      9.0 : 1.0\n",
      "                    come = 4              Resist : Religi =      9.0 : 1.0\n",
      "                    hand = 2              Christ : Religi =      9.0 : 1.0\n",
      "                     way = 1              Spirit : Litera =      8.9 : 1.0\n",
      "                   woman = None           Heaven : Marria =      8.9 : 1.0\n",
      "                   sweet = 1              Funera : Religi =      8.8 : 1.0\n",
      "                  across = 1              Conjur : Religi =      8.8 : 1.0\n",
      "                   carry = 1              Conjur : Religi =      8.8 : 1.0\n",
      "              permission = 2              Baptis : Religi =      8.8 : 1.0\n",
      "                   tried = 2              Conjur : Religi =      8.8 : 1.0\n"
     ]
    }
   ],
   "source": [
    "# classifier.show_most_informative_features(n=100)\n",
    "# #TODO: add in word counts as another feature"
   ]
  }
 ],
 "metadata": {
  "kernelspec": {
   "display_name": "Python 3 (ipykernel)",
   "language": "python",
   "name": "python3"
  },
  "language_info": {
   "codemirror_mode": {
    "name": "ipython",
    "version": 3
   },
   "file_extension": ".py",
   "mimetype": "text/x-python",
   "name": "python",
   "nbconvert_exporter": "python",
   "pygments_lexer": "ipython3",
   "version": "3.10.2"
  },
  "vscode": {
   "interpreter": {
    "hash": "aee8b7b246df8f9039afb4144a1f6fd8d2ca17a180786b69acc140d282b71a49"
   }
  }
 },
 "nbformat": 4,
 "nbformat_minor": 4
}
